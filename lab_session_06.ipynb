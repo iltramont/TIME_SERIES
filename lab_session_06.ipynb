{
 "cells": [
  {
   "cell_type": "markdown",
   "source": [
    "# The perceptron (1)\n",
    "<img title=\"perceptron\" alt=\"perceptron\" src=\"perceptron.png\">"
   ],
   "metadata": {
    "collapsed": false
   },
   "id": "a67581c1a9666cea"
  },
  {
   "cell_type": "code",
   "outputs": [],
   "source": [
    "import numpy as np\n",
    "import pandas as pd\n",
    "import matplotlib.pyplot as plt\n",
    "\n",
    "from sklearn.datasets import make_classification\n",
    "from sklearn.model_selection import cross_val_score\n",
    "from sklearn.model_selection import RepeatedStratifiedKFold\n",
    "from sklearn.linear_model import Perceptron\n",
    "from sklearn.preprocessing import MinMaxScaler\n",
    "\n",
    "from keras.models import Sequential\n",
    "from keras.layers import Dense\n",
    "from keras.utils import plot_model\n",
    "from keras.layers import LSTM, SimpleRNN, Dropout, GRU, Bidirectional\n",
    "from keras.optimizers import SGD\n",
    "from sklearn import metrics\n",
    "from sklearn.metrics import mean_squared_error\n",
    "import tensorflow as tf\n",
    "\n",
    "import yfinance as yf\n",
    "import datetime as dt\n",
    "import math"
   ],
   "metadata": {
    "collapsed": false,
    "ExecuteTime": {
     "end_time": "2024-06-27T16:30:16.148888Z",
     "start_time": "2024-06-27T16:30:16.130360Z"
    }
   },
   "id": "de8bda80cff7a5f9",
   "execution_count": 82
  },
  {
   "cell_type": "code",
   "outputs": [],
   "source": [
    "def unit_step(x: float | int) -> float:\n",
    "    if x > 0:\n",
    "        return 1.0\n",
    "    else:\n",
    "        return 0.0\n",
    "    \n",
    "def perceptron(x: np.ndarray, w: np.ndarray, bias: float) -> float:\n",
    "    return unit_step(bias + np.dot(x, w))"
   ],
   "metadata": {
    "collapsed": false,
    "ExecuteTime": {
     "end_time": "2024-06-27T15:01:09.115309Z",
     "start_time": "2024-06-27T15:01:09.102068Z"
    }
   },
   "id": "581e5dc4e03ff161",
   "execution_count": 3
  },
  {
   "cell_type": "code",
   "outputs": [],
   "source": [
    "# Logical functions\n",
    "\n",
    "def NOT_percep(x):\n",
    "    # Note: differently from the slide, on a\n",
    "    # For Python code is better to consider b = 0.5\n",
    "    return perceptron(x, w=np.array(-1), bias=0.5)\n",
    "\n",
    "def AND_percep(x):\n",
    "    w = np.array([1.0, 1.0])\n",
    "    b = -1.0\n",
    "    return perceptron(x, w, b)\n",
    "\n",
    "\n",
    "def OR_percep(x):\n",
    "    w = np.array([1.0, 1.0])\n",
    "    b = -0.5\n",
    "    return perceptron(x, w, b)"
   ],
   "metadata": {
    "collapsed": false,
    "ExecuteTime": {
     "end_time": "2024-06-27T15:01:09.131023Z",
     "start_time": "2024-06-27T15:01:09.117300Z"
    }
   },
   "id": "facf2f7f453d9cec",
   "execution_count": 4
  },
  {
   "cell_type": "code",
   "outputs": [
    {
     "name": "stdout",
     "output_type": "stream",
     "text": [
      "NOT(0) = 1.0\n",
      "NOT(1) = 0.0\n",
      "AND(1, 1) = 1.0\n",
      "AND(1, 0) = 0.0\n",
      "AND(0, 1) = 0.0\n",
      "AND(0, 0) = 0.0\n",
      "OR(1, 1) = 1.0\n",
      "OR(1, 0) = 1.0\n",
      "OR(0, 1) = 1.0\n",
      "OR(0, 0) = 0.0\n"
     ]
    }
   ],
   "source": [
    "# Test\n",
    "example1 = np.array([1, 1])\n",
    "example2 = np.array([1, 0])\n",
    "example3 = np.array([0, 1])\n",
    "example4 = np.array([0, 0])\n",
    "\n",
    "\n",
    "print(\"NOT(0) = {}\".format(NOT_percep(0)))\n",
    "print(\"NOT(1) = {}\".format(NOT_percep(1)))\n",
    "\n",
    "print(\"AND({}, {}) = {}\".format(1, 1, AND_percep(example1)))\n",
    "print(\"AND({}, {}) = {}\".format(1, 0, AND_percep(example2)))\n",
    "print(\"AND({}, {}) = {}\".format(0, 1, AND_percep(example3)))\n",
    "print(\"AND({}, {}) = {}\".format(0, 0, AND_percep(example4)))\n",
    "\n",
    "print(\"OR({}, {}) = {}\".format(1, 1, OR_percep(example1)))\n",
    "print(\"OR({}, {}) = {}\".format(1, 0, OR_percep(example2)))\n",
    "print(\"OR({}, {}) = {}\".format(0, 1, OR_percep(example3)))\n",
    "print(\"OR({}, {}) = {}\".format(0, 0, OR_percep(example4)))"
   ],
   "metadata": {
    "collapsed": false,
    "ExecuteTime": {
     "end_time": "2024-06-27T15:01:09.163036Z",
     "start_time": "2024-06-27T15:01:09.134023Z"
    }
   },
   "id": "2d4731ac021a401c",
   "execution_count": 5
  },
  {
   "cell_type": "markdown",
   "source": [
    "# Perceptron (2)\n",
    "Evaluate a perceptron model on the dataset"
   ],
   "metadata": {
    "collapsed": false
   },
   "id": "928736a8b874bb46"
  },
  {
   "cell_type": "code",
   "outputs": [
    {
     "name": "stdout",
     "output_type": "stream",
     "text": [
      "Mean Accuracy: 0.847 (0.052)\n"
     ]
    }
   ],
   "source": [
    "# define dataset\n",
    "X, y = make_classification(n_samples=1000, n_features=10, n_informative=10, n_redundant=0, random_state=1)\n",
    "\n",
    "# Initialize model\n",
    "model = Perceptron()\n",
    "\n",
    "# Define model evaluation method\n",
    "cv = RepeatedStratifiedKFold(n_splits=10, n_repeats=3, random_state=1)\n",
    "\n",
    "# Evaluate model\n",
    "scores = cross_val_score(model, X, y, scoring='accuracy', cv=cv, n_jobs=-1)\n",
    "\n",
    "# Summarize result\n",
    "print('Mean Accuracy: %.3f (%.3f)' % (np.mean(scores), np.std(scores)))"
   ],
   "metadata": {
    "collapsed": false,
    "ExecuteTime": {
     "end_time": "2024-06-27T15:01:11.662436Z",
     "start_time": "2024-06-27T15:01:09.164998Z"
    }
   },
   "id": "a6f968bd2d97f8b6",
   "execution_count": 6
  },
  {
   "cell_type": "markdown",
   "source": [
    "# Perceptron 3\n",
    "make a prediction with a perceptron model on the dataset"
   ],
   "metadata": {
    "collapsed": false
   },
   "id": "9242484b08c77ab4"
  },
  {
   "cell_type": "code",
   "outputs": [
    {
     "name": "stdout",
     "output_type": "stream",
     "text": [
      "Predicted Class: 1\n"
     ]
    }
   ],
   "source": [
    "# define dataset\n",
    "X, y = make_classification(n_samples=1000, n_features=10, n_informative=10, n_redundant=0, random_state=1)\n",
    "\n",
    "# Initialize model\n",
    "model = Perceptron()\n",
    "\n",
    "# Fit model\n",
    "model.fit(X, y)\n",
    "\n",
    "# Generate randm row\n",
    "row = [0.12777556,-3.64400522,-2.23268854,-1.82114386,1.75466361,0.1243966,1.03397657,2.35822076,1.01001752,0.56768485]\n",
    "\n",
    "# Make prediction\n",
    "y_hat = model.predict([row])\n",
    "\n",
    "# Summarize prediction\n",
    "print('Predicted Class: %d' % y_hat[0])"
   ],
   "metadata": {
    "collapsed": false,
    "ExecuteTime": {
     "end_time": "2024-06-27T15:01:11.677687Z",
     "start_time": "2024-06-27T15:01:11.663362Z"
    }
   },
   "id": "7b56e94bf26cfe45",
   "execution_count": 7
  },
  {
   "cell_type": "markdown",
   "source": [
    "# Forward Propagation\n",
    "\n",
    "The goal of the lab consists of building a neural network from zero.\n",
    "Specifically, we want to perform a prediction task using forward propagation.\n",
    "\n",
    "<img src=\"ann.png\">\n",
    "\n",
    "This neural network will produce predictions through the forward propagation process. The architecture is the following:\n",
    "It takes two inputs;\n",
    "It has one hidden layer with two nodes, and \n",
    "an output layer with one node.\n",
    "\n",
    "During the first step, the weights and the biases in the network are initialized randomly.\n",
    "We have 6 weights and 3 biases, one for each node in the hidden layer as well as for each node in the output layer."
   ],
   "metadata": {
    "collapsed": false
   },
   "id": "1f842519aea853ad"
  },
  {
   "cell_type": "code",
   "outputs": [
    {
     "name": "stdout",
     "output_type": "stream",
     "text": [
      "[0.42 0.77 0.2  0.58 0.88 0.13]\n",
      "[0.06 0.96 0.9 ]\n"
     ]
    }
   ],
   "source": [
    "import numpy as np # import Numpy library to generate \n",
    "\n",
    "weights = np.around(np.random.uniform(size=6), decimals=2) # initialize the weights\n",
    "biases = np.around(np.random.uniform(size=3), decimals=2) # initialize the biases\n",
    "\n",
    "print(weights)\n",
    "print(biases)"
   ],
   "metadata": {
    "collapsed": false,
    "ExecuteTime": {
     "end_time": "2024-06-27T15:01:11.708086Z",
     "start_time": "2024-06-27T15:01:11.679740Z"
    }
   },
   "id": "20a61928574aa32a",
   "execution_count": 8
  },
  {
   "cell_type": "code",
   "outputs": [
    {
     "name": "stdout",
     "output_type": "stream",
     "text": [
      "x1 is 0.5 and x2 is 0.85\n",
      "The weighted sum of the inputs at the first node in the hidden layer is 0.9244999999999999\n",
      "The weighted sum of the inputs at the second node in the hidden layer is 1.553\n",
      "The activation of the first node in the hidden layer is 0.716\n",
      "The activation of the second node in the hidden layer is 0.8253\n",
      "The weighted sum of the inputs at the node in the output layer is 1.6373\n",
      "The output of the network for x1 = 0.5 and x2 = 0.85 is 0.8372\n"
     ]
    }
   ],
   "source": [
    "x_1 = 0.5 # input 1\n",
    "x_2 = 0.85 # input 2\n",
    "\n",
    "print('x1 is', x_1, 'and x2 is', x_2)\n",
    "\n",
    "z_11 = x_1 * weights[0] + x_2 * weights[1] + biases[0]\n",
    "\n",
    "print('The weighted sum of the inputs at the first node in the hidden layer is', z_11)\n",
    "\n",
    "z_12 = x_1 * weights[2] + x_2 * weights[3] + biases[1]\n",
    "\n",
    "print('The weighted sum of the inputs at the second node in the hidden layer is', np.around(z_12, decimals=4))\n",
    "\n",
    "# Sigmoid\n",
    "a_11 = 1.0 / (1.0 + np.exp(-z_11))\n",
    "\n",
    "print('The activation of the first node in the hidden layer is {}'.format(np.around(a_11, decimals=4)))\n",
    "\n",
    "# Sigmoid\n",
    "a_12 = 1.0 / (1.0 + np.exp(-z_12))\n",
    "\n",
    "print('The activation of the second node in the hidden layer is', np.around(a_12, decimals=4))\n",
    "\n",
    "### Calculate the weighted sum\n",
    "z_2 = a_11 * weights[4] + a_12 * weights[5] + biases[2]\n",
    "\n",
    "print('The weighted sum of the inputs at the node in the output layer is', np.around(z_2, decimals=4))\n",
    "\n",
    "### AGain, calculate the sigmoid\n",
    "\n",
    "a_2 = 1.0 / (1.0 + np.exp(-z_2))\n",
    "\n",
    "print('The output of the network for x1 = 0.5 and x2 = 0.85 is', np.around(a_2, decimals=4))"
   ],
   "metadata": {
    "collapsed": false,
    "ExecuteTime": {
     "end_time": "2024-06-27T15:01:11.723335Z",
     "start_time": "2024-06-27T15:01:11.710100Z"
    }
   },
   "id": "958f6355b7a6409f",
   "execution_count": 9
  },
  {
   "cell_type": "code",
   "outputs": [
    {
     "name": "stdout",
     "output_type": "stream",
     "text": [
      "x = array([0.5 , 0.85])\n",
      "W_1 = array([[0.42, 0.77],\n",
      "       [0.2 , 0.58]])\n",
      "W_2 = array([0.88, 0.13])\n",
      "b_1 = array([0.06, 0.96])\n",
      "b_2 = array([0.9])\n",
      "sigmoid(W_1 @ x + b_1) = array([0.71595812, 0.8253466 ])\n",
      "sigmoid(W_2 @ sigmoid(W_1 @ x + b_1) + b_2) = array([0.83717242])\n"
     ]
    }
   ],
   "source": [
    "# We can do calculations in a better way\n",
    "\n",
    "def sigmoid(x):\n",
    "    return 1.0 / (1.0 + np.exp(-x))\n",
    "\n",
    "x = np.array((x_1, x_2))\n",
    "W_1 = weights[:4].reshape(2, 2)\n",
    "W_2 = weights[4:]\n",
    "b_1 = biases[:2]\n",
    "b_2 = biases[2:]\n",
    "print(f'{x = }')\n",
    "print(f'{W_1 = }')\n",
    "print(f'{W_2 = }')\n",
    "print(f'{b_1 = }')\n",
    "print(f'{b_2 = }')\n",
    "\n",
    "print(f'{sigmoid(W_1 @ x + b_1) = }')\n",
    "print(f'{sigmoid(W_2 @ sigmoid(W_1 @ x + b_1) + b_2) = }')"
   ],
   "metadata": {
    "collapsed": false,
    "ExecuteTime": {
     "end_time": "2024-06-27T15:01:11.739086Z",
     "start_time": "2024-06-27T15:01:11.725338Z"
    }
   },
   "id": "71c41f78ec0900e8",
   "execution_count": 10
  },
  {
   "cell_type": "markdown",
   "source": [
    "# ANN with Keras\n",
    "We will be playing around with the same dataset that we used in the videos.\n",
    "\n",
    "<strong>The dataset is about the compressive strength of different samples of concrete based on the volumes of the different ingredients that were used to make them. Ingredients include:</strong>\n",
    "\n",
    "<strong>1. Cement</strong>\n",
    "\n",
    "<strong>2. Blast Furnace Slag (Scorie d'altoforno)</strong>\n",
    "\n",
    "<strong>3. Fly Ash (Ceneri volanti, per migliorare la qualità del cemento)</strong>\n",
    "\n",
    "<strong>4. Water</strong>\n",
    "\n",
    "<strong>5. Superplasticizer</strong>\n",
    "\n",
    "<strong>6. Coarse Aggregate</strong>\n",
    "\n",
    "<strong>7. Fine Aggregate</strong>"
   ],
   "metadata": {
    "collapsed": false
   },
   "id": "a2fee01d7bef3384"
  },
  {
   "cell_type": "code",
   "outputs": [
    {
     "name": "stdout",
     "output_type": "stream",
     "text": [
      "concrete_data.shape = (1030, 9)\n"
     ]
    }
   ],
   "source": [
    "concrete_data = pd.read_csv('datasets/concrete_data.csv')\n",
    "print(f'{concrete_data.shape = }')"
   ],
   "metadata": {
    "collapsed": false,
    "ExecuteTime": {
     "end_time": "2024-06-27T15:02:06.833183Z",
     "start_time": "2024-06-27T15:02:06.806151Z"
    }
   },
   "id": "1b683ebed8094e90",
   "execution_count": 14
  },
  {
   "cell_type": "markdown",
   "source": [
    "So, there are approximately 1000 samples to train our model on. Because of the few samples, we have to be careful not to overfit the training data.\n"
   ],
   "metadata": {
    "collapsed": false
   },
   "id": "6f575df16cd35ace"
  },
  {
   "cell_type": "code",
   "outputs": [
    {
     "data": {
      "text/plain": "   Cement  Blast Furnace Slag  Fly Ash  Water  Superplasticizer  \\\n0   540.0                 0.0      0.0  162.0               2.5   \n1   540.0                 0.0      0.0  162.0               2.5   \n2   332.5               142.5      0.0  228.0               0.0   \n3   332.5               142.5      0.0  228.0               0.0   \n4   198.6               132.4      0.0  192.0               0.0   \n\n   Coarse Aggregate  Fine Aggregate  Age  Strength  \n0            1040.0           676.0   28     79.99  \n1            1055.0           676.0   28     61.89  \n2             932.0           594.0  270     40.27  \n3             932.0           594.0  365     41.05  \n4             978.4           825.5  360     44.30  ",
      "text/html": "<div>\n<style scoped>\n    .dataframe tbody tr th:only-of-type {\n        vertical-align: middle;\n    }\n\n    .dataframe tbody tr th {\n        vertical-align: top;\n    }\n\n    .dataframe thead th {\n        text-align: right;\n    }\n</style>\n<table border=\"1\" class=\"dataframe\">\n  <thead>\n    <tr style=\"text-align: right;\">\n      <th></th>\n      <th>Cement</th>\n      <th>Blast Furnace Slag</th>\n      <th>Fly Ash</th>\n      <th>Water</th>\n      <th>Superplasticizer</th>\n      <th>Coarse Aggregate</th>\n      <th>Fine Aggregate</th>\n      <th>Age</th>\n      <th>Strength</th>\n    </tr>\n  </thead>\n  <tbody>\n    <tr>\n      <th>0</th>\n      <td>540.0</td>\n      <td>0.0</td>\n      <td>0.0</td>\n      <td>162.0</td>\n      <td>2.5</td>\n      <td>1040.0</td>\n      <td>676.0</td>\n      <td>28</td>\n      <td>79.99</td>\n    </tr>\n    <tr>\n      <th>1</th>\n      <td>540.0</td>\n      <td>0.0</td>\n      <td>0.0</td>\n      <td>162.0</td>\n      <td>2.5</td>\n      <td>1055.0</td>\n      <td>676.0</td>\n      <td>28</td>\n      <td>61.89</td>\n    </tr>\n    <tr>\n      <th>2</th>\n      <td>332.5</td>\n      <td>142.5</td>\n      <td>0.0</td>\n      <td>228.0</td>\n      <td>0.0</td>\n      <td>932.0</td>\n      <td>594.0</td>\n      <td>270</td>\n      <td>40.27</td>\n    </tr>\n    <tr>\n      <th>3</th>\n      <td>332.5</td>\n      <td>142.5</td>\n      <td>0.0</td>\n      <td>228.0</td>\n      <td>0.0</td>\n      <td>932.0</td>\n      <td>594.0</td>\n      <td>365</td>\n      <td>41.05</td>\n    </tr>\n    <tr>\n      <th>4</th>\n      <td>198.6</td>\n      <td>132.4</td>\n      <td>0.0</td>\n      <td>192.0</td>\n      <td>0.0</td>\n      <td>978.4</td>\n      <td>825.5</td>\n      <td>360</td>\n      <td>44.30</td>\n    </tr>\n  </tbody>\n</table>\n</div>"
     },
     "metadata": {},
     "output_type": "display_data"
    }
   ],
   "source": [
    "display(concrete_data.head())"
   ],
   "metadata": {
    "collapsed": false,
    "ExecuteTime": {
     "end_time": "2024-06-27T15:02:31.121418Z",
     "start_time": "2024-06-27T15:02:31.098491Z"
    }
   },
   "id": "3ede8dc5f53ded3c",
   "execution_count": 16
  },
  {
   "cell_type": "code",
   "outputs": [
    {
     "data": {
      "text/plain": "            Cement  Blast Furnace Slag      Fly Ash        Water  \\\ncount  1030.000000         1030.000000  1030.000000  1030.000000   \nmean    281.167864           73.895825    54.188350   181.567282   \nstd     104.506364           86.279342    63.997004    21.354219   \nmin     102.000000            0.000000     0.000000   121.800000   \n25%     192.375000            0.000000     0.000000   164.900000   \n50%     272.900000           22.000000     0.000000   185.000000   \n75%     350.000000          142.950000   118.300000   192.000000   \nmax     540.000000          359.400000   200.100000   247.000000   \n\n       Superplasticizer  Coarse Aggregate  Fine Aggregate          Age  \\\ncount       1030.000000       1030.000000     1030.000000  1030.000000   \nmean           6.204660        972.918932      773.580485    45.662136   \nstd            5.973841         77.753954       80.175980    63.169912   \nmin            0.000000        801.000000      594.000000     1.000000   \n25%            0.000000        932.000000      730.950000     7.000000   \n50%            6.400000        968.000000      779.500000    28.000000   \n75%           10.200000       1029.400000      824.000000    56.000000   \nmax           32.200000       1145.000000      992.600000   365.000000   \n\n          Strength  \ncount  1030.000000  \nmean     35.817961  \nstd      16.705742  \nmin       2.330000  \n25%      23.710000  \n50%      34.445000  \n75%      46.135000  \nmax      82.600000  ",
      "text/html": "<div>\n<style scoped>\n    .dataframe tbody tr th:only-of-type {\n        vertical-align: middle;\n    }\n\n    .dataframe tbody tr th {\n        vertical-align: top;\n    }\n\n    .dataframe thead th {\n        text-align: right;\n    }\n</style>\n<table border=\"1\" class=\"dataframe\">\n  <thead>\n    <tr style=\"text-align: right;\">\n      <th></th>\n      <th>Cement</th>\n      <th>Blast Furnace Slag</th>\n      <th>Fly Ash</th>\n      <th>Water</th>\n      <th>Superplasticizer</th>\n      <th>Coarse Aggregate</th>\n      <th>Fine Aggregate</th>\n      <th>Age</th>\n      <th>Strength</th>\n    </tr>\n  </thead>\n  <tbody>\n    <tr>\n      <th>count</th>\n      <td>1030.000000</td>\n      <td>1030.000000</td>\n      <td>1030.000000</td>\n      <td>1030.000000</td>\n      <td>1030.000000</td>\n      <td>1030.000000</td>\n      <td>1030.000000</td>\n      <td>1030.000000</td>\n      <td>1030.000000</td>\n    </tr>\n    <tr>\n      <th>mean</th>\n      <td>281.167864</td>\n      <td>73.895825</td>\n      <td>54.188350</td>\n      <td>181.567282</td>\n      <td>6.204660</td>\n      <td>972.918932</td>\n      <td>773.580485</td>\n      <td>45.662136</td>\n      <td>35.817961</td>\n    </tr>\n    <tr>\n      <th>std</th>\n      <td>104.506364</td>\n      <td>86.279342</td>\n      <td>63.997004</td>\n      <td>21.354219</td>\n      <td>5.973841</td>\n      <td>77.753954</td>\n      <td>80.175980</td>\n      <td>63.169912</td>\n      <td>16.705742</td>\n    </tr>\n    <tr>\n      <th>min</th>\n      <td>102.000000</td>\n      <td>0.000000</td>\n      <td>0.000000</td>\n      <td>121.800000</td>\n      <td>0.000000</td>\n      <td>801.000000</td>\n      <td>594.000000</td>\n      <td>1.000000</td>\n      <td>2.330000</td>\n    </tr>\n    <tr>\n      <th>25%</th>\n      <td>192.375000</td>\n      <td>0.000000</td>\n      <td>0.000000</td>\n      <td>164.900000</td>\n      <td>0.000000</td>\n      <td>932.000000</td>\n      <td>730.950000</td>\n      <td>7.000000</td>\n      <td>23.710000</td>\n    </tr>\n    <tr>\n      <th>50%</th>\n      <td>272.900000</td>\n      <td>22.000000</td>\n      <td>0.000000</td>\n      <td>185.000000</td>\n      <td>6.400000</td>\n      <td>968.000000</td>\n      <td>779.500000</td>\n      <td>28.000000</td>\n      <td>34.445000</td>\n    </tr>\n    <tr>\n      <th>75%</th>\n      <td>350.000000</td>\n      <td>142.950000</td>\n      <td>118.300000</td>\n      <td>192.000000</td>\n      <td>10.200000</td>\n      <td>1029.400000</td>\n      <td>824.000000</td>\n      <td>56.000000</td>\n      <td>46.135000</td>\n    </tr>\n    <tr>\n      <th>max</th>\n      <td>540.000000</td>\n      <td>359.400000</td>\n      <td>200.100000</td>\n      <td>247.000000</td>\n      <td>32.200000</td>\n      <td>1145.000000</td>\n      <td>992.600000</td>\n      <td>365.000000</td>\n      <td>82.600000</td>\n    </tr>\n  </tbody>\n</table>\n</div>"
     },
     "metadata": {},
     "output_type": "display_data"
    }
   ],
   "source": [
    "display(concrete_data.describe())"
   ],
   "metadata": {
    "collapsed": false,
    "ExecuteTime": {
     "end_time": "2024-06-27T15:03:21.660120Z",
     "start_time": "2024-06-27T15:03:21.621820Z"
    }
   },
   "id": "471e4b823a19f979",
   "execution_count": 18
  },
  {
   "cell_type": "markdown",
   "source": [
    "So the first concrete sample has 540 cubic meter of cement, 0 cubic meter of blast furnace slag, 0 cubic meter of fly ash, 162 cubic meter of water, 2.5 cubic meter of superplaticizer, 1040 cubic meter of coarse aggregate, 676 cubic meter of fine aggregate. Such a concrete mix which is 28 days old, has a compressive strength of 79.99 MPa. "
   ],
   "metadata": {
    "collapsed": false
   },
   "id": "6206fcd41e2b8702"
  },
  {
   "cell_type": "code",
   "outputs": [
    {
     "name": "stdout",
     "output_type": "stream",
     "text": [
      "Cement                0\n",
      "Blast Furnace Slag    0\n",
      "Fly Ash               0\n",
      "Water                 0\n",
      "Superplasticizer      0\n",
      "Coarse Aggregate      0\n",
      "Fine Aggregate        0\n",
      "Age                   0\n",
      "Strength              0\n",
      "dtype: int64\n"
     ]
    }
   ],
   "source": [
    "print(concrete_data.isnull().sum())"
   ],
   "metadata": {
    "collapsed": false,
    "ExecuteTime": {
     "end_time": "2024-06-27T15:06:09.778479Z",
     "start_time": "2024-06-27T15:06:09.757247Z"
    }
   },
   "id": "d255170021b6c6e8",
   "execution_count": 21
  },
  {
   "cell_type": "markdown",
   "source": [
    "The data looks very clean and is ready to be used to build our model."
   ],
   "metadata": {
    "collapsed": false
   },
   "id": "8d5db9021c611bd4"
  },
  {
   "cell_type": "code",
   "outputs": [
    {
     "data": {
      "text/plain": "   Cement  Blast Furnace Slag  Fly Ash  Water  Superplasticizer  \\\n0   540.0                 0.0      0.0  162.0               2.5   \n1   540.0                 0.0      0.0  162.0               2.5   \n2   332.5               142.5      0.0  228.0               0.0   \n3   332.5               142.5      0.0  228.0               0.0   \n4   198.6               132.4      0.0  192.0               0.0   \n\n   Coarse Aggregate  Fine Aggregate  Age  \n0            1040.0           676.0   28  \n1            1055.0           676.0   28  \n2             932.0           594.0  270  \n3             932.0           594.0  365  \n4             978.4           825.5  360  ",
      "text/html": "<div>\n<style scoped>\n    .dataframe tbody tr th:only-of-type {\n        vertical-align: middle;\n    }\n\n    .dataframe tbody tr th {\n        vertical-align: top;\n    }\n\n    .dataframe thead th {\n        text-align: right;\n    }\n</style>\n<table border=\"1\" class=\"dataframe\">\n  <thead>\n    <tr style=\"text-align: right;\">\n      <th></th>\n      <th>Cement</th>\n      <th>Blast Furnace Slag</th>\n      <th>Fly Ash</th>\n      <th>Water</th>\n      <th>Superplasticizer</th>\n      <th>Coarse Aggregate</th>\n      <th>Fine Aggregate</th>\n      <th>Age</th>\n    </tr>\n  </thead>\n  <tbody>\n    <tr>\n      <th>0</th>\n      <td>540.0</td>\n      <td>0.0</td>\n      <td>0.0</td>\n      <td>162.0</td>\n      <td>2.5</td>\n      <td>1040.0</td>\n      <td>676.0</td>\n      <td>28</td>\n    </tr>\n    <tr>\n      <th>1</th>\n      <td>540.0</td>\n      <td>0.0</td>\n      <td>0.0</td>\n      <td>162.0</td>\n      <td>2.5</td>\n      <td>1055.0</td>\n      <td>676.0</td>\n      <td>28</td>\n    </tr>\n    <tr>\n      <th>2</th>\n      <td>332.5</td>\n      <td>142.5</td>\n      <td>0.0</td>\n      <td>228.0</td>\n      <td>0.0</td>\n      <td>932.0</td>\n      <td>594.0</td>\n      <td>270</td>\n    </tr>\n    <tr>\n      <th>3</th>\n      <td>332.5</td>\n      <td>142.5</td>\n      <td>0.0</td>\n      <td>228.0</td>\n      <td>0.0</td>\n      <td>932.0</td>\n      <td>594.0</td>\n      <td>365</td>\n    </tr>\n    <tr>\n      <th>4</th>\n      <td>198.6</td>\n      <td>132.4</td>\n      <td>0.0</td>\n      <td>192.0</td>\n      <td>0.0</td>\n      <td>978.4</td>\n      <td>825.5</td>\n      <td>360</td>\n    </tr>\n  </tbody>\n</table>\n</div>"
     },
     "metadata": {},
     "output_type": "display_data"
    },
    {
     "data": {
      "text/plain": "0    79.99\n1    61.89\n2    40.27\n3    41.05\n4    44.30\nName: Strength, dtype: float64"
     },
     "metadata": {},
     "output_type": "display_data"
    }
   ],
   "source": [
    "# Divide X and y\n",
    "concrete_data_columns = concrete_data.columns\n",
    "\n",
    "predictors = concrete_data[concrete_data_columns[concrete_data_columns != 'Strength']] # all columns except Strength\n",
    "target = concrete_data['Strength'] # Strength column\n",
    "\n",
    "display(predictors.head())\n",
    "display(target.head())"
   ],
   "metadata": {
    "collapsed": false,
    "ExecuteTime": {
     "end_time": "2024-06-27T15:11:58.916643Z",
     "start_time": "2024-06-27T15:11:58.896948Z"
    }
   },
   "id": "a72f65712a128408",
   "execution_count": 25
  },
  {
   "cell_type": "code",
   "outputs": [
    {
     "data": {
      "text/plain": "     Cement  Blast Furnace Slag   Fly Ash     Water  Superplasticizer  \\\n0  2.476712           -0.856472 -0.846733 -0.916319         -0.620147   \n1  2.476712           -0.856472 -0.846733 -0.916319         -0.620147   \n2  0.491187            0.795140 -0.846733  2.174405         -1.038638   \n3  0.491187            0.795140 -0.846733  2.174405         -1.038638   \n4 -0.790075            0.678079 -0.846733  0.488555         -1.038638   \n\n   Coarse Aggregate  Fine Aggregate       Age  \n0          0.862735       -1.217079 -0.279597  \n1          1.055651       -1.217079 -0.279597  \n2         -0.526262       -2.239829  3.551340  \n3         -0.526262       -2.239829  5.055221  \n4          0.070492        0.647569  4.976069  ",
      "text/html": "<div>\n<style scoped>\n    .dataframe tbody tr th:only-of-type {\n        vertical-align: middle;\n    }\n\n    .dataframe tbody tr th {\n        vertical-align: top;\n    }\n\n    .dataframe thead th {\n        text-align: right;\n    }\n</style>\n<table border=\"1\" class=\"dataframe\">\n  <thead>\n    <tr style=\"text-align: right;\">\n      <th></th>\n      <th>Cement</th>\n      <th>Blast Furnace Slag</th>\n      <th>Fly Ash</th>\n      <th>Water</th>\n      <th>Superplasticizer</th>\n      <th>Coarse Aggregate</th>\n      <th>Fine Aggregate</th>\n      <th>Age</th>\n    </tr>\n  </thead>\n  <tbody>\n    <tr>\n      <th>0</th>\n      <td>2.476712</td>\n      <td>-0.856472</td>\n      <td>-0.846733</td>\n      <td>-0.916319</td>\n      <td>-0.620147</td>\n      <td>0.862735</td>\n      <td>-1.217079</td>\n      <td>-0.279597</td>\n    </tr>\n    <tr>\n      <th>1</th>\n      <td>2.476712</td>\n      <td>-0.856472</td>\n      <td>-0.846733</td>\n      <td>-0.916319</td>\n      <td>-0.620147</td>\n      <td>1.055651</td>\n      <td>-1.217079</td>\n      <td>-0.279597</td>\n    </tr>\n    <tr>\n      <th>2</th>\n      <td>0.491187</td>\n      <td>0.795140</td>\n      <td>-0.846733</td>\n      <td>2.174405</td>\n      <td>-1.038638</td>\n      <td>-0.526262</td>\n      <td>-2.239829</td>\n      <td>3.551340</td>\n    </tr>\n    <tr>\n      <th>3</th>\n      <td>0.491187</td>\n      <td>0.795140</td>\n      <td>-0.846733</td>\n      <td>2.174405</td>\n      <td>-1.038638</td>\n      <td>-0.526262</td>\n      <td>-2.239829</td>\n      <td>5.055221</td>\n    </tr>\n    <tr>\n      <th>4</th>\n      <td>-0.790075</td>\n      <td>0.678079</td>\n      <td>-0.846733</td>\n      <td>0.488555</td>\n      <td>-1.038638</td>\n      <td>0.070492</td>\n      <td>0.647569</td>\n      <td>4.976069</td>\n    </tr>\n  </tbody>\n</table>\n</div>"
     },
     "execution_count": 26,
     "metadata": {},
     "output_type": "execute_result"
    }
   ],
   "source": [
    "# Scale data\n",
    "predictors_norm = (predictors - predictors.mean()) / predictors.std()\n",
    "display(predictors_norm.head())"
   ],
   "metadata": {
    "collapsed": false,
    "ExecuteTime": {
     "end_time": "2024-06-27T15:12:36.368799Z",
     "start_time": "2024-06-27T15:12:36.350492Z"
    }
   },
   "id": "2c05d3dea3fe46de",
   "execution_count": 26
  },
  {
   "cell_type": "markdown",
   "source": [
    "# Build neural network\n",
    "\n",
    "Let's define a function that defines our regression model for us so that we can conveniently call it to create our model.\n",
    "\n",
    "# Note\n",
    "In Keras, the input layer itself is not a layer, but a tensor (we will discuss tensors in the next lecture). This tensor must have the same shape as your training data. Example: if you have 30 images of 50x50 pixels in RGB (3 channels), the shape of your input data is (30,50,50,3)\n",
    "\n",
    "<b>In our case, n_cols must be initialized to the number of predictors</b>\n"
   ],
   "metadata": {
    "collapsed": false
   },
   "id": "65423b83b5ee1b92"
  },
  {
   "cell_type": "code",
   "outputs": [
    {
     "name": "stdout",
     "output_type": "stream",
     "text": [
      "n_cols = 8\n"
     ]
    }
   ],
   "source": [
    "# define regression model\n",
    "n_cols = predictors_norm.shape[1] # number of predictors\n",
    "print(f'{n_cols = }')\n",
    "\n",
    "def regression_model():\n",
    "    # create model\n",
    "    model = Sequential()\n",
    "    model.add(Dense(50, activation='relu', input_shape=(n_cols,)))\n",
    "    model.add(Dense(50, activation='relu'))\n",
    "    model.add(Dense(1))\n",
    "    \n",
    "    # compile model\n",
    "    model.compile(optimizer='adam', loss='mean_squared_error')\n",
    "    return model"
   ],
   "metadata": {
    "collapsed": false,
    "ExecuteTime": {
     "end_time": "2024-06-27T15:50:30.327973Z",
     "start_time": "2024-06-27T15:50:30.314916Z"
    }
   },
   "id": "df098968e9254a8a",
   "execution_count": 29
  },
  {
   "cell_type": "code",
   "outputs": [
    {
     "name": "stdout",
     "output_type": "stream",
     "text": [
      "Model: \"sequential_2\"\n",
      "_________________________________________________________________\n",
      " Layer (type)                Output Shape              Param #   \n",
      "=================================================================\n",
      " dense_6 (Dense)             (None, 50)                450       \n",
      "                                                                 \n",
      " dense_7 (Dense)             (None, 50)                2550      \n",
      "                                                                 \n",
      " dense_8 (Dense)             (None, 1)                 51        \n",
      "                                                                 \n",
      "=================================================================\n",
      "Total params: 3051 (11.92 KB)\n",
      "Trainable params: 3051 (11.92 KB)\n",
      "Non-trainable params: 0 (0.00 Byte)\n",
      "_________________________________________________________________\n"
     ]
    }
   ],
   "source": [
    "model = regression_model()\n",
    "model.summary()"
   ],
   "metadata": {
    "collapsed": false,
    "ExecuteTime": {
     "end_time": "2024-06-27T15:56:27.101346Z",
     "start_time": "2024-06-27T15:56:27.023173Z"
    }
   },
   "id": "80239ef2ad332e6b",
   "execution_count": 38
  },
  {
   "cell_type": "code",
   "outputs": [
    {
     "name": "stdout",
     "output_type": "stream",
     "text": [
      "You must install pydot (`pip install pydot`) and install graphviz (see instructions at https://graphviz.gitlab.io/download/) for plot_model to work.\n"
     ]
    }
   ],
   "source": [
    "plot_model(model)"
   ],
   "metadata": {
    "collapsed": false,
    "ExecuteTime": {
     "end_time": "2024-06-27T15:56:27.864299Z",
     "start_time": "2024-06-27T15:56:27.844029Z"
    }
   },
   "id": "5f0dd4cf17883e8e",
   "execution_count": 39
  },
  {
   "cell_type": "markdown",
   "source": [
    "# Train and test network"
   ],
   "metadata": {
    "collapsed": false
   },
   "id": "d7fc85069fe49f4"
  },
  {
   "cell_type": "code",
   "outputs": [
    {
     "name": "stdout",
     "output_type": "stream",
     "text": [
      "Epoch 1/100\n",
      "23/23 - 1s - loss: 1671.6779 - val_loss: 1189.5118 - 796ms/epoch - 35ms/step\n",
      "Epoch 2/100\n",
      "23/23 - 0s - loss: 1565.7458 - val_loss: 1103.8325 - 103ms/epoch - 4ms/step\n",
      "Epoch 3/100\n",
      "23/23 - 0s - loss: 1380.9669 - val_loss: 957.9128 - 83ms/epoch - 4ms/step\n",
      "Epoch 4/100\n",
      "23/23 - 0s - loss: 1088.3525 - val_loss: 748.7414 - 96ms/epoch - 4ms/step\n",
      "Epoch 5/100\n",
      "23/23 - 0s - loss: 725.8071 - val_loss: 519.2925 - 95ms/epoch - 4ms/step\n",
      "Epoch 6/100\n",
      "23/23 - 0s - loss: 432.4219 - val_loss: 332.8972 - 88ms/epoch - 4ms/step\n",
      "Epoch 7/100\n",
      "23/23 - 0s - loss: 286.8087 - val_loss: 230.8341 - 86ms/epoch - 4ms/step\n",
      "Epoch 8/100\n",
      "23/23 - 0s - loss: 242.4886 - val_loss: 194.7405 - 81ms/epoch - 4ms/step\n",
      "Epoch 9/100\n",
      "23/23 - 0s - loss: 224.2908 - val_loss: 179.5577 - 91ms/epoch - 4ms/step\n",
      "Epoch 10/100\n",
      "23/23 - 0s - loss: 213.1011 - val_loss: 171.2583 - 105ms/epoch - 5ms/step\n",
      "Epoch 11/100\n",
      "23/23 - 0s - loss: 203.0798 - val_loss: 166.8511 - 85ms/epoch - 4ms/step\n",
      "Epoch 12/100\n",
      "23/23 - 0s - loss: 195.8419 - val_loss: 158.7029 - 85ms/epoch - 4ms/step\n",
      "Epoch 13/100\n",
      "23/23 - 0s - loss: 188.3728 - val_loss: 157.5103 - 93ms/epoch - 4ms/step\n",
      "Epoch 14/100\n",
      "23/23 - 0s - loss: 183.1076 - val_loss: 153.7399 - 80ms/epoch - 3ms/step\n",
      "Epoch 15/100\n",
      "23/23 - 0s - loss: 178.0914 - val_loss: 146.7833 - 87ms/epoch - 4ms/step\n",
      "Epoch 16/100\n",
      "23/23 - 0s - loss: 173.6746 - val_loss: 144.7554 - 94ms/epoch - 4ms/step\n",
      "Epoch 17/100\n",
      "23/23 - 0s - loss: 169.1326 - val_loss: 144.1277 - 103ms/epoch - 4ms/step\n",
      "Epoch 18/100\n",
      "23/23 - 0s - loss: 165.7140 - val_loss: 143.8608 - 120ms/epoch - 5ms/step\n",
      "Epoch 19/100\n",
      "23/23 - 0s - loss: 162.0798 - val_loss: 140.2018 - 97ms/epoch - 4ms/step\n",
      "Epoch 20/100\n",
      "23/23 - 0s - loss: 159.2732 - val_loss: 140.5117 - 89ms/epoch - 4ms/step\n",
      "Epoch 21/100\n",
      "23/23 - 0s - loss: 157.0338 - val_loss: 138.4621 - 96ms/epoch - 4ms/step\n",
      "Epoch 22/100\n",
      "23/23 - 0s - loss: 154.4326 - val_loss: 137.1638 - 89ms/epoch - 4ms/step\n",
      "Epoch 23/100\n",
      "23/23 - 0s - loss: 152.0622 - val_loss: 137.5289 - 91ms/epoch - 4ms/step\n",
      "Epoch 24/100\n",
      "23/23 - 0s - loss: 149.4951 - val_loss: 138.6277 - 112ms/epoch - 5ms/step\n",
      "Epoch 25/100\n",
      "23/23 - 0s - loss: 148.3610 - val_loss: 136.4876 - 97ms/epoch - 4ms/step\n",
      "Epoch 26/100\n",
      "23/23 - 0s - loss: 145.1117 - val_loss: 135.3716 - 96ms/epoch - 4ms/step\n",
      "Epoch 27/100\n",
      "23/23 - 0s - loss: 143.6133 - val_loss: 135.6041 - 87ms/epoch - 4ms/step\n",
      "Epoch 28/100\n",
      "23/23 - 0s - loss: 141.5134 - val_loss: 136.5802 - 82ms/epoch - 4ms/step\n",
      "Epoch 29/100\n",
      "23/23 - 0s - loss: 139.1667 - val_loss: 134.0014 - 97ms/epoch - 4ms/step\n",
      "Epoch 30/100\n",
      "23/23 - 0s - loss: 137.0803 - val_loss: 134.9829 - 100ms/epoch - 4ms/step\n",
      "Epoch 31/100\n",
      "23/23 - 0s - loss: 135.4101 - val_loss: 134.5852 - 92ms/epoch - 4ms/step\n",
      "Epoch 32/100\n",
      "23/23 - 0s - loss: 132.8598 - val_loss: 131.1816 - 86ms/epoch - 4ms/step\n",
      "Epoch 33/100\n",
      "23/23 - 0s - loss: 131.1531 - val_loss: 132.4644 - 88ms/epoch - 4ms/step\n",
      "Epoch 34/100\n",
      "23/23 - 0s - loss: 128.6190 - val_loss: 132.7001 - 88ms/epoch - 4ms/step\n",
      "Epoch 35/100\n",
      "23/23 - 0s - loss: 126.7239 - val_loss: 129.9229 - 91ms/epoch - 4ms/step\n",
      "Epoch 36/100\n",
      "23/23 - 0s - loss: 125.0121 - val_loss: 131.8870 - 96ms/epoch - 4ms/step\n",
      "Epoch 37/100\n",
      "23/23 - 0s - loss: 122.3752 - val_loss: 131.3311 - 97ms/epoch - 4ms/step\n",
      "Epoch 38/100\n",
      "23/23 - 0s - loss: 119.7346 - val_loss: 129.5479 - 107ms/epoch - 5ms/step\n",
      "Epoch 39/100\n",
      "23/23 - 0s - loss: 117.5746 - val_loss: 130.4171 - 91ms/epoch - 4ms/step\n",
      "Epoch 40/100\n",
      "23/23 - 0s - loss: 114.6617 - val_loss: 130.1779 - 84ms/epoch - 4ms/step\n",
      "Epoch 41/100\n",
      "23/23 - 0s - loss: 111.9133 - val_loss: 129.2353 - 107ms/epoch - 5ms/step\n",
      "Epoch 42/100\n",
      "23/23 - 0s - loss: 108.8891 - val_loss: 128.4167 - 103ms/epoch - 4ms/step\n",
      "Epoch 43/100\n",
      "23/23 - 0s - loss: 106.4411 - val_loss: 129.0327 - 104ms/epoch - 5ms/step\n",
      "Epoch 44/100\n",
      "23/23 - 0s - loss: 104.1697 - val_loss: 126.0742 - 83ms/epoch - 4ms/step\n",
      "Epoch 45/100\n",
      "23/23 - 0s - loss: 100.9245 - val_loss: 127.3836 - 86ms/epoch - 4ms/step\n",
      "Epoch 46/100\n",
      "23/23 - 0s - loss: 99.0155 - val_loss: 123.5417 - 94ms/epoch - 4ms/step\n",
      "Epoch 47/100\n",
      "23/23 - 0s - loss: 96.5280 - val_loss: 123.0285 - 94ms/epoch - 4ms/step\n",
      "Epoch 48/100\n",
      "23/23 - 0s - loss: 93.6289 - val_loss: 121.7944 - 90ms/epoch - 4ms/step\n",
      "Epoch 49/100\n",
      "23/23 - 0s - loss: 91.2191 - val_loss: 121.7313 - 97ms/epoch - 4ms/step\n",
      "Epoch 50/100\n",
      "23/23 - 0s - loss: 88.6339 - val_loss: 120.1802 - 102ms/epoch - 4ms/step\n",
      "Epoch 51/100\n",
      "23/23 - 0s - loss: 86.2131 - val_loss: 114.2155 - 88ms/epoch - 4ms/step\n",
      "Epoch 52/100\n",
      "23/23 - 0s - loss: 83.8867 - val_loss: 116.3450 - 94ms/epoch - 4ms/step\n",
      "Epoch 53/100\n",
      "23/23 - 0s - loss: 81.5965 - val_loss: 111.3281 - 115ms/epoch - 5ms/step\n",
      "Epoch 54/100\n",
      "23/23 - 0s - loss: 79.1127 - val_loss: 112.5441 - 82ms/epoch - 4ms/step\n",
      "Epoch 55/100\n",
      "23/23 - 0s - loss: 76.8330 - val_loss: 108.3624 - 94ms/epoch - 4ms/step\n",
      "Epoch 56/100\n",
      "23/23 - 0s - loss: 75.3055 - val_loss: 107.7114 - 115ms/epoch - 5ms/step\n",
      "Epoch 57/100\n",
      "23/23 - 0s - loss: 72.9759 - val_loss: 104.1020 - 148ms/epoch - 6ms/step\n",
      "Epoch 58/100\n",
      "23/23 - 0s - loss: 71.0508 - val_loss: 108.2203 - 112ms/epoch - 5ms/step\n",
      "Epoch 59/100\n",
      "23/23 - 0s - loss: 69.2997 - val_loss: 106.6100 - 96ms/epoch - 4ms/step\n",
      "Epoch 60/100\n",
      "23/23 - 0s - loss: 67.0110 - val_loss: 97.6300 - 86ms/epoch - 4ms/step\n",
      "Epoch 61/100\n",
      "23/23 - 0s - loss: 65.8060 - val_loss: 106.0138 - 87ms/epoch - 4ms/step\n",
      "Epoch 62/100\n",
      "23/23 - 0s - loss: 63.8183 - val_loss: 99.6641 - 86ms/epoch - 4ms/step\n",
      "Epoch 63/100\n",
      "23/23 - 0s - loss: 60.9268 - val_loss: 96.6191 - 102ms/epoch - 4ms/step\n",
      "Epoch 64/100\n",
      "23/23 - 0s - loss: 58.8651 - val_loss: 97.4418 - 89ms/epoch - 4ms/step\n",
      "Epoch 65/100\n",
      "23/23 - 0s - loss: 57.6758 - val_loss: 96.1943 - 89ms/epoch - 4ms/step\n",
      "Epoch 66/100\n",
      "23/23 - 0s - loss: 56.2424 - val_loss: 95.8309 - 82ms/epoch - 4ms/step\n",
      "Epoch 67/100\n",
      "23/23 - 0s - loss: 55.3994 - val_loss: 99.8862 - 84ms/epoch - 4ms/step\n",
      "Epoch 68/100\n",
      "23/23 - 0s - loss: 53.9286 - val_loss: 97.6107 - 100ms/epoch - 4ms/step\n",
      "Epoch 69/100\n",
      "23/23 - 0s - loss: 52.5037 - val_loss: 93.7203 - 87ms/epoch - 4ms/step\n",
      "Epoch 70/100\n",
      "23/23 - 0s - loss: 50.9472 - val_loss: 87.8616 - 89ms/epoch - 4ms/step\n",
      "Epoch 71/100\n",
      "23/23 - 0s - loss: 50.0176 - val_loss: 93.6008 - 80ms/epoch - 3ms/step\n",
      "Epoch 72/100\n",
      "23/23 - 0s - loss: 49.4326 - val_loss: 95.7326 - 98ms/epoch - 4ms/step\n",
      "Epoch 73/100\n",
      "23/23 - 0s - loss: 48.2964 - val_loss: 94.6574 - 141ms/epoch - 6ms/step\n",
      "Epoch 74/100\n",
      "23/23 - 0s - loss: 47.0731 - val_loss: 87.6182 - 87ms/epoch - 4ms/step\n",
      "Epoch 75/100\n",
      "23/23 - 0s - loss: 46.1152 - val_loss: 90.4065 - 83ms/epoch - 4ms/step\n",
      "Epoch 76/100\n",
      "23/23 - 0s - loss: 45.3876 - val_loss: 94.0258 - 81ms/epoch - 4ms/step\n",
      "Epoch 77/100\n",
      "23/23 - 0s - loss: 44.5167 - val_loss: 88.1979 - 103ms/epoch - 4ms/step\n",
      "Epoch 78/100\n",
      "23/23 - 0s - loss: 43.9601 - val_loss: 92.3261 - 98ms/epoch - 4ms/step\n",
      "Epoch 79/100\n",
      "23/23 - 0s - loss: 43.1646 - val_loss: 87.7374 - 83ms/epoch - 4ms/step\n",
      "Epoch 80/100\n",
      "23/23 - 0s - loss: 42.8100 - val_loss: 93.5673 - 73ms/epoch - 3ms/step\n",
      "Epoch 81/100\n",
      "23/23 - 0s - loss: 42.3636 - val_loss: 104.6459 - 103ms/epoch - 4ms/step\n",
      "Epoch 82/100\n",
      "23/23 - 0s - loss: 41.5063 - val_loss: 93.0553 - 113ms/epoch - 5ms/step\n",
      "Epoch 83/100\n",
      "23/23 - 0s - loss: 40.1984 - val_loss: 89.3931 - 86ms/epoch - 4ms/step\n",
      "Epoch 84/100\n",
      "23/23 - 0s - loss: 39.7250 - val_loss: 91.8984 - 86ms/epoch - 4ms/step\n",
      "Epoch 85/100\n",
      "23/23 - 0s - loss: 38.9910 - val_loss: 93.6724 - 87ms/epoch - 4ms/step\n",
      "Epoch 86/100\n",
      "23/23 - 0s - loss: 38.7383 - val_loss: 95.4615 - 98ms/epoch - 4ms/step\n",
      "Epoch 87/100\n",
      "23/23 - 0s - loss: 37.9466 - val_loss: 93.5103 - 124ms/epoch - 5ms/step\n",
      "Epoch 88/100\n",
      "23/23 - 0s - loss: 37.3915 - val_loss: 91.9765 - 90ms/epoch - 4ms/step\n",
      "Epoch 89/100\n",
      "23/23 - 0s - loss: 36.9176 - val_loss: 95.2029 - 84ms/epoch - 4ms/step\n",
      "Epoch 90/100\n",
      "23/23 - 0s - loss: 36.7130 - val_loss: 99.6171 - 85ms/epoch - 4ms/step\n",
      "Epoch 91/100\n",
      "23/23 - 0s - loss: 35.9838 - val_loss: 98.7054 - 77ms/epoch - 3ms/step\n",
      "Epoch 92/100\n",
      "23/23 - 0s - loss: 35.7225 - val_loss: 101.3751 - 80ms/epoch - 3ms/step\n",
      "Epoch 93/100\n",
      "23/23 - 0s - loss: 34.8644 - val_loss: 95.4733 - 104ms/epoch - 5ms/step\n",
      "Epoch 94/100\n",
      "23/23 - 0s - loss: 34.8062 - val_loss: 97.3202 - 104ms/epoch - 5ms/step\n",
      "Epoch 95/100\n",
      "23/23 - 0s - loss: 34.4344 - val_loss: 94.3422 - 113ms/epoch - 5ms/step\n",
      "Epoch 96/100\n",
      "23/23 - 0s - loss: 33.5532 - val_loss: 95.3488 - 115ms/epoch - 5ms/step\n",
      "Epoch 97/100\n",
      "23/23 - 0s - loss: 33.1868 - val_loss: 91.0462 - 95ms/epoch - 4ms/step\n",
      "Epoch 98/100\n",
      "23/23 - 0s - loss: 33.2424 - val_loss: 100.2383 - 89ms/epoch - 4ms/step\n",
      "Epoch 99/100\n",
      "23/23 - 0s - loss: 32.3032 - val_loss: 98.0030 - 87ms/epoch - 4ms/step\n",
      "Epoch 100/100\n",
      "23/23 - 0s - loss: 32.1096 - val_loss: 99.1611 - 119ms/epoch - 5ms/step\n"
     ]
    }
   ],
   "source": [
    "# fit the model\n",
    "history = model.fit(predictors_norm, target, validation_split=0.3, epochs=100, verbose=2)"
   ],
   "metadata": {
    "collapsed": false,
    "ExecuteTime": {
     "end_time": "2024-06-27T15:56:40.976351Z",
     "start_time": "2024-06-27T15:56:30.501909Z"
    }
   },
   "id": "bc0e7b476865f3a9",
   "execution_count": 40
  },
  {
   "cell_type": "code",
   "outputs": [
    {
     "data": {
      "text/plain": "<Axes: >"
     },
     "execution_count": 46,
     "metadata": {},
     "output_type": "execute_result"
    },
    {
     "data": {
      "text/plain": "<Figure size 1400x600 with 1 Axes>",
      "image/png": "[encoded data removed]"
     },
     "metadata": {},
     "output_type": "display_data"
    }
   ],
   "source": [
    "plt.style.use('ggplot')\n",
    "pd.DataFrame(history.history).plot(figsize=(14, 6))"
   ],
   "metadata": {
    "collapsed": false,
    "ExecuteTime": {
     "end_time": "2024-06-27T15:58:39.101569Z",
     "start_time": "2024-06-27T15:58:38.889350Z"
    }
   },
   "id": "d7cd3ca546bd81b8",
   "execution_count": 46
  },
  {
   "cell_type": "markdown",
   "source": [
    "# RNN\n",
    "**Import the required libraries.**\n",
    "\n",
    "Numpy & Pandas – For data manipulation and analysis\n",
    "\n",
    "Matplotlib – For data visualization.\n",
    "\n",
    "Yahoo Finance – Provides financial data for analysis.\n",
    "\n",
    "Datetime – For working with dates and times.\n",
    "\n",
    "Math – Provides basic mathematical functions in Python.\n",
    "\n",
    "This code uses the **yf.download()** method of the *yfinance* library to download historical stock data for Google from Yahoo Finance. \n",
    "\n",
    "Using the **dt.datetime()** method of the datetime module, the start and end dates of the time period for which the data has been obtained are given.\n",
    "\n",
    "The downloaded data is then shown using the **print()** function, where the Pandas DataFrame’s display options are configured using **pd.set_option()**."
   ],
   "metadata": {
    "collapsed": false
   },
   "id": "ec71c3d0a0353c86"
  },
  {
   "cell_type": "code",
   "outputs": [
    {
     "name": "stderr",
     "output_type": "stream",
     "text": [
      "C:\\Users\\lucat\\anaconda3\\envs\\DEEP_LEARNING\\lib\\site-packages\\yfinance\\utils.py:775: FutureWarning: The 'unit' keyword in TimedeltaIndex construction is deprecated and will be removed in a future version. Use pd.to_timedelta instead.\n",
      "  df.index += _pd.TimedeltaIndex(dst_error_hours, 'h')\n",
      "[*********************100%%**********************]  1 of 1 completed\n"
     ]
    },
    {
     "data": {
      "text/plain": "                  Open        High         Low       Close   Adj Close  \\\nDate                                                                     \n2020-04-01   56.200001   56.471001   54.674500   55.105000   55.041828   \n2020-04-02   55.000000   56.138500   54.656502   55.851501   55.787476   \n2020-04-03   55.735500   55.939499   53.754002   54.634998   54.572365   \n2020-04-06   56.650002   59.537498   56.250000   59.159500   59.091682   \n2020-04-07   60.850498   61.039001   58.862499   59.127998   59.060215   \n...                ...         ...         ...         ...         ...   \n2023-03-27  104.620003  104.760002  101.930000  102.459999  102.342545   \n2023-03-28  102.440002  102.449997   99.739998  101.029999  100.914177   \n2023-03-29  102.279999  102.489998  100.650002  101.389999  101.273766   \n2023-03-30  100.910004  101.160004   99.779999  100.889999  100.774338   \n2023-03-31  101.300003  103.889999  101.040001  103.730003  103.611092   \n\n              Volume  \nDate                  \n2020-04-01  51970000  \n2020-04-02  56410000  \n2020-04-03  51374000  \n2020-04-06  63320000  \n2020-04-07  61620000  \n...              ...  \n2023-03-27  31120900  \n2023-03-28  32057900  \n2023-03-29  28779600  \n2023-03-30  33086200  \n2023-03-31  36863400  \n\n[756 rows x 6 columns]",
      "text/html": "<div>\n<style scoped>\n    .dataframe tbody tr th:only-of-type {\n        vertical-align: middle;\n    }\n\n    .dataframe tbody tr th {\n        vertical-align: top;\n    }\n\n    .dataframe thead th {\n        text-align: right;\n    }\n</style>\n<table border=\"1\" class=\"dataframe\">\n  <thead>\n    <tr style=\"text-align: right;\">\n      <th></th>\n      <th>Open</th>\n      <th>High</th>\n      <th>Low</th>\n      <th>Close</th>\n      <th>Adj Close</th>\n      <th>Volume</th>\n    </tr>\n    <tr>\n      <th>Date</th>\n      <th></th>\n      <th></th>\n      <th></th>\n      <th></th>\n      <th></th>\n      <th></th>\n    </tr>\n  </thead>\n  <tbody>\n    <tr>\n      <th>2020-04-01</th>\n      <td>56.200001</td>\n      <td>56.471001</td>\n      <td>54.674500</td>\n      <td>55.105000</td>\n      <td>55.041828</td>\n      <td>51970000</td>\n    </tr>\n    <tr>\n      <th>2020-04-02</th>\n      <td>55.000000</td>\n      <td>56.138500</td>\n      <td>54.656502</td>\n      <td>55.851501</td>\n      <td>55.787476</td>\n      <td>56410000</td>\n    </tr>\n    <tr>\n      <th>2020-04-03</th>\n      <td>55.735500</td>\n      <td>55.939499</td>\n      <td>53.754002</td>\n      <td>54.634998</td>\n      <td>54.572365</td>\n      <td>51374000</td>\n    </tr>\n    <tr>\n      <th>2020-04-06</th>\n      <td>56.650002</td>\n      <td>59.537498</td>\n      <td>56.250000</td>\n      <td>59.159500</td>\n      <td>59.091682</td>\n      <td>63320000</td>\n    </tr>\n    <tr>\n      <th>2020-04-07</th>\n      <td>60.850498</td>\n      <td>61.039001</td>\n      <td>58.862499</td>\n      <td>59.127998</td>\n      <td>59.060215</td>\n      <td>61620000</td>\n    </tr>\n    <tr>\n      <th>...</th>\n      <td>...</td>\n      <td>...</td>\n      <td>...</td>\n      <td>...</td>\n      <td>...</td>\n      <td>...</td>\n    </tr>\n    <tr>\n      <th>2023-03-27</th>\n      <td>104.620003</td>\n      <td>104.760002</td>\n      <td>101.930000</td>\n      <td>102.459999</td>\n      <td>102.342545</td>\n      <td>31120900</td>\n    </tr>\n    <tr>\n      <th>2023-03-28</th>\n      <td>102.440002</td>\n      <td>102.449997</td>\n      <td>99.739998</td>\n      <td>101.029999</td>\n      <td>100.914177</td>\n      <td>32057900</td>\n    </tr>\n    <tr>\n      <th>2023-03-29</th>\n      <td>102.279999</td>\n      <td>102.489998</td>\n      <td>100.650002</td>\n      <td>101.389999</td>\n      <td>101.273766</td>\n      <td>28779600</td>\n    </tr>\n    <tr>\n      <th>2023-03-30</th>\n      <td>100.910004</td>\n      <td>101.160004</td>\n      <td>99.779999</td>\n      <td>100.889999</td>\n      <td>100.774338</td>\n      <td>33086200</td>\n    </tr>\n    <tr>\n      <th>2023-03-31</th>\n      <td>101.300003</td>\n      <td>103.889999</td>\n      <td>101.040001</td>\n      <td>103.730003</td>\n      <td>103.611092</td>\n      <td>36863400</td>\n    </tr>\n  </tbody>\n</table>\n<p>756 rows × 6 columns</p>\n</div>"
     },
     "metadata": {},
     "output_type": "display_data"
    }
   ],
   "source": [
    "#the start and end date\n",
    "start_date = dt.datetime(2020,4,1)\n",
    "end_date = dt.datetime(2023,4,1)\n",
    "\n",
    "#loading from yahoo finance\n",
    "data = yf.download(\"GOOGL\",start_date, end_date)\n",
    "\n",
    "# pd.set_option('display.max_rows', 4)\n",
    "# pd.set_option('display.max_columns',5)\n",
    "display(data)"
   ],
   "metadata": {
    "collapsed": false,
    "ExecuteTime": {
     "end_time": "2024-06-27T16:04:57.260967Z",
     "start_time": "2024-06-27T16:04:57.181983Z"
    }
   },
   "id": "c37c26afc6116f27",
   "execution_count": 49
  },
  {
   "cell_type": "markdown",
   "source": [
    "# Next... \n",
    "we split the dataset into **training** and **testing** in the ratio *80:20*. Only the first column of the data is chosen using *iloc[:,:1]* and the train_data contains the first *training_data_len* rows of the original data. The *test_data*, contains all of the remaining rows of the original data starting from training_data_len to the end.\n",
    "\n",
    "# iloc[]\n",
    "iloc[] is primarily integer position based (from 0 to length-1 of the axis), but may also be used with a boolean array.\n",
    "\n",
    "For example, if *df* is a dataframe, the following holds:\n",
    "\n",
    "df.iloc[:3] # slice your object, i.e. first three rows of your dataframe\n",
    "\n",
    "df.iloc[0:3] # same\n",
    "\n",
    "df.iloc[0, 1] # index both axis. Select the element from the first row, second column.\n",
    "\n",
    "df.iloc[:, 0:5] # first five columns of data frame with all rows"
   ],
   "metadata": {
    "collapsed": false
   },
   "id": "ac38ec00eb446eee"
  },
  {
   "cell_type": "code",
   "outputs": [
    {
     "name": "stdout",
     "output_type": "stream",
     "text": [
      "data.shape = (756, 6)\n",
      "train_data.shape = (605, 1), test_data.shape = (151, 1)\n"
     ]
    }
   ],
   "source": [
    "# Setting 80 percent data for training\n",
    "training_data_len = math.ceil(len(data) * 0.8)\n",
    "print(f'{data.shape = }') \n",
    "\n",
    "#Splitting the dataset\n",
    "train_data = data[:training_data_len].iloc[:,:1] \n",
    "test_data = data[training_data_len:].iloc[:,:1]\n",
    "print(f'{train_data.shape = }, {test_data.shape = }')"
   ],
   "metadata": {
    "collapsed": false,
    "ExecuteTime": {
     "end_time": "2024-06-27T16:09:25.597936Z",
     "start_time": "2024-06-27T16:09:25.582128Z"
    }
   },
   "id": "753f2e5d95180782",
   "execution_count": 57
  },
  {
   "cell_type": "code",
   "outputs": [
    {
     "data": {
      "text/plain": "                  Open\nDate                  \n2020-04-01   56.200001\n2020-04-02   55.000000\n2020-04-03   55.735500\n2020-04-06   56.650002\n2020-04-07   60.850498\n...                ...\n2022-08-18  119.430000\n2022-08-19  119.059998\n2022-08-22  115.199997\n2022-08-23  113.480003\n2022-08-24  113.500000\n\n[605 rows x 1 columns]",
      "text/html": "<div>\n<style scoped>\n    .dataframe tbody tr th:only-of-type {\n        vertical-align: middle;\n    }\n\n    .dataframe tbody tr th {\n        vertical-align: top;\n    }\n\n    .dataframe thead th {\n        text-align: right;\n    }\n</style>\n<table border=\"1\" class=\"dataframe\">\n  <thead>\n    <tr style=\"text-align: right;\">\n      <th></th>\n      <th>Open</th>\n    </tr>\n    <tr>\n      <th>Date</th>\n      <th></th>\n    </tr>\n  </thead>\n  <tbody>\n    <tr>\n      <th>2020-04-01</th>\n      <td>56.200001</td>\n    </tr>\n    <tr>\n      <th>2020-04-02</th>\n      <td>55.000000</td>\n    </tr>\n    <tr>\n      <th>2020-04-03</th>\n      <td>55.735500</td>\n    </tr>\n    <tr>\n      <th>2020-04-06</th>\n      <td>56.650002</td>\n    </tr>\n    <tr>\n      <th>2020-04-07</th>\n      <td>60.850498</td>\n    </tr>\n    <tr>\n      <th>...</th>\n      <td>...</td>\n    </tr>\n    <tr>\n      <th>2022-08-18</th>\n      <td>119.430000</td>\n    </tr>\n    <tr>\n      <th>2022-08-19</th>\n      <td>119.059998</td>\n    </tr>\n    <tr>\n      <th>2022-08-22</th>\n      <td>115.199997</td>\n    </tr>\n    <tr>\n      <th>2022-08-23</th>\n      <td>113.480003</td>\n    </tr>\n    <tr>\n      <th>2022-08-24</th>\n      <td>113.500000</td>\n    </tr>\n  </tbody>\n</table>\n<p>605 rows × 1 columns</p>\n</div>"
     },
     "metadata": {},
     "output_type": "display_data"
    }
   ],
   "source": [
    "display(train_data)"
   ],
   "metadata": {
    "collapsed": false,
    "ExecuteTime": {
     "end_time": "2024-06-27T16:10:37.395912Z",
     "start_time": "2024-06-27T16:10:37.373750Z"
    }
   },
   "id": "914abc0dd3d85725",
   "execution_count": 58
  },
  {
   "cell_type": "markdown",
   "source": [
    "# Reshaping arrays\n",
    "Reshaping means changing the shape of an array.\n",
    "\n",
    "The shape of an array is the number of elements in each dimension.\n",
    "\n",
    "By reshaping we can add or remove dimensions or change number of elements in each dimension.\n",
    "\n",
    "# Example: reshape From row vector to column vector\n",
    "Convert the following 1-D array with 12 elements into a 2-D array.\n",
    "\n",
    "The outermost dimension will have 4 arrays, each with 3 elements:\n",
    "\n",
    "*import numpy as np*\n",
    "\n",
    "*arr = np.array([1, 2, 3, 4, 5, 6, 7, 8, 9, 10, 11, 12])*\n",
    "\n",
    "*newarr = arr.reshape(-1, 1)*\n",
    "\n",
    "*print(newarr)*\n",
    "\n",
    "[[ 1]\n",
    "\n",
    " [ 2]\n",
    "\n",
    " [ 3]\n",
    " \n",
    " [ 4]\n",
    " \n",
    " [ 5]\n",
    " \n",
    " [ 6]\n",
    " \n",
    " [ 7]\n",
    " \n",
    " [ 8]\n",
    " \n",
    " [ 9]\n",
    " \n",
    " [10]\n",
    " \n",
    " [11]\n",
    " \n",
    " [12]]"
   ],
   "metadata": {
    "collapsed": false
   },
   "id": "e4e007fc5ca8517b"
  },
  {
   "cell_type": "markdown",
   "source": [],
   "metadata": {
    "collapsed": false
   },
   "id": "70836dcaffc27843"
  },
  {
   "cell_type": "markdown",
   "source": [
    "# This code...\n",
    "creates a numpy array called *dataset_train* and populates it with the “Open” pricing values from the training data. The 1-dimensional array is then transformed into a 2-dimensional array. The shape property, which returns the tuple (num_rows, num_columns) denoting the dataset_train array’s final shape."
   ],
   "metadata": {
    "collapsed": false
   },
   "id": "7f5c049141031d6c"
  },
  {
   "cell_type": "code",
   "outputs": [
    {
     "name": "stdout",
     "output_type": "stream",
     "text": [
      "dataset_train.shape = (605,)\n"
     ]
    }
   ],
   "source": [
    "# Selecting Open Price values\n",
    "dataset_train = train_data.Open.values \n",
    "print(f'{dataset_train.shape = }') # Row vector"
   ],
   "metadata": {
    "collapsed": false,
    "ExecuteTime": {
     "end_time": "2024-06-27T16:14:00.193099Z",
     "start_time": "2024-06-27T16:14:00.181429Z"
    }
   },
   "id": "9ee0df76fe2b619b",
   "execution_count": 62
  },
  {
   "cell_type": "code",
   "outputs": [
    {
     "name": "stdout",
     "output_type": "stream",
     "text": [
      "dataset_train.shape = (605, 1)\n"
     ]
    }
   ],
   "source": [
    "# Reshaping the array\n",
    "\n",
    "dataset_train = dataset_train.reshape(-1, 1) # column vector\n",
    "print(f'{dataset_train.shape = }')"
   ],
   "metadata": {
    "collapsed": false,
    "ExecuteTime": {
     "end_time": "2024-06-27T16:15:13.346957Z",
     "start_time": "2024-06-27T16:15:13.330910Z"
    }
   },
   "id": "6da0b94d01bb6dac",
   "execution_count": 63
  },
  {
   "cell_type": "code",
   "outputs": [
    {
     "name": "stdout",
     "output_type": "stream",
     "text": [
      "[[56.20000076]\n",
      " [55.        ]\n",
      " [55.73550034]\n",
      " [56.65000153]\n",
      " [60.8504982 ]\n",
      " [60.15499878]\n",
      " [60.9090004 ]\n",
      " [60.07500076]\n",
      " [61.99850082]\n",
      " [62.32550049]]\n"
     ]
    }
   ],
   "source": [
    "print(dataset_train[:10])"
   ],
   "metadata": {
    "collapsed": false,
    "ExecuteTime": {
     "end_time": "2024-06-27T16:15:50.797999Z",
     "start_time": "2024-06-27T16:15:50.777964Z"
    }
   },
   "id": "239a65952744eba5",
   "execution_count": 67
  },
  {
   "cell_type": "markdown",
   "source": [
    "# Normalization \n",
    "is a crucial step in data preprocessing to enhance the effectiveness and interpretability of machine learning models. Hence **MinMaxScaler** from *sklearn* is imported to scale the dataset from 0 to 1. Using the sklearn fit_transform() method, the training dataset is scaled\n",
    "\n",
    "# What MinMaxScaler does?\n",
    "*MinMaxScaler* subtracts the **minimum value** in the feature and then divides by the range. \n",
    "\n",
    "The range is the difference between the original maximum and original minimum. \n",
    "\n",
    "*MinMaxScaler* preserves the shape of the original distribution\n",
    "\n",
    "*feature_range=(0,1)* means that the value are normalized so that they will have a value between 0 and 1"
   ],
   "metadata": {
    "collapsed": false
   },
   "id": "89ad4c138df69b13"
  },
  {
   "cell_type": "code",
   "outputs": [
    {
     "name": "stdout",
     "output_type": "stream",
     "text": [
      "[[0.01246754]\n",
      " [0.        ]\n",
      " [0.00764156]\n",
      " [0.01714287]\n",
      " [0.0607844 ]\n",
      " [0.05355843]\n",
      " [0.06139221]\n",
      " [0.05272728]\n",
      " [0.0727117 ]\n",
      " [0.0761091 ]]\n"
     ]
    }
   ],
   "source": [
    "scaler = MinMaxScaler(feature_range=(0,1))\n",
    "# scaling dataset\n",
    "scaled_train = scaler.fit_transform(dataset_train)\n",
    "\n",
    "# Print the first 5 rows of the dataframe\n",
    "print(scaled_train[:10])"
   ],
   "metadata": {
    "collapsed": false,
    "ExecuteTime": {
     "end_time": "2024-06-27T16:17:55.210038Z",
     "start_time": "2024-06-27T16:17:55.198001Z"
    }
   },
   "id": "139907fe3650c64c",
   "execution_count": 70
  },
  {
   "cell_type": "code",
   "outputs": [
    {
     "name": "stdout",
     "output_type": "stream",
     "text": [
      "[[0.6154805 ]\n",
      " [0.62046755]\n",
      " [0.57132465]\n",
      " [0.57319479]\n",
      " [0.57818183]]\n"
     ]
    }
   ],
   "source": [
    "# Selecting Open Price values\n",
    "dataset_test = test_data.Open.values \n",
    "# Reshaping 1D to 2D array\n",
    "dataset_test = np.reshape(dataset_test, (-1,1)) \n",
    "# Normalizing values between 0 and 1\n",
    "scaled_test = scaler.transform(dataset_test)\n",
    "print(scaled_test[:5])"
   ],
   "metadata": {
    "collapsed": false,
    "ExecuteTime": {
     "end_time": "2024-06-27T16:19:03.960472Z",
     "start_time": "2024-06-27T16:19:03.941865Z"
    }
   },
   "id": "e58b879712bd8ecb",
   "execution_count": 71
  },
  {
   "cell_type": "markdown",
   "source": [
    "# The time-series data...\n",
    "must be divided into X_train and y_train from the training set and X_test and y_test from the testing set in this phase. \n",
    "\n",
    "It is done to turn time series data into a supervised learning problem that can be utilized to train the model. \n",
    "\n",
    "The loop generates input/output sequences of length 50 while iterating through the time series data. \n",
    "\n",
    "Using this method, we can forecast future values while taking into consideration the data’s temporal dependence on prior observations."
   ],
   "metadata": {
    "collapsed": false
   },
   "id": "c5317db4f5e26cc"
  },
  {
   "cell_type": "code",
   "outputs": [],
   "source": [
    "X_train = []\n",
    "y_train = []\n",
    "for i in range(50, len(scaled_train)):\n",
    "    X_train.append(scaled_train[i-50:i, 0])\n",
    "    y_train.append(scaled_train[i, 0])\n",
    "    \n",
    "X_train = np.array(X_train)\n",
    "y_train = np.array(y_train)"
   ],
   "metadata": {
    "collapsed": false,
    "ExecuteTime": {
     "end_time": "2024-06-27T16:24:52.362385Z",
     "start_time": "2024-06-27T16:24:52.353403Z"
    }
   },
   "id": "76c8b317d4cfca81",
   "execution_count": 75
  },
  {
   "cell_type": "code",
   "outputs": [
    {
     "name": "stdout",
     "output_type": "stream",
     "text": [
      "X_train.shape = (555, 50)\n",
      "y_train.shape = (555,)\n"
     ]
    }
   ],
   "source": [
    "print(f'{X_train.shape = }')\n",
    "print(f'{y_train.shape = }')"
   ],
   "metadata": {
    "collapsed": false,
    "ExecuteTime": {
     "end_time": "2024-06-27T16:24:53.980586Z",
     "start_time": "2024-06-27T16:24:53.967625Z"
    }
   },
   "id": "5d672ba05561e350",
   "execution_count": 76
  },
  {
   "cell_type": "code",
   "outputs": [],
   "source": [
    "X_test = []\n",
    "y_test = []\n",
    "for i in range(50, len(scaled_test)):\n",
    "    X_test.append(scaled_test[i-50:i, 0])\n",
    "    y_test.append(scaled_test[i, 0])\n",
    "    \n",
    "X_test = np.array(X_test)\n",
    "y_test = np.array(y_test)"
   ],
   "metadata": {
    "collapsed": false,
    "ExecuteTime": {
     "end_time": "2024-06-27T16:26:35.955590Z",
     "start_time": "2024-06-27T16:26:35.933407Z"
    }
   },
   "id": "bbb7bb0b392027dd",
   "execution_count": 77
  },
  {
   "cell_type": "code",
   "outputs": [
    {
     "name": "stdout",
     "output_type": "stream",
     "text": [
      "X_test.shape = (101, 50)\n",
      "y_test.shape = (101,)\n"
     ]
    }
   ],
   "source": [
    "print(f'{X_test.shape = }')\n",
    "print(f'{y_test.shape = }')"
   ],
   "metadata": {
    "collapsed": false,
    "ExecuteTime": {
     "end_time": "2024-06-27T16:26:47.228858Z",
     "start_time": "2024-06-27T16:26:47.209643Z"
    }
   },
   "id": "d18cb425ba4d7b18",
   "execution_count": 78
  },
  {
   "cell_type": "markdown",
   "source": [
    "# In this step... \n",
    "the data is converted into a format that is suitable for input to an RNN.\n",
    "\n",
    "*np.reshape(X_train, (X_train.shape[0], X_train.shape[1], 1))*\n",
    "\n",
    "transforms the X_train array, which was originally a **2-dimensional array of shape (samples, features)**, into a **3-dimensional array of shape (samples, time steps, features)**, where time steps denotes the number of time steps in the input sequence and features denotes the number of features in the input data. Size 1 is an additional dimension that serves as an indication that each time step only has a single feature.\n",
    "\n",
    "The y_train array is transformed from a 1-dimensional array of shape (samples) into a 2-dimensional array of shape (samples, 1) by np.reshape(y_train, (y_train.shape[0], 1)), where each row represents the output value at a certain time step. "
   ],
   "metadata": {
    "collapsed": false
   },
   "id": "e26fb21d50d4c08f"
  },
  {
   "cell_type": "code",
   "outputs": [
    {
     "name": "stdout",
     "output_type": "stream",
     "text": [
      "X_train : (555, 50, 1) y_train : (555, 1)\n"
     ]
    }
   ],
   "source": [
    "#Reshaping\n",
    "X_train = np.reshape(X_train, (X_train.shape[0], X_train.shape[1], 1))\n",
    "y_train = np.reshape(y_train, (y_train.shape[0], 1))\n",
    "print(\"X_train :\",X_train.shape,\"y_train :\",y_train.shape)"
   ],
   "metadata": {
    "collapsed": false,
    "ExecuteTime": {
     "end_time": "2024-06-27T16:28:28.853673Z",
     "start_time": "2024-06-27T16:28:28.836951Z"
    }
   },
   "id": "82948a26fc7ed5fe",
   "execution_count": 80
  },
  {
   "cell_type": "code",
   "outputs": [
    {
     "name": "stdout",
     "output_type": "stream",
     "text": [
      "X_test : (101, 50, 1) y_test : (101, 1)\n"
     ]
    }
   ],
   "source": [
    "X_test = np.reshape(X_test, (X_test.shape[0], X_test.shape[1],1))\n",
    "y_test = np.reshape(y_test, (y_test.shape[0],1))\n",
    "print(\"X_test :\",X_test.shape,\"y_test :\",y_test.shape)"
   ],
   "metadata": {
    "collapsed": false,
    "ExecuteTime": {
     "end_time": "2024-06-27T16:28:29.986454Z",
     "start_time": "2024-06-27T16:28:29.973396Z"
    }
   },
   "id": "6b5971f196dad7f",
   "execution_count": 81
  },
  {
   "cell_type": "markdown",
   "source": [
    "# SimpleRNN Model: \n",
    "Using the Keras API, this code creates a recurrent neural network (RNN) with four layers of basic RNNs and a dense output layer. \n",
    "\n",
    "It makes use of the *tanh* **hyperbolic tangent** activation function. \n",
    "\n",
    "To avoid overfitting, a dropout layer with a rate of 0.2 is introduced. It employs the optimizer as Adam, mean squared error as the loss function, and accuracy as the evaluation metric while compiling. With a batch size of 2, it fits the model to the training data for 20 epochs. \n",
    "\n",
    "The number of parameters in each layer and the overall number of parameters in the model are listed in a summary of the model architecture.\n",
    "\n",
    "# Build a model (RNN) with Keras\n",
    "There are two ways to build Keras models: **sequential** and **functional**. \n",
    "\n",
    "The sequential API allows you to create models** layer-by-layer** for most problems. \n",
    "\n",
    "It is limited in that it does not allow you to create models that share layers or have multiple inputs or outputs.\n",
    "\n",
    "# SimpleRNN()\n",
    "SimpleRNN is the recurrent layer object in Keras.\n",
    "\n",
    "# Dropout\n",
    "Dropout is a technique where randomly selected neurons are ignored during training. \n",
    "\n",
    "They are “dropped out” **randomly**. This means that their contribution to the activation of downstream neurons is temporally removed on the forward pass, and any weight updates are not applied to the neuron on the backward pass.\n",
    "\n",
    "What is the purpose of dropout regularization?\n",
    "Dropout is a regularization technique for **reducing overfitting** in neural networks \n",
    "\n",
    "# Dense()\n",
    "Keras Dense layer is the layer that contains all the neurons that are deeply connected within themselves. \n",
    "\n",
    "This means that every neuron in the dense layer takes the input from all the other neurons of the previous layer. \n",
    "\n",
    "We can add as many dense layers as required. It is one of the most commonly used layers"
   ],
   "metadata": {
    "collapsed": false
   },
   "id": "48e4798f82c565f7"
  },
  {
   "cell_type": "code",
   "outputs": [],
   "source": [
    "# initializing the RNN\n",
    "regressor = Sequential()\n",
    "\n",
    "# adding RNN layers and dropout regularization\n",
    "regressor.add(SimpleRNN(units = 50,\n",
    "                        activation = \"tanh\",\n",
    "                        return_sequences = True,\n",
    "                        input_shape = (X_train.shape[1],1)))\n",
    "\n",
    "regressor.add(Dropout(0.2))\n",
    "\n",
    "regressor.add(SimpleRNN(units = 50,\n",
    "                        activation = \"tanh\",\n",
    "                        return_sequences = True))\n",
    "\n",
    "regressor.add(SimpleRNN(units = 50,\n",
    "                        activation = \"tanh\",\n",
    "                        return_sequences = True))\n",
    "\n",
    "regressor.add(SimpleRNN(units = 50))\n",
    "\n",
    "# adding the output layer\n",
    "regressor.add(Dense(units = 1,activation='sigmoid'))"
   ],
   "metadata": {
    "collapsed": false,
    "ExecuteTime": {
     "end_time": "2024-06-27T16:36:03.550756Z",
     "start_time": "2024-06-27T16:36:03.269736Z"
    }
   },
   "id": "8099911e936aea5c",
   "execution_count": 88
  },
  {
   "cell_type": "markdown",
   "source": [
    "# compiling RNN\n",
    "To compile the model, we define the\n",
    "\n",
    "**loss function** which calculates the losses in our model, \n",
    "\n",
    "the **optimizer** which reduces the loss, and\n",
    "\n",
    "the **metrics** which is used to find the accuracy of our model"
   ],
   "metadata": {
    "collapsed": false
   },
   "id": "966899f26f6c1d0c"
  },
  {
   "cell_type": "code",
   "outputs": [
    {
     "name": "stdout",
     "output_type": "stream",
     "text": [
      "Epoch 1/20\n",
      "278/278 [==============================] - 10s 24ms/step - loss: 0.0094\n",
      "Epoch 2/20\n",
      "278/278 [==============================] - 7s 25ms/step - loss: 0.0032\n",
      "Epoch 3/20\n",
      "278/278 [==============================] - 7s 24ms/step - loss: 0.0027\n",
      "Epoch 4/20\n",
      "278/278 [==============================] - 6s 22ms/step - loss: 0.0028\n",
      "Epoch 5/20\n",
      "278/278 [==============================] - 6s 22ms/step - loss: 0.0023\n",
      "Epoch 6/20\n",
      "278/278 [==============================] - 6s 23ms/step - loss: 0.0020\n",
      "Epoch 7/20\n",
      "278/278 [==============================] - 6s 23ms/step - loss: 0.0021\n",
      "Epoch 8/20\n",
      "278/278 [==============================] - 6s 22ms/step - loss: 0.0022\n",
      "Epoch 9/20\n",
      "278/278 [==============================] - 6s 23ms/step - loss: 0.0019\n",
      "Epoch 10/20\n",
      "278/278 [==============================] - 6s 22ms/step - loss: 0.0018\n",
      "Epoch 11/20\n",
      "278/278 [==============================] - 8s 30ms/step - loss: 0.0018\n",
      "Epoch 12/20\n",
      "278/278 [==============================] - 8s 30ms/step - loss: 0.0019\n",
      "Epoch 13/20\n",
      "278/278 [==============================] - 6s 22ms/step - loss: 0.0017\n",
      "Epoch 14/20\n",
      "278/278 [==============================] - 6s 23ms/step - loss: 0.0017\n",
      "Epoch 15/20\n",
      "278/278 [==============================] - 7s 24ms/step - loss: 0.0019\n",
      "Epoch 16/20\n",
      "278/278 [==============================] - 6s 23ms/step - loss: 0.0017\n",
      "Epoch 17/20\n",
      "278/278 [==============================] - 6s 23ms/step - loss: 0.0016\n",
      "Epoch 18/20\n",
      "278/278 [==============================] - 6s 22ms/step - loss: 0.0014\n",
      "Epoch 19/20\n",
      "278/278 [==============================] - 6s 23ms/step - loss: 0.0016\n",
      "Epoch 20/20\n",
      "278/278 [==============================] - 6s 22ms/step - loss: 0.0016\n",
      "Model: \"sequential_4\"\n",
      "_________________________________________________________________\n",
      " Layer (type)                Output Shape              Param #   \n",
      "=================================================================\n",
      " simple_rnn_4 (SimpleRNN)    (None, 50, 50)            2600      \n",
      "                                                                 \n",
      " dropout_1 (Dropout)         (None, 50, 50)            0         \n",
      "                                                                 \n",
      " simple_rnn_5 (SimpleRNN)    (None, 50, 50)            5050      \n",
      "                                                                 \n",
      " simple_rnn_6 (SimpleRNN)    (None, 50, 50)            5050      \n",
      "                                                                 \n",
      " simple_rnn_7 (SimpleRNN)    (None, 50)                5050      \n",
      "                                                                 \n",
      " dense_10 (Dense)            (None, 1)                 51        \n",
      "                                                                 \n",
      "=================================================================\n",
      "Total params: 17801 (69.54 KB)\n",
      "Trainable params: 17801 (69.54 KB)\n",
      "Non-trainable params: 0 (0.00 Byte)\n",
      "_________________________________________________________________\n"
     ]
    }
   ],
   "source": [
    "regressor.compile(optimizer = tf.keras.optimizers.legacy.SGD(learning_rate=0.01,decay=1e-6, momentum=0.9, nesterov=True), loss = \"mean_squared_error\")\n",
    "\n",
    "# Fitting the model\n",
    "history = regressor.fit(X_train, y_train, epochs = 20, batch_size = 2)\n",
    "regressor.summary()"
   ],
   "metadata": {
    "collapsed": false,
    "ExecuteTime": {
     "end_time": "2024-06-27T16:38:19.952826Z",
     "start_time": "2024-06-27T16:36:05.326921Z"
    }
   },
   "id": "13759abd5d778d7",
   "execution_count": 89
  },
  {
   "cell_type": "markdown",
   "source": [
    "# Prediction with RNN\n",
    "The X_test data is then used to make predictions "
   ],
   "metadata": {
    "collapsed": false
   },
   "id": "b460cf1e1faf753d"
  },
  {
   "cell_type": "code",
   "outputs": [
    {
     "name": "stdout",
     "output_type": "stream",
     "text": [
      "4/4 [==============================] - 1s 9ms/step\n"
     ]
    }
   ],
   "source": [
    "# Predictions with X_test data\n",
    "y_RNN = regressor.predict(X_test)"
   ],
   "metadata": {
    "collapsed": false,
    "ExecuteTime": {
     "end_time": "2024-06-27T16:38:25.701873Z",
     "start_time": "2024-06-27T16:38:24.579359Z"
    }
   },
   "id": "974d18f8f6718731",
   "execution_count": 90
  },
  {
   "cell_type": "markdown",
   "source": [
    "# The predicted values...\n",
    "are transformed back from the normalized state to their original scale using the inverse_transform() function."
   ],
   "metadata": {
    "collapsed": false
   },
   "id": "1049576a4fcd5967"
  },
  {
   "cell_type": "code",
   "outputs": [],
   "source": [
    "# scaling back from 0-1 to original\n",
    "y_RNN_O = scaler.inverse_transform(y_RNN) "
   ],
   "metadata": {
    "collapsed": false,
    "ExecuteTime": {
     "end_time": "2024-06-27T16:38:28.964113Z",
     "start_time": "2024-06-27T16:38:28.955219Z"
    }
   },
   "id": "fe4ae9956f7cfd40",
   "execution_count": 91
  },
  {
   "cell_type": "markdown",
   "source": [
    "# Visualize the predicted prices using matplotlib."
   ],
   "metadata": {
    "collapsed": false
   },
   "id": "ad89cac8a48bd3ef"
  },
  {
   "cell_type": "code",
   "outputs": [
    {
     "data": {
      "text/plain": "<Figure size 1800x1200 with 1 Axes>",
      "image/png": "[encoded data removed]"
     },
     "metadata": {},
     "output_type": "display_data"
    }
   ],
   "source": [
    "fig, axs = plt.subplots(1,figsize =(18,12),sharex=True, sharey=True)\n",
    "fig.suptitle('Model Predictions')\n",
    "\n",
    "#Plot for RNN predictions\n",
    "plt.plot(train_data.index[150:], train_data.Open[150:], label = \"train_data\", color = \"b\")\n",
    "plt.plot(test_data.index, test_data.Open, label = \"test_data\", color = \"r\")\n",
    "plt.plot(test_data.index[50:], y_RNN_O, label = \"y_RNN\", color = \"yellow\")\n",
    "plt.legend()\n",
    "plt.title(\"Basic RNN\")\n",
    "\n",
    "\n",
    "\n",
    "plt.xlabel(\"Days\")\n",
    "plt.ylabel(\"Open price\")\n",
    "\n",
    "plt.show()"
   ],
   "metadata": {
    "collapsed": false,
    "ExecuteTime": {
     "end_time": "2024-06-27T16:38:31.413397Z",
     "start_time": "2024-06-27T16:38:31.052634Z"
    }
   },
   "id": "cd05da014989f1eb",
   "execution_count": 92
  },
  {
   "cell_type": "code",
   "outputs": [],
   "source": [],
   "metadata": {
    "collapsed": false
   },
   "id": "5e4a12636c2b895b"
  }
 ],
 "metadata": {
  "kernelspec": {
   "display_name": "Python 3",
   "language": "python",
   "name": "python3"
  },
  "language_info": {
   "codemirror_mode": {
    "name": "ipython",
    "version": 2
   },
   "file_extension": ".py",
   "mimetype": "text/x-python",
   "name": "python",
   "nbconvert_exporter": "python",
   "pygments_lexer": "ipython2",
   "version": "2.7.6"
  }
 },
 "nbformat": 4,
 "nbformat_minor": 5
}
