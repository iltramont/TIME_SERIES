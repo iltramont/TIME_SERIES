{
 "cells": [
  {
   "cell_type": "markdown",
   "id": "da668e7e-b1f2-4814-ac91-71e9d58ca416",
   "metadata": {
    "id": "da668e7e-b1f2-4814-ac91-71e9d58ca416"
   },
   "source": [
    "# **Practical 7: Pytorch Tutorial**"
   ]
  },
  {
   "cell_type": "markdown",
   "id": "51c4fcac-9f7f-479d-91d6-fd7c50bc959d",
   "metadata": {
    "id": "51c4fcac-9f7f-479d-91d6-fd7c50bc959d"
   },
   "source": [
    "## **Installation**"
   ]
  },
  {
   "cell_type": "markdown",
   "id": "9f41dee3-1e7d-494f-8817-ddff7e4e91ef",
   "metadata": {
    "id": "9f41dee3-1e7d-494f-8817-ddff7e4e91ef"
   },
   "source": [
    "Navigate to the official website: https://pytorch.org/\n",
    "\n",
    "Select your preferences and run the install command. Stable represents the most currently tested and supported version of PyTorch. This should be suitable for many users. Preview is available if you want the latest, not fully tested and supported, builds that are generated nightly. Please ensure that you have met the prerequisites below (e.g., numpy), depending on your package manager. Anaconda is our recommended package manager since it installs all dependencies.\n"
   ]
  },
  {
   "cell_type": "markdown",
   "id": "1e2df2e0-12e4-43a6-930a-124dcd026022",
   "metadata": {
    "id": "1e2df2e0-12e4-43a6-930a-124dcd026022"
   },
   "source": [
    "For **CPU installation** run:\n",
    "\n",
    "conda install pytorch torchvision torchaudio cpuonly -c pytorch\n",
    "\n",
    "\n",
    "For **GPU installation** with CUDA 11.8 run:\n",
    "\n",
    "conda install pytorch torchvision torchaudio pytorch-cuda=11.8 -c pytorch -c nvidia\n",
    "\n",
    "Note that GPU installation is possible only if you have a CUDA-capable GPU."
   ]
  },
  {
   "cell_type": "markdown",
   "id": "6bb97e20-0493-4c81-a43c-e83b7ab77e3d",
   "metadata": {
    "id": "6bb97e20-0493-4c81-a43c-e83b7ab77e3d"
   },
   "source": [
    "**Verify if You Have a CUDA-Capable GPU**:\n",
    "\n",
    "You can verify that you have a CUDA-capable GPU through the Display Adapters section in the Windows Device Manager. Here you will find the vendor name and model of your graphics card(s). If you have an NVIDIA card that is listed in https://developer.nvidia.com/cuda-gpus, that GPU is CUDA-capable.\n"
   ]
  },
  {
   "cell_type": "markdown",
   "id": "93154e38-2087-4c6a-b577-b71157a9c96a",
   "metadata": {
    "id": "93154e38-2087-4c6a-b577-b71157a9c96a"
   },
   "source": [
    "## **Tensor Operations**"
   ]
  },
  {
   "cell_type": "code",
   "execution_count": 4,
   "id": "5dfe0d3d-972d-4b8a-ae77-cb9d8dff5bc3",
   "metadata": {
    "id": "5dfe0d3d-972d-4b8a-ae77-cb9d8dff5bc3",
    "executionInfo": {
     "status": "ok",
     "timestamp": 1711554484107,
     "user_tz": -60,
     "elapsed": 7493,
     "user": {
      "displayName": "Andrea Pozzi",
      "userId": "14271893929506141932"
     }
    }
   },
   "outputs": [],
   "source": [
    "import torch"
   ]
  },
  {
   "cell_type": "code",
   "execution_count": 5,
   "id": "7a6ed97e-9341-48e1-8370-1c58ff1b8c85",
   "metadata": {
    "colab": {
     "base_uri": "https://localhost:8080/"
    },
    "id": "7a6ed97e-9341-48e1-8370-1c58ff1b8c85",
    "executionInfo": {
     "status": "ok",
     "timestamp": 1711554484107,
     "user_tz": -60,
     "elapsed": 4,
     "user": {
      "displayName": "Andrea Pozzi",
      "userId": "14271893929506141932"
     }
    },
    "outputId": "ef004df5-fef8-417a-bd50-cecc13b9dd59"
   },
   "outputs": [
    {
     "output_type": "stream",
     "name": "stdout",
     "text": [
      "tensor([0., 0., 0.])\n",
      "torch.Size([3])\n",
      "tensor([[1.4013e-45, 0.0000e+00],\n",
      "        [5.9371e-05, 3.1053e-41],\n",
      "        [5.9372e-05, 3.1053e-41]])\n",
      "torch.Size([3, 2])\n",
      "torch.Size([5, 4, 3, 2])\n"
     ]
    }
   ],
   "source": [
    "# initialize empty tensors\n",
    "\n",
    "# a tensors of dimension 3\n",
    "x = torch.empty(3)\n",
    "print(x)\n",
    "print(x.size())\n",
    "\n",
    "# a tensors of dimension 3x2\n",
    "x = torch.empty(3, 2)\n",
    "print(x)\n",
    "print(x.size())\n",
    "\n",
    "# a tensors of dimension 5x4x3x2\n",
    "x = torch.empty(5, 4, 3, 2)\n",
    "print(x.size())"
   ]
  },
  {
   "cell_type": "code",
   "execution_count": 20,
   "id": "a872f53e-e89f-490b-b758-4237dbcf9f7d",
   "metadata": {
    "colab": {
     "base_uri": "https://localhost:8080/"
    },
    "id": "a872f53e-e89f-490b-b758-4237dbcf9f7d",
    "executionInfo": {
     "status": "ok",
     "timestamp": 1711554847871,
     "user_tz": -60,
     "elapsed": 278,
     "user": {
      "displayName": "Andrea Pozzi",
      "userId": "14271893929506141932"
     }
    },
    "outputId": "405be8c2-3e35-435d-990d-43c187d273cb"
   },
   "outputs": [
    {
     "output_type": "stream",
     "name": "stdout",
     "text": [
      "x tensor([34., 12., 19., 17.])\n",
      "y tensor([26., 45.,  3.,  8.])\n",
      "\n",
      "Addition Result: tensor([60., 57., 22., 25.])\n",
      "\n",
      "Subtraction Result: tensor([  8., -33.,  16.,   9.])\n",
      "\n",
      "Multiplication Result: tensor([884., 540.,  57., 136.])\n",
      "\n",
      "Division Result: tensor([1.3077, 0.2667, 6.3333, 2.1250])\n",
      "\n",
      "Scalar Product: tensor(1617.)\n"
     ]
    }
   ],
   "source": [
    "# initialize tensors from lists and show math operators\n",
    "\n",
    "x = torch.tensor([34, 12, 19, 17], dtype=torch.float)\n",
    "print('x', x)\n",
    "\n",
    "y =  torch.tensor([26, 45, 3, 8], dtype=torch.float) # you can specify the type\n",
    "print('y', y)\n",
    "\n",
    "# addition\n",
    "addition_result = x + y # torch.add(x, y)\n",
    "print(\"\\nAddition Result:\", addition_result)\n",
    "\n",
    "# subtraction\n",
    "subtraction_result = x - y # torch.sub(x, y)\n",
    "print(\"\\nSubtraction Result:\", subtraction_result)\n",
    "\n",
    "# multiplication\n",
    "multiplication_result = x * y # torch.mul(x, y)\n",
    "print(\"\\nMultiplication Result:\", multiplication_result)\n",
    "\n",
    "# division\n",
    "division_result = x / y # torch.div(x, y)\n",
    "print(\"\\nDivision Result:\", division_result)\n",
    "\n",
    "# scalar product\n",
    "scalar_product = torch.dot(x, y)\n",
    "print(\"\\nScalar Product:\", scalar_product)"
   ]
  },
  {
   "cell_type": "code",
   "execution_count": 7,
   "id": "a4dc82f9-8741-4e7a-bbf5-7904645d534a",
   "metadata": {
    "colab": {
     "base_uri": "https://localhost:8080/"
    },
    "id": "a4dc82f9-8741-4e7a-bbf5-7904645d534a",
    "executionInfo": {
     "status": "ok",
     "timestamp": 1711554484107,
     "user_tz": -60,
     "elapsed": 2,
     "user": {
      "displayName": "Andrea Pozzi",
      "userId": "14271893929506141932"
     }
    },
    "outputId": "cd3771ab-9600-4220-a995-aca26ddb95dd"
   },
   "outputs": [
    {
     "output_type": "stream",
     "name": "stdout",
     "text": [
      "Uniform:\n",
      "tensor([[0.8823, 0.9150],\n",
      "        [0.3829, 0.9593],\n",
      "        [0.3904, 0.6009]])\n",
      "\n",
      "Gaussian:\n",
      "tensor([[ 1.1561,  0.3965],\n",
      "        [-2.4661,  0.3623],\n",
      "        [ 0.3765, -0.1808]])\n"
     ]
    }
   ],
   "source": [
    "# initialize random tensors\n",
    "\n",
    "torch.manual_seed(42) # set the seed for reproducibility\n",
    "\n",
    "print('Uniform:')\n",
    "x = torch.rand(3, 2) # random with uniform probability\n",
    "print(x)\n",
    "\n",
    "print('\\nGaussian:')\n",
    "x = torch.randn(3, 2) # random with gaussian probability\n",
    "print(x)"
   ]
  },
  {
   "cell_type": "code",
   "execution_count": 8,
   "id": "9a1e8b82-3175-4c27-ae69-deabba0d6fa6",
   "metadata": {
    "colab": {
     "base_uri": "https://localhost:8080/"
    },
    "id": "9a1e8b82-3175-4c27-ae69-deabba0d6fa6",
    "executionInfo": {
     "status": "ok",
     "timestamp": 1711554484396,
     "user_tz": -60,
     "elapsed": 290,
     "user": {
      "displayName": "Andrea Pozzi",
      "userId": "14271893929506141932"
     }
    },
    "outputId": "9c152941-38ba-4e24-ae7f-c6b6e08ab211"
   },
   "outputs": [
    {
     "output_type": "stream",
     "name": "stdout",
     "text": [
      "NumPy array: [1. 2. 3. 4.]\n"
     ]
    }
   ],
   "source": [
    "# conversion from tensor to numpy\n",
    "\n",
    "tensor = torch.tensor([1, 2, 3, 4], dtype=torch.float32)\n",
    "\n",
    "numpy_array = tensor.numpy()\n",
    "\n",
    "print(\"NumPy array:\", numpy_array)"
   ]
  },
  {
   "cell_type": "code",
   "execution_count": 9,
   "id": "20cef103-57e0-41d1-a986-edb47580ac0e",
   "metadata": {
    "colab": {
     "base_uri": "https://localhost:8080/"
    },
    "id": "20cef103-57e0-41d1-a986-edb47580ac0e",
    "executionInfo": {
     "status": "ok",
     "timestamp": 1711554484396,
     "user_tz": -60,
     "elapsed": 4,
     "user": {
      "displayName": "Andrea Pozzi",
      "userId": "14271893929506141932"
     }
    },
    "outputId": "30cd0153-379d-44ab-e5e5-4ae931267d0e"
   },
   "outputs": [
    {
     "output_type": "stream",
     "name": "stdout",
     "text": [
      "Tensor: tensor([5, 6, 7, 8])\n"
     ]
    }
   ],
   "source": [
    "# conversion from numpy to PyTorch tensor\n",
    "import numpy as np\n",
    "\n",
    "# Create a NumPy array\n",
    "array = np.array([5, 6, 7, 8])\n",
    "\n",
    "tensor_from_numpy = torch.from_numpy(array)\n",
    "\n",
    "print(\"Tensor:\", tensor_from_numpy)"
   ]
  },
  {
   "cell_type": "markdown",
   "id": "94a1e23c-23f4-452c-9565-881cfbbb254a",
   "metadata": {
    "id": "94a1e23c-23f4-452c-9565-881cfbbb254a"
   },
   "source": [
    "## **Gradient Computations through Autograd Package**"
   ]
  },
  {
   "cell_type": "markdown",
   "id": "2f217f02-bbaf-4f7a-8c25-e767054800ef",
   "metadata": {
    "id": "2f217f02-bbaf-4f7a-8c25-e767054800ef"
   },
   "source": [
    "Consider a tensor x, initialized as a gaussian vector of dimension 3, and imagine we want to compute the gradient of a function of x with respect to x:"
   ]
  },
  {
   "cell_type": "code",
   "execution_count": 16,
   "id": "0924d2a3-44da-4a01-9a7b-f8fbf70b1a6d",
   "metadata": {
    "colab": {
     "base_uri": "https://localhost:8080/"
    },
    "id": "0924d2a3-44da-4a01-9a7b-f8fbf70b1a6d",
    "executionInfo": {
     "status": "ok",
     "timestamp": 1711554567624,
     "user_tz": -60,
     "elapsed": 265,
     "user": {
      "displayName": "Andrea Pozzi",
      "userId": "14271893929506141932"
     }
    },
    "outputId": "2750f3f3-d9bf-445c-ef6b-bd7ef96e9dfb"
   },
   "outputs": [
    {
     "output_type": "stream",
     "name": "stdout",
     "text": [
      "x tensor([1., 1., 1.], requires_grad=True)\n",
      "y tensor([4., 4., 4.], grad_fn=<AddBackward0>)\n",
      "z tensor(32., grad_fn=<MeanBackward0>)\n",
      "dz/dx tensor([5.3333, 5.3333, 5.3333])\n"
     ]
    }
   ],
   "source": [
    "x = torch.ones(3, requires_grad=True) # add requires_grad\n",
    "print('x', x)\n",
    "\n",
    "y = x + 2 # create a computational graph with input x and 2 and output y\n",
    "print('y', y) # we see the grad_fn attribute\n",
    "\n",
    "z = 2*y**2 # create another computational graph\n",
    "z = z.mean()\n",
    "print('z', z)\n",
    "\n",
    "# compute the gradient of z wth respect to x, i.e. dz/dx:\n",
    "z.backward() # this produce an error if x has not requires_grad=True, and also works only if z is scalar\n",
    "print('dz/dx', x.grad) #it has 3 components [dz/dx1, dz/dx2, dz/dx3]\n",
    "\n",
    "# compute the gradient of a vector y with respect to x\n",
    "# y.backward( torch.tensor([1.0, 1.0, 1.0], dtype=torch.float))"
   ]
  },
  {
   "cell_type": "markdown",
   "source": [
    "In machine learning, especially in the context of training neural networks, we primarily focus on computing the gradient of a scalar loss function with respect to the model's parameters. This is a fundamental step in the optimization process, typically performed using gradient descent or its variants.\n",
    "\n",
    "The .backward() method in PyTorch computes the gradient of a scalar quantity (usually the loss) with respect to the tensors (parameters) that have requires_grad=True. When you try to call .backward() on a tensor that is not a scalar (i.e., a vector or matrix), PyTorch will raise an error unless you provide an argument to the .backward() call. This argument needs to specify how the gradients should be aggregated to produce a scalar quantity. This is because the .backward() method is designed to work with scalar quantities to perform gradient descent optimization.\n",
    "\n",
    "The requirement for a scalar comes from the need to have a single value that represents the \"objective\" or \"cost\" that the optimization algorithm attempts to minimize. When dealing with non-scalar outputs, you must explicitly tell PyTorch how to handle them by specifying gradient arguments that effectively reduce the output to a scalar. This is often done by passing a gradient vector that matches the shape of the output, effectively performing a dot product that results in a scalar."
   ],
   "metadata": {
    "id": "p24NWULeocEu"
   },
   "id": "p24NWULeocEu"
  },
  {
   "cell_type": "code",
   "execution_count": 12,
   "id": "0144fab9-31aa-4f10-930e-29aa417962ed",
   "metadata": {
    "colab": {
     "base_uri": "https://localhost:8080/"
    },
    "id": "0144fab9-31aa-4f10-930e-29aa417962ed",
    "executionInfo": {
     "status": "ok",
     "timestamp": 1711554486129,
     "user_tz": -60,
     "elapsed": 3,
     "user": {
      "displayName": "Andrea Pozzi",
      "userId": "14271893929506141932"
     }
    },
    "outputId": "1f4e1aab-ad2c-4dd5-af71-10dfbe883c1a"
   },
   "outputs": [
    {
     "output_type": "stream",
     "name": "stdout",
     "text": [
      "tensor([2.2303, 0.8771, 1.8137])\n"
     ]
    }
   ],
   "source": [
    "# if we want to perform some operations without requiring the gradient\n",
    "with torch.no_grad():\n",
    "    y = x + 2\n",
    "\n",
    "print(y)"
   ]
  },
  {
   "cell_type": "code",
   "execution_count": 23,
   "id": "e1799ff8-4e8d-490b-81a0-61ac9524e73e",
   "metadata": {
    "colab": {
     "base_uri": "https://localhost:8080/"
    },
    "id": "e1799ff8-4e8d-490b-81a0-61ac9524e73e",
    "executionInfo": {
     "status": "ok",
     "timestamp": 1711555484772,
     "user_tz": -60,
     "elapsed": 1,
     "user": {
      "displayName": "Andrea Pozzi",
      "userId": "14271893929506141932"
     }
    },
    "outputId": "5141e342-dcb6-4aa3-d35d-1ee0906968a1"
   },
   "outputs": [
    {
     "output_type": "stream",
     "name": "stdout",
     "text": [
      "tensor([4., 4., 4.])\n",
      "tensor([8., 8., 8.])\n",
      "tensor([12., 12., 12.])\n",
      "tensor([16., 16., 16.])\n",
      "tensor([20., 20., 20.])\n",
      "tensor([24., 24., 24.])\n",
      "tensor([28., 28., 28.])\n",
      "tensor([32., 32., 32.])\n",
      "tensor([36., 36., 36.])\n",
      "tensor([40., 40., 40.])\n"
     ]
    }
   ],
   "source": [
    "# avoid gradient accumulation within loops (for instance during gradient descent):\n",
    "n_steps = 10\n",
    "x = torch.ones(3, requires_grad=True) # add requires_grad\n",
    "\n",
    "def forward(x):\n",
    "  y = x + 2\n",
    "  z = 2*y**2 # create another computational graph\n",
    "  z = z.mean()\n",
    "  return z\n",
    "\n",
    "for i in range(n_steps):\n",
    "    z = forward(x)\n",
    "    z.backward()\n",
    "\n",
    "    # w_next = w - alpha * w.grad\n",
    "\n",
    "    print(x.grad)\n",
    "\n",
    "    # x.grad.zero_() # to avoid gradient accumulation\n"
   ]
  },
  {
   "cell_type": "markdown",
   "id": "ee515ef4-ddb9-4354-9339-5e80b70dca64",
   "metadata": {
    "id": "ee515ef4-ddb9-4354-9339-5e80b70dca64"
   },
   "source": [
    "## **Backpropagation**\n",
    "Divided into 3 steps:\n",
    "- forward pass;\n",
    "- computation of local gradients;\n",
    "- backward pass (using the chain rule)\n",
    "  \n",
    "Let's consider a function l = (w * x - y)^2, and we want to compute the gradient dl/dw.\n",
    "\n",
    "We create the computational graph as:\n",
    "\n",
    "q = w * x\n",
    "\n",
    "s = q - y\n",
    "\n",
    "l = s^2  \n",
    "\n",
    "- With the forward pass we compute q, s and l;\n",
    "- We compute the analytical expressions of the local gradients (d l / d s),  (d s / d q), (d q / d w) and we evaluate them in the computed q, s and l;\n",
    "- we apply the Chain Rule -> d l / d w = (d l / d s)  (d s / d q)  (d q / d w)\n",
    "\n",
    "Consider a numerical example with x=1, y=2, w=1:\n",
    "\n",
    "Forward:\n",
    "- q = w*x = 1\n",
    "- s=q-y = -1\n",
    "- l = s^2 = 1\n",
    "\n",
    "Local Gradients:\n",
    "- d l / ds = 2*s = -2\n",
    "- d s / d q = 1\n",
    "- d q / d w = x = 1\n",
    "\n",
    "Backward (chain rule):\n",
    "d l / d w  = -2 * 1 * 1 = -2"
   ]
  },
  {
   "cell_type": "code",
   "execution_count": null,
   "id": "c118a82d-3b3e-46fb-9916-2a7b63b2c25b",
   "metadata": {
    "id": "c118a82d-3b3e-46fb-9916-2a7b63b2c25b",
    "outputId": "344379b1-bb08-41f5-eda6-8f395d380e0c"
   },
   "outputs": [
    {
     "name": "stdout",
     "output_type": "stream",
     "text": [
      "tensor(-2.)\n"
     ]
    }
   ],
   "source": [
    "# check LR example with PyTorch\n",
    "x = torch.tensor(1.0)\n",
    "y = torch.tensor(2.0)\n",
    "w = torch.tensor(1.0, requires_grad=True)\n",
    "\n",
    "l = (w*x-y)**2\n",
    "\n",
    "l.backward()\n",
    "\n",
    "print(w.grad)"
   ]
  },
  {
   "cell_type": "markdown",
   "id": "837aace4-db71-4dcb-bc90-d47ee2129406",
   "metadata": {
    "id": "837aace4-db71-4dcb-bc90-d47ee2129406"
   },
   "source": [
    "## **Linear Regression with Autograd**\n",
    "\n",
    "Consider the real data distribution to be y = 2 * x"
   ]
  },
  {
   "cell_type": "code",
   "execution_count": null,
   "id": "a39d9d2a-3383-4b52-bbcd-7efcac507855",
   "metadata": {
    "id": "a39d9d2a-3383-4b52-bbcd-7efcac507855",
    "outputId": "152a585c-596d-4ffa-db75-b42907c28a4d"
   },
   "outputs": [
    {
     "name": "stdout",
     "output_type": "stream",
     "text": [
      "Prediction before training: f(5) = 0.0\n",
      "\n",
      "epoch 0: w = 0.29999998211860657, loss = 30.0\n",
      "epoch 5: w = 1.2457009553909302, loss = 5.9062323570251465\n",
      "epoch 10: w = 1.6653136014938354, loss = 1.1627856492996216\n",
      "epoch 15: w = 1.8514978885650635, loss = 0.22892260551452637\n",
      "epoch 20: w = 1.934108853340149, loss = 0.0450688973069191\n",
      "epoch 25: w = 1.9707638025283813, loss = 0.008872910402715206\n",
      "epoch 30: w = 1.987027645111084, loss = 0.0017468547448515892\n",
      "epoch 35: w = 1.99424409866333, loss = 0.00034391897497698665\n",
      "epoch 40: w = 1.9974461793899536, loss = 6.770494655938819e-05\n",
      "epoch 45: w = 1.9988667964935303, loss = 1.3328777640708722e-05\n",
      "epoch 50: w = 1.9994971752166748, loss = 2.6243997126584873e-06\n",
      "epoch 55: w = 1.999776840209961, loss = 5.168862458049261e-07\n",
      "epoch 60: w = 1.9999010562896729, loss = 1.0175587306093803e-07\n",
      "epoch 65: w = 1.9999560117721558, loss = 2.0093764874218323e-08\n",
      "epoch 70: w = 1.9999804496765137, loss = 3.9741685498029256e-09\n",
      "epoch 75: w = 1.9999914169311523, loss = 7.718661265698756e-10\n",
      "epoch 80: w = 1.999996304512024, loss = 1.4670220593870908e-10\n",
      "epoch 85: w = 1.9999983310699463, loss = 2.7284841053187847e-11\n",
      "epoch 90: w = 1.9999992847442627, loss = 5.076827847005916e-12\n",
      "epoch 95: w = 1.9999996423721313, loss = 8.988365607365267e-13\n",
      "\n",
      "Prediction after training: f(5) = 9.999998092651367\n"
     ]
    }
   ],
   "source": [
    "X = torch.tensor([1,2,3,4], dtype = torch.float32)\n",
    "y = 2 * X\n",
    "\n",
    "# initialize the weights\n",
    "w = torch.tensor(0.0, requires_grad=True)\n",
    "\n",
    "def forward(x):\n",
    "    return w*x\n",
    "\n",
    "def loss_fun(y, y_pred):\n",
    "    return ((y-y_pred)**2).mean()\n",
    "\n",
    "print(f'Prediction before training: f(5) = {forward(5)}\\n')\n",
    "\n",
    "# training\n",
    "\n",
    "lr = 0.01 #learning rate\n",
    "n_epochs = 100\n",
    "\n",
    "for epoch in range(n_epochs): # in each step i compute the mean loss over all the samples in the dataset\n",
    "\n",
    "    # forward pass: prediction\n",
    "    y_pred = forward(X)\n",
    "    loss = loss_fun(y, y_pred)\n",
    "\n",
    "    # gradient computations and backward pass\n",
    "    loss.backward()\n",
    "\n",
    "    # learn\n",
    "    with torch.no_grad(): # this should not be part of the computational graph\n",
    "        w -= lr * w.grad\n",
    "\n",
    "    #zero gradients\n",
    "    w.grad.zero_() #modified in place\n",
    "\n",
    "    if epoch % 5 == 0:\n",
    "        print(f'epoch {epoch}: w = {w}, loss = {loss}')\n",
    "\n",
    "print(f'\\nPrediction after training: f(5) = {forward(5)}')\n"
   ]
  },
  {
   "cell_type": "markdown",
   "id": "f255e535-bde8-4898-9141-662549b86a30",
   "metadata": {
    "id": "f255e535-bde8-4898-9141-662549b86a30"
   },
   "source": [
    "Note: when updating model parameters with gradient descent, the operation itself does not need gradients because it’s an optimization step, not a part of the model’s forward or backward pass. torch.no_grad() ensures that these operations don't track gradients, which could otherwise lead to unnecessary computational overhead and potential confusion over why gradients are being computed for an update step."
   ]
  },
  {
   "cell_type": "markdown",
   "id": "7c27ca59-c559-4301-87aa-6f0cdf7f318b",
   "metadata": {
    "id": "7c27ca59-c559-4301-87aa-6f0cdf7f318b"
   },
   "source": [
    "## **Linear Regression with Loss and Optimizer**"
   ]
  },
  {
   "cell_type": "code",
   "execution_count": null,
   "id": "9c864088-c8f9-4695-a3b8-7e7c2f7cc685",
   "metadata": {
    "id": "9c864088-c8f9-4695-a3b8-7e7c2f7cc685",
    "outputId": "c602c3f1-a725-45a4-fded-2fc0ef76ca7d"
   },
   "outputs": [
    {
     "name": "stdout",
     "output_type": "stream",
     "text": [
      "Prediction before training: f(5) = 0.0\n",
      "\n",
      "epoch 0: w = 0.29999998211860657, loss = 30.0\n",
      "epoch 5: w = 1.2457009553909302, loss = 5.9062323570251465\n",
      "epoch 10: w = 1.6653136014938354, loss = 1.1627856492996216\n",
      "epoch 15: w = 1.8514978885650635, loss = 0.22892260551452637\n",
      "epoch 20: w = 1.934108853340149, loss = 0.0450688973069191\n",
      "epoch 25: w = 1.9707638025283813, loss = 0.008872910402715206\n",
      "epoch 30: w = 1.987027645111084, loss = 0.0017468547448515892\n",
      "epoch 35: w = 1.99424409866333, loss = 0.00034391897497698665\n",
      "epoch 40: w = 1.9974461793899536, loss = 6.770494655938819e-05\n",
      "epoch 45: w = 1.9988667964935303, loss = 1.3328777640708722e-05\n",
      "epoch 50: w = 1.9994971752166748, loss = 2.6243997126584873e-06\n",
      "epoch 55: w = 1.999776840209961, loss = 5.168862458049261e-07\n",
      "epoch 60: w = 1.9999010562896729, loss = 1.0175587306093803e-07\n",
      "epoch 65: w = 1.9999560117721558, loss = 2.0093764874218323e-08\n",
      "epoch 70: w = 1.9999804496765137, loss = 3.9741685498029256e-09\n",
      "epoch 75: w = 1.9999914169311523, loss = 7.718661265698756e-10\n",
      "epoch 80: w = 1.999996304512024, loss = 1.4670220593870908e-10\n",
      "epoch 85: w = 1.9999983310699463, loss = 2.7284841053187847e-11\n",
      "epoch 90: w = 1.9999992847442627, loss = 5.076827847005916e-12\n",
      "epoch 95: w = 1.9999996423721313, loss = 8.988365607365267e-13\n",
      "\n",
      "Prediction after training: f(5) = 9.999998092651367\n"
     ]
    }
   ],
   "source": [
    "X = torch.tensor([1,2,3,4], dtype = torch.float32)\n",
    "y = 2 * X\n",
    "\n",
    "# initialize the weights\n",
    "w = torch.tensor(0.0, requires_grad=True)\n",
    "\n",
    "def forward(x):\n",
    "    return w*x\n",
    "\n",
    "print(f'Prediction before training: f(5) = {forward(5)}\\n')\n",
    "\n",
    "# training\n",
    "\n",
    "lr = 0.01 #learning rate\n",
    "n_epochs = 100\n",
    "\n",
    "loss_fun = torch.nn.MSELoss() # Mean Square Error Loss\n",
    "optimizer = torch.optim.SGD([w], lr=lr) # Stochastic Gradient Descent\n",
    "\n",
    "for epoch in range(n_epochs): # in each step i compute the mean loss over all the samples in the dataset\n",
    "\n",
    "    # forward pass: prediction\n",
    "    y_pred = forward(X)\n",
    "    loss = loss_fun(y, y_pred)\n",
    "\n",
    "    #backward pass\n",
    "    loss.backward()\n",
    "\n",
    "    optimizer.step()\n",
    "\n",
    "    #zero gradients\n",
    "    optimizer.zero_grad() #modified in place\n",
    "\n",
    "    if epoch % 5 == 0:\n",
    "        print(f'epoch {epoch}: w = {w}, loss = {loss}')\n",
    "\n",
    "print(f'\\nPrediction after training: f(5) = {forward(5)}')"
   ]
  },
  {
   "cell_type": "markdown",
   "id": "e8361dd4-3a9e-4f0a-afc9-b5156830dcaa",
   "metadata": {
    "id": "e8361dd4-3a9e-4f0a-afc9-b5156830dcaa"
   },
   "source": [
    "## **Linear Regression with Torch Model**"
   ]
  },
  {
   "cell_type": "code",
   "execution_count": null,
   "id": "a43d57c1-f702-4757-9d50-c372365a7a7a",
   "metadata": {
    "id": "a43d57c1-f702-4757-9d50-c372365a7a7a",
    "outputId": "ebaf248b-0b94-4c73-9266-00eab82c58d0"
   },
   "outputs": [
    {
     "name": "stdout",
     "output_type": "stream",
     "text": [
      "epoch 0: w = 0.11748835444450378, loss = 25.420246124267578\n",
      "epoch 5: w = 0.9429894089698792, loss = 4.403225898742676\n",
      "epoch 10: w = 1.278558611869812, loss = 1.0133731365203857\n",
      "epoch 15: w = 1.4175691604614258, loss = 0.4591057300567627\n",
      "epoch 20: w = 1.4776818752288818, loss = 0.3612057864665985\n",
      "epoch 25: w = 1.506087064743042, loss = 0.33697032928466797\n",
      "epoch 30: w = 1.5217115879058838, loss = 0.3248346149921417\n",
      "epoch 35: w = 1.5321474075317383, loss = 0.3148883283138275\n",
      "epoch 40: w = 1.5404400825500488, loss = 0.3055303394794464\n",
      "epoch 45: w = 1.5478122234344482, loss = 0.29649630188941956\n",
      "epoch 50: w = 1.5547549724578857, loss = 0.287736713886261\n",
      "epoch 55: w = 1.561466097831726, loss = 0.2792370915412903\n",
      "epoch 60: w = 1.568026065826416, loss = 0.2709885835647583\n",
      "epoch 65: w = 1.574467658996582, loss = 0.26298394799232483\n",
      "epoch 70: w = 1.5808051824569702, loss = 0.25521570444107056\n",
      "epoch 75: w = 1.5870451927185059, loss = 0.2476767748594284\n",
      "epoch 80: w = 1.5931910276412964, loss = 0.2403608113527298\n",
      "epoch 85: w = 1.5992447137832642, loss = 0.23326066136360168\n",
      "epoch 90: w = 1.605208158493042, loss = 0.2263704538345337\n",
      "epoch 95: w = 1.611082673072815, loss = 0.21968373656272888\n",
      "epoch 100: w = 1.6168698072433472, loss = 0.21319453418254852\n",
      "epoch 105: w = 1.6225708723068237, loss = 0.20689700543880463\n",
      "epoch 110: w = 1.6281870603561401, loss = 0.20078545808792114\n",
      "epoch 115: w = 1.6337196826934814, loss = 0.19485440850257874\n",
      "epoch 120: w = 1.6391700506210327, loss = 0.18909874558448792\n",
      "epoch 125: w = 1.6445392370224, loss = 0.18351295590400696\n",
      "epoch 130: w = 1.649828553199768, loss = 0.17809230089187622\n",
      "epoch 135: w = 1.6550391912460327, loss = 0.172831729054451\n",
      "epoch 140: w = 1.6601722240447998, loss = 0.16772645711898804\n",
      "epoch 145: w = 1.6652288436889648, loss = 0.16277188062667847\n",
      "epoch 150: w = 1.6702102422714233, loss = 0.15796388685703278\n",
      "epoch 155: w = 1.6751176118850708, loss = 0.15329769253730774\n",
      "epoch 160: w = 1.6799519062042236, loss = 0.1487695574760437\n",
      "epoch 165: w = 1.6847143173217773, loss = 0.1443750560283661\n",
      "epoch 170: w = 1.6894057989120483, loss = 0.14011040329933167\n",
      "epoch 175: w = 1.6940274238586426, loss = 0.13597159087657928\n",
      "epoch 180: w = 1.6985803842544556, loss = 0.13195522129535675\n",
      "epoch 185: w = 1.7030655145645142, loss = 0.1280573606491089\n",
      "epoch 190: w = 1.7074838876724243, loss = 0.12427473068237305\n",
      "epoch 195: w = 1.7118366956710815, loss = 0.12060382217168808\n",
      "epoch 200: w = 1.7161245346069336, loss = 0.11704127490520477\n",
      "epoch 205: w = 1.7203487157821655, loss = 0.1135840192437172\n",
      "epoch 210: w = 1.7245099544525146, loss = 0.11022891849279404\n",
      "epoch 215: w = 1.728609323501587, loss = 0.10697286576032639\n",
      "epoch 220: w = 1.7326476573944092, loss = 0.10381297022104263\n",
      "epoch 225: w = 1.7366257905960083, loss = 0.10074646770954132\n",
      "epoch 230: w = 1.7405449151992798, loss = 0.09777051210403442\n",
      "epoch 235: w = 1.7444056272506714, loss = 0.09488257020711899\n",
      "epoch 240: w = 1.7482088804244995, loss = 0.09207978844642639\n",
      "epoch 245: w = 1.7519556283950806, loss = 0.08935990929603577\n",
      "epoch 250: w = 1.7556464672088623, loss = 0.0867203027009964\n",
      "epoch 255: w = 1.7592825889587402, loss = 0.08415868133306503\n",
      "epoch 260: w = 1.762864351272583, loss = 0.08167274296283722\n",
      "epoch 265: w = 1.7663930654525757, loss = 0.0792601928114891\n",
      "epoch 270: w = 1.769869089126587, loss = 0.07691894471645355\n",
      "epoch 275: w = 1.7732934951782227, loss = 0.07464687526226044\n",
      "epoch 280: w = 1.7766669988632202, loss = 0.07244183123111725\n",
      "epoch 285: w = 1.7799901962280273, loss = 0.07030201703310013\n",
      "epoch 290: w = 1.783263921737671, loss = 0.06822536140680313\n",
      "epoch 295: w = 1.7864890098571777, loss = 0.0662100613117218\n",
      "epoch 300: w = 1.789665937423706, loss = 0.0642542839050293\n",
      "epoch 305: w = 1.7927957773208618, loss = 0.062356315553188324\n",
      "epoch 310: w = 1.7958790063858032, loss = 0.06051437929272652\n",
      "epoch 315: w = 1.7989163398742676, loss = 0.05872682109475136\n",
      "epoch 320: w = 1.8019084930419922, loss = 0.05699215829372406\n",
      "epoch 325: w = 1.8048561811447144, loss = 0.05530870333313942\n",
      "epoch 330: w = 1.8077600002288818, loss = 0.053674910217523575\n",
      "epoch 335: w = 1.8106205463409424, loss = 0.05208944156765938\n",
      "epoch 340: w = 1.8134385347366333, loss = 0.050550736486911774\n",
      "epoch 345: w = 1.8162145614624023, loss = 0.049057554453611374\n",
      "epoch 350: w = 1.8189493417739868, loss = 0.04760843142867088\n",
      "epoch 355: w = 1.821643352508545, loss = 0.046202149242162704\n",
      "epoch 360: w = 1.824297308921814, loss = 0.04483736306428909\n",
      "epoch 365: w = 1.8269118070602417, loss = 0.04351295530796051\n",
      "epoch 370: w = 1.8294873237609863, loss = 0.04222758859395981\n",
      "epoch 375: w = 1.8320246934890747, loss = 0.04098021611571312\n",
      "epoch 380: w = 1.834524154663086, loss = 0.0397697389125824\n",
      "epoch 385: w = 1.8369864225387573, loss = 0.03859497979283333\n",
      "epoch 390: w = 1.8394120931625366, loss = 0.037454910576343536\n",
      "epoch 395: w = 1.841801643371582, loss = 0.036348577588796616\n",
      "epoch 400: w = 1.8441557884216309, loss = 0.03527485206723213\n",
      "epoch 405: w = 1.8464747667312622, loss = 0.03423287346959114\n",
      "epoch 410: w = 1.8487592935562134, loss = 0.03322168439626694\n",
      "epoch 415: w = 1.851009726524353, loss = 0.03224034234881401\n",
      "epoch 420: w = 1.853226661682129, loss = 0.03128795325756073\n",
      "epoch 425: w = 1.8554105758666992, loss = 0.030363764613866806\n",
      "epoch 430: w = 1.8575621843338013, loss = 0.02946690283715725\n",
      "epoch 435: w = 1.8596817255020142, loss = 0.02859647199511528\n",
      "epoch 440: w = 1.8617695569992065, loss = 0.027751782909035683\n",
      "epoch 445: w = 1.8638265132904053, loss = 0.026931997388601303\n",
      "epoch 450: w = 1.8658527135849, loss = 0.026136446744203568\n",
      "epoch 455: w = 1.8678488731384277, loss = 0.025364400818943977\n",
      "epoch 460: w = 1.8698152303695679, loss = 0.024615172296762466\n",
      "epoch 465: w = 1.8717525005340576, loss = 0.023888086900115013\n",
      "epoch 470: w = 1.8736608028411865, loss = 0.023182447999715805\n",
      "epoch 475: w = 1.8755407333374023, loss = 0.022497685626149178\n",
      "epoch 480: w = 1.8773927688598633, loss = 0.021833118051290512\n",
      "epoch 485: w = 1.879217267036438, loss = 0.02118818834424019\n",
      "epoch 490: w = 1.881014347076416, loss = 0.020562289282679558\n",
      "epoch 495: w = 1.8827850818634033, loss = 0.019954930990934372\n",
      "epoch 500: w = 1.8845292329788208, loss = 0.0193654652684927\n",
      "epoch 505: w = 1.8862473964691162, loss = 0.018793443217873573\n",
      "epoch 510: w = 1.8879400491714478, loss = 0.018238313496112823\n",
      "epoch 515: w = 1.889607548713684, loss = 0.017699558287858963\n",
      "epoch 520: w = 1.8912501335144043, loss = 0.017176751047372818\n",
      "epoch 525: w = 1.8928683996200562, loss = 0.01666935160756111\n",
      "epoch 530: w = 1.8944624662399292, loss = 0.016176946461200714\n",
      "epoch 535: w = 1.8960330486297607, loss = 0.015699097886681557\n",
      "epoch 540: w = 1.8975800275802612, loss = 0.015235393308103085\n",
      "epoch 545: w = 1.8991039991378784, loss = 0.014785340055823326\n",
      "epoch 550: w = 1.900605320930481, loss = 0.014348621480166912\n",
      "epoch 555: w = 1.9020843505859375, loss = 0.01392477098852396\n",
      "epoch 560: w = 1.9035413265228271, loss = 0.013513453304767609\n",
      "epoch 565: w = 1.904976725578308, loss = 0.013114283792674541\n",
      "epoch 570: w = 1.9063905477523804, loss = 0.012726882472634315\n",
      "epoch 575: w = 1.9077835083007812, loss = 0.012350961565971375\n",
      "epoch 580: w = 1.9091557264328003, loss = 0.01198611781001091\n",
      "epoch 585: w = 1.9105075597763062, loss = 0.011632073670625687\n",
      "epoch 590: w = 1.911839246749878, loss = 0.011288458481431007\n",
      "epoch 595: w = 1.9131510257720947, loss = 0.010955031029880047\n",
      "epoch 600: w = 1.9144433736801147, loss = 0.010631401091814041\n",
      "epoch 605: w = 1.915716528892517, loss = 0.010317370295524597\n",
      "epoch 610: w = 1.9169706106185913, loss = 0.010012613609433174\n",
      "epoch 615: w = 1.9182060956954956, loss = 0.009716863743960857\n",
      "epoch 620: w = 1.919423222541809, loss = 0.009429804980754852\n",
      "epoch 625: w = 1.9206222295761108, loss = 0.009151261299848557\n",
      "epoch 630: w = 1.9218034744262695, loss = 0.008880949579179287\n",
      "epoch 635: w = 1.9229669570922852, loss = 0.008618616499006748\n",
      "epoch 640: w = 1.9241132736206055, loss = 0.00836403202265501\n",
      "epoch 645: w = 1.92524254322052, loss = 0.00811696331948042\n",
      "epoch 650: w = 1.9263548851013184, loss = 0.007877199910581112\n",
      "epoch 655: w = 1.9274506568908691, loss = 0.007644506171345711\n",
      "epoch 660: w = 1.928530216217041, loss = 0.007418708875775337\n",
      "epoch 665: w = 1.929593801498413, loss = 0.007199568673968315\n",
      "epoch 670: w = 1.9306414127349854, loss = 0.0069869039580225945\n",
      "epoch 675: w = 1.9316734075546265, loss = 0.006780508439987898\n",
      "epoch 680: w = 1.932690143585205, loss = 0.0065802112221717834\n",
      "epoch 685: w = 1.9336916208267212, loss = 0.006385846994817257\n",
      "epoch 690: w = 1.934678316116333, loss = 0.006197232753038406\n",
      "epoch 695: w = 1.9356504678726196, loss = 0.006014159414917231\n",
      "epoch 700: w = 1.9366079568862915, loss = 0.005836517550051212\n",
      "epoch 705: w = 1.9375512599945068, loss = 0.005664116702973843\n",
      "epoch 710: w = 1.9384804964065552, loss = 0.005496802739799023\n",
      "epoch 715: w = 1.9393959045410156, loss = 0.005334413610398769\n",
      "epoch 720: w = 1.9402976036071777, loss = 0.00517685804516077\n",
      "epoch 725: w = 1.9411860704421997, loss = 0.005023927893489599\n",
      "epoch 730: w = 1.9420613050460815, loss = 0.004875536076724529\n",
      "epoch 735: w = 1.9429234266281128, loss = 0.004731510300189257\n",
      "epoch 740: w = 1.9437726736068726, loss = 0.004591760225594044\n",
      "epoch 745: w = 1.94460928440094, loss = 0.004456119611859322\n",
      "epoch 750: w = 1.945433497428894, loss = 0.004324485547840595\n",
      "epoch 755: w = 1.9462454319000244, loss = 0.004196746740490198\n",
      "epoch 760: w = 1.9470453262329102, loss = 0.004072785843163729\n",
      "epoch 765: w = 1.9478332996368408, loss = 0.003952483646571636\n",
      "epoch 770: w = 1.9486095905303955, loss = 0.003835721407085657\n",
      "epoch 775: w = 1.9493743181228638, loss = 0.0037224208936095238\n",
      "epoch 780: w = 1.9501276016235352, loss = 0.0036124729085713625\n",
      "epoch 785: w = 1.9508697986602783, loss = 0.0035057535860687494\n",
      "epoch 790: w = 1.9516007900238037, loss = 0.003402191214263439\n",
      "epoch 795: w = 1.9523210525512695, loss = 0.003301713615655899\n",
      "epoch 800: w = 1.9530304670333862, loss = 0.003204178297892213\n",
      "epoch 805: w = 1.9537293910980225, loss = 0.003109515178948641\n",
      "epoch 810: w = 1.9544179439544678, loss = 0.0030176746658980846\n",
      "epoch 815: w = 1.9550962448120117, loss = 0.0029285401105880737\n",
      "epoch 820: w = 1.9557644128799438, loss = 0.0028420190792530775\n",
      "epoch 825: w = 1.9564226865768433, loss = 0.0027580847963690758\n",
      "epoch 830: w = 1.95707106590271, loss = 0.0026765980292111635\n",
      "epoch 835: w = 1.957709789276123, loss = 0.002597546437755227\n",
      "epoch 840: w = 1.9583390951156616, loss = 0.0025208108127117157\n",
      "epoch 845: w = 1.9589589834213257, loss = 0.0024463473819196224\n",
      "epoch 850: w = 1.9595696926116943, loss = 0.002374089788645506\n",
      "epoch 855: w = 1.9601712226867676, loss = 0.002303964924067259\n",
      "epoch 860: w = 1.960763931274414, loss = 0.002235913183540106\n",
      "epoch 865: w = 1.9613478183746338, loss = 0.002169859129935503\n",
      "epoch 870: w = 1.9619230031967163, loss = 0.0021057622507214546\n",
      "epoch 875: w = 1.9624896049499512, loss = 0.0020435613114386797\n",
      "epoch 880: w = 1.963047742843628, loss = 0.0019831955432891846\n",
      "epoch 885: w = 1.9635976552963257, loss = 0.0019246144220232964\n",
      "epoch 890: w = 1.9641392230987549, loss = 0.0018677711486816406\n",
      "epoch 895: w = 1.9646729230880737, loss = 0.0018125997157767415\n",
      "epoch 900: w = 1.9651986360549927, loss = 0.0017590493662282825\n",
      "epoch 905: w = 1.9657164812088013, loss = 0.001707090879790485\n",
      "epoch 910: w = 1.966226577758789, loss = 0.0016566640697419643\n",
      "epoch 915: w = 1.9667291641235352, loss = 0.0016077266773208976\n",
      "epoch 920: w = 1.9672242403030396, loss = 0.0015602337662130594\n",
      "epoch 925: w = 1.9677119255065918, loss = 0.0015141479671001434\n",
      "epoch 930: w = 1.9681923389434814, loss = 0.00146942725405097\n",
      "epoch 935: w = 1.968665599822998, loss = 0.0014260238967835903\n",
      "epoch 940: w = 1.9691318273544312, loss = 0.0013838930753991008\n",
      "epoch 945: w = 1.9695911407470703, loss = 0.001343017676845193\n",
      "epoch 950: w = 1.970043659210205, loss = 0.00130334438290447\n",
      "epoch 955: w = 1.9704893827438354, loss = 0.0012648478150367737\n",
      "epoch 960: w = 1.9709285497665405, loss = 0.001227488392032683\n",
      "epoch 965: w = 1.9713611602783203, loss = 0.0011912198970094323\n",
      "epoch 970: w = 1.9717873334884644, loss = 0.0011560397688299417\n",
      "epoch 975: w = 1.9722070693969727, loss = 0.0011218885192647576\n",
      "epoch 980: w = 1.9726207256317139, loss = 0.0010887496173381805\n",
      "epoch 985: w = 1.9730280637741089, loss = 0.0010565905831754208\n",
      "epoch 990: w = 1.9734293222427368, loss = 0.0010253818472847342\n",
      "epoch 995: w = 1.9738247394561768, loss = 0.0009950955864042044\n",
      "\n",
      "Prediction after training: f(5) = tensor([[9.8707]], grad_fn=<MulBackward0>)\n"
     ]
    }
   ],
   "source": [
    "X = torch.tensor([1,2,3,4], dtype = torch.float32)\n",
    "X = X.reshape(4, 1) # 4 samples, 1 feature\n",
    "y = 2 * X\n",
    "\n",
    "x_test = torch.tensor(5, dtype = torch.float32)\n",
    "\n",
    "n_samples, n_features = X.shape\n",
    "\n",
    "# training\n",
    "lr = 0.01 #learning rate\n",
    "n_epochs = 1000\n",
    "\n",
    "input_size = n_features\n",
    "output_size = 1\n",
    "model = torch.nn.Linear(input_size, output_size)\n",
    "loss_fun = torch.nn.MSELoss() # Mean Square Error Loss\n",
    "optimizer = torch.optim.SGD(model.parameters(), lr=lr) # Stochastic Gradient Descent\n",
    "\n",
    "\n",
    "for epoch in range(n_epochs): # in each step i compute the mean loss over all the samples in the dataset\n",
    "\n",
    "    # forward pass: prediction\n",
    "    y_pred = model(X)\n",
    "    loss = loss_fun(y_pred, y)\n",
    "\n",
    "    #backward pass\n",
    "    loss.backward()\n",
    "\n",
    "    optimizer.step()\n",
    "\n",
    "    #zero gradients\n",
    "    optimizer.zero_grad() #modified in place\n",
    "\n",
    "    if epoch % 5 == 0:\n",
    "        [w, b] = model.parameters()\n",
    "        print(f'epoch {epoch}: w = {w.item()}, loss = {loss}')\n",
    "\n",
    "print(f'\\nPrediction after training: f(5) = {forward(x_test)}')"
   ]
  },
  {
   "cell_type": "markdown",
   "id": "17ac6bfc-babd-4bac-b90b-7c910e7f14ac",
   "metadata": {
    "id": "17ac6bfc-babd-4bac-b90b-7c910e7f14ac"
   },
   "source": [
    "## **ANN Example**"
   ]
  },
  {
   "cell_type": "code",
   "execution_count": 25,
   "id": "36fbb5e9-48fb-4d18-8da1-8db89289a557",
   "metadata": {
    "id": "36fbb5e9-48fb-4d18-8da1-8db89289a557",
    "executionInfo": {
     "status": "ok",
     "timestamp": 1711557476115,
     "user_tz": -60,
     "elapsed": 1574,
     "user": {
      "displayName": "Andrea Pozzi",
      "userId": "14271893929506141932"
     }
    }
   },
   "outputs": [],
   "source": [
    "from sklearn import datasets\n",
    "from sklearn.preprocessing import StandardScaler\n",
    "from sklearn.model_selection import train_test_split"
   ]
  },
  {
   "cell_type": "code",
   "execution_count": 26,
   "id": "81603bd2-bea7-4609-963b-34c9bee46b46",
   "metadata": {
    "colab": {
     "base_uri": "https://localhost:8080/"
    },
    "id": "81603bd2-bea7-4609-963b-34c9bee46b46",
    "executionInfo": {
     "status": "ok",
     "timestamp": 1711557476115,
     "user_tz": -60,
     "elapsed": 2,
     "user": {
      "displayName": "Andrea Pozzi",
      "userId": "14271893929506141932"
     }
    },
    "outputId": "fd2a0443-3727-41e5-c45d-460c6e03a145"
   },
   "outputs": [
    {
     "output_type": "stream",
     "name": "stdout",
     "text": [
      "569 30\n"
     ]
    }
   ],
   "source": [
    "# Get the data\n",
    "bc = datasets.load_breast_cancer()\n",
    "X, y = bc.data, bc.target\n",
    "n_samples, n_features = X.shape\n",
    "print(n_samples, n_features)"
   ]
  },
  {
   "cell_type": "code",
   "execution_count": 27,
   "id": "c525f7a1-0f21-422b-8ac2-27d09a2a63bc",
   "metadata": {
    "id": "c525f7a1-0f21-422b-8ac2-27d09a2a63bc",
    "executionInfo": {
     "status": "ok",
     "timestamp": 1711557476115,
     "user_tz": -60,
     "elapsed": 1,
     "user": {
      "displayName": "Andrea Pozzi",
      "userId": "14271893929506141932"
     }
    }
   },
   "outputs": [],
   "source": [
    "# Split and Scale\n",
    "X_train, X_test, y_train, y_test = train_test_split(X, y, test_size=0.2, random_state=1234)\n",
    "\n",
    "sc = StandardScaler()\n",
    "\n",
    "X_train_scaled = sc.fit_transform(X_train)\n",
    "X_test_scaled = sc.fit_transform(X_test)\n",
    "\n",
    "X_train_scaled = torch.from_numpy(X_train_scaled.astype(np.float32))\n",
    "X_test_scaled = torch.from_numpy(X_test_scaled.astype(np.float32))\n",
    "y_train = torch.from_numpy(y_train.astype(np.float32))\n",
    "y_test = torch.from_numpy(y_test.astype(np.float32))\n",
    "\n",
    "y_train = y_train.reshape(y_train.shape[0], 1)\n",
    "y_test = y_test.reshape(y_test.shape[0], 1)"
   ]
  },
  {
   "cell_type": "code",
   "execution_count": 51,
   "id": "c4e2d676-11cc-4398-89a2-d1eb327c4225",
   "metadata": {
    "colab": {
     "base_uri": "https://localhost:8080/"
    },
    "id": "c4e2d676-11cc-4398-89a2-d1eb327c4225",
    "executionInfo": {
     "status": "ok",
     "timestamp": 1711558842006,
     "user_tz": -60,
     "elapsed": 16396,
     "user": {
      "displayName": "Andrea Pozzi",
      "userId": "14271893929506141932"
     }
    },
    "outputId": "50e7eadf-aff3-438f-e0e1-1b1fe864757c"
   },
   "outputs": [
    {
     "output_type": "stream",
     "name": "stdout",
     "text": [
      "epoch 0: train_loss = 0.7691152691841125, test_loss0.7513837218284607\n",
      "epoch 1000: train_loss = 0.08292501419782639, test_loss0.17408719658851624\n",
      "epoch 2000: train_loss = 0.051871709525585175, test_loss0.14702516794204712\n",
      "epoch 3000: train_loss = 0.0408908911049366, test_loss0.14192426204681396\n",
      "epoch 4000: train_loss = 0.034955691546201706, test_loss0.1425352543592453\n",
      "epoch 5000: train_loss = 0.031120499595999718, test_loss0.14412252604961395\n",
      "epoch 6000: train_loss = 0.028222914785146713, test_loss0.14587010443210602\n",
      "epoch 7000: train_loss = 0.02602395787835121, test_loss0.14802369475364685\n",
      "epoch 8000: train_loss = 0.024250933900475502, test_loss0.15041904151439667\n",
      "epoch 9000: train_loss = 0.022732121869921684, test_loss0.15254193544387817\n"
     ]
    }
   ],
   "source": [
    "class SimpleANN(torch.nn.Module):\n",
    "    def __init__(self, input_size, hidden_size):\n",
    "        super(SimpleANN, self).__init__()\n",
    "        # First hidden layer (linear transformation followed by ReLU)\n",
    "        self.input_layer = torch.nn.Linear(input_size, hidden_size)\n",
    "        # Output layer (linear transformation followed by sigmoid for binary classification)\n",
    "        self.output_layer = torch.nn.Linear(hidden_size, 1)\n",
    "\n",
    "    def forward(self, x):\n",
    "        # Apply ReLU activation function after the first layer\n",
    "        x = torch.nn.functional.relu(self.input_layer(x))\n",
    "        # Apply the output layer\n",
    "        x = self.output_layer(x)\n",
    "        # Apply sigmoid activation function to get output probabilities\n",
    "        # Note: If you're using nn.BCEWithLogitsLoss() for training, you should remove this sigmoid layer\n",
    "        # and let the loss function apply it for numerical stability.\n",
    "        x = torch.sigmoid(x)\n",
    "        return x\n",
    "\n",
    "lr = 0.01\n",
    "model = SimpleANN(input_size=n_features, hidden_size=20)\n",
    "loss_fun = torch.nn.BCELoss() # Binary Cross Entropy\n",
    "optimizer = torch.optim.SGD(model.parameters(), lr=lr) # Stochastic Gradient Descent\n",
    "\n",
    "n_epochs = 10000\n",
    "\n",
    "# Lists to store accuracies\n",
    "training_accuracies = []\n",
    "testing_accuracies = []\n",
    "\n",
    "# Lists to store loss values\n",
    "training_losses = []\n",
    "testing_losses = []\n",
    "for epoch in range(n_epochs):\n",
    "\n",
    "    model.train()\n",
    "    # forward pass: prediction\n",
    "    y_train_pred = model(X_train_scaled)\n",
    "    train_loss = loss_fun(y_train_pred, y_train) # mean over all the samples\n",
    "\n",
    "    #backward pass\n",
    "    train_loss.backward()\n",
    "\n",
    "    optimizer.step()\n",
    "\n",
    "    #zero gradients\n",
    "    optimizer.zero_grad() #modified in place\n",
    "\n",
    "\n",
    "    # Compute training accuracy\n",
    "    with torch.no_grad():\n",
    "        y_predicted_train_class = y_train_pred.round()\n",
    "        train_acc = y_predicted_train_class.eq(y_train).sum() / float(y_train.shape[0])\n",
    "\n",
    "    # Evaluation phase\n",
    "    model.eval()  # Set model to evaluation mode\n",
    "    with torch.no_grad():\n",
    "        y_pred_test = model(X_test_scaled)\n",
    "        y_predicted_test_class = y_pred_test.round()\n",
    "        test_acc = y_predicted_test_class.eq(y_test).sum() / float(y_test.shape[0])\n",
    "        test_loss = loss_fun(y_pred_test, y_test)\n",
    "\n",
    "    # Store accuracies\n",
    "    training_accuracies.append(train_acc.item())\n",
    "    testing_accuracies.append(test_acc.item())\n",
    "\n",
    "    # Store losses\n",
    "    training_losses.append(train_loss.item())\n",
    "    testing_losses.append(test_loss.item())\n",
    "\n",
    "    if epoch % 1000 == 0:\n",
    "        print(f'epoch {epoch}: train_loss = {train_loss}, test_loss{test_loss}')"
   ]
  },
  {
   "cell_type": "code",
   "source": [
    "import matplotlib.pyplot as plt\n",
    "\n",
    "# plotting accuracies\n",
    "plt.figure(figsize=(10, 5))\n",
    "plt.plot(training_accuracies, label='Training Accuracy')\n",
    "plt.plot(testing_accuracies, label='Testing Accuracy')\n",
    "plt.xlabel('Epoch')\n",
    "plt.ylabel('Accuracy')\n",
    "plt.legend()\n",
    "plt.title('Training and Testing Accuracy over Epochs')\n",
    "plt.show()\n",
    "\n",
    "#plotting losses\n",
    "# Plotting training and validation losses\n",
    "plt.figure(figsize=(10, 5))\n",
    "plt.plot(training_losses, label='Training Loss')\n",
    "plt.plot(testing_losses, label='Validation Loss')\n",
    "plt.xlabel('Epoch')\n",
    "plt.ylabel('Loss')\n",
    "plt.legend()\n",
    "plt.title('Training and Testing Loss over Epochs')\n",
    "plt.show()\n",
    "\n",
    "# printing testing accuracy\n",
    "with torch.no_grad():\n",
    "    y_pred_test = model(X_test_scaled)\n",
    "    y_predicted_class = y_pred_test.round()\n",
    "    acc = y_predicted_class.eq(y_test).sum()/float(y_test.shape[0])\n",
    "print(f'Accuracy in test: {acc.item()}')"
   ],
   "metadata": {
    "colab": {
     "base_uri": "https://localhost:8080/",
     "height": 975
    },
    "id": "d9FqWIAqz5x2",
    "executionInfo": {
     "status": "ok",
     "timestamp": 1711558843082,
     "user_tz": -60,
     "elapsed": 1079,
     "user": {
      "displayName": "Andrea Pozzi",
      "userId": "14271893929506141932"
     }
    },
    "outputId": "20875439-da22-44ea-c875-9722dd0d158c"
   },
   "id": "d9FqWIAqz5x2",
   "execution_count": 52,
   "outputs": [
    {
     "output_type": "display_data",
     "data": {
      "text/plain": [
       "<Figure size 1000x500 with 1 Axes>"
      ],
      "image/png": "[encoded data removed]"
     },
     "metadata": {}
    },
    {
     "output_type": "display_data",
     "data": {
      "text/plain": [
       "<Figure size 1000x500 with 1 Axes>"
      ],
      "image/png": "[encoded data removed]"
     },
     "metadata": {}
    },
    {
     "output_type": "stream",
     "name": "stdout",
     "text": [
      "Accuracy in test: 0.9649122953414917\n"
     ]
    }
   ]
  },
  {
   "cell_type": "code",
   "execution_count": 55,
   "id": "c8b6dbdc-91f7-4b10-9fad-0a36f93efe67",
   "metadata": {
    "id": "c8b6dbdc-91f7-4b10-9fad-0a36f93efe67",
    "executionInfo": {
     "status": "ok",
     "timestamp": 1711558966355,
     "user_tz": -60,
     "elapsed": 311,
     "user": {
      "displayName": "Andrea Pozzi",
      "userId": "14271893929506141932"
     }
    }
   },
   "outputs": [],
   "source": [
    "# to see the parameters\n",
    "params = list(model.parameters())\n",
    "# print(params)"
   ]
  },
  {
   "cell_type": "markdown",
   "source": [
    "params is a list containing all parameters of the model. You can access each parameter by indexing into this list. For example, params[0] and params[1] would correspond to the weight and bias of the first hidden layer, respectively, while params[2] and params[3] would correspond to the weight and bias of the output layer."
   ],
   "metadata": {
    "id": "HORMXWdYyRk4"
   },
   "id": "HORMXWdYyRk4"
  },
  {
   "cell_type": "markdown",
   "source": [
    "To avoid overfitting, implement EARLY STOPPING criteria:"
   ],
   "metadata": {
    "id": "E4qCHmrB3Ijg"
   },
   "id": "E4qCHmrB3Ijg"
  },
  {
   "cell_type": "code",
   "source": [
    "    # # Early stopping logic\n",
    "    # if val_loss < best_val_loss:\n",
    "    #     best_val_loss = val_loss.item()\n",
    "    #     epochs_no_improve = 0\n",
    "    #     best_model = copy.deepcopy(model.state_dict())\n",
    "    # else:\n",
    "    #     epochs_no_improve += 1\n",
    "\n",
    "    # if epochs_no_improve == early_stop_threshold:\n",
    "    #     print(f'Early stopping at epoch {epoch}. Restoring the model to the state with the best validation loss.')\n",
    "    #     model.load_state_dict(best_model)\n",
    "    #     break"
   ],
   "metadata": {
    "id": "fkcZ28S73NHa"
   },
   "id": "fkcZ28S73NHa",
   "execution_count": null,
   "outputs": []
  }
 ],
 "metadata": {
  "kernelspec": {
   "display_name": "Python 3 (ipykernel)",
   "language": "python",
   "name": "python3"
  },
  "language_info": {
   "codemirror_mode": {
    "name": "ipython",
    "version": 3
   },
   "file_extension": ".py",
   "mimetype": "text/x-python",
   "name": "python",
   "nbconvert_exporter": "python",
   "pygments_lexer": "ipython3",
   "version": "3.10.13"
  },
  "colab": {
   "provenance": []
  }
 },
 "nbformat": 4,
 "nbformat_minor": 5
}
