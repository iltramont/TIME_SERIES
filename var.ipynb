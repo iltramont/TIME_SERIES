{
 "cells": [
  {
   "cell_type": "markdown",
   "id": "d57a18dc",
   "metadata": {},
   "source": [
    "# Vector autoregressive (VAR) models\n",
    "\n",
    "Two time series, $\\{x_t\\}$ and $\\{y_t\\}$, follow a vector autoregressive \n",
    "process of order 1 (denoted VAR(1)) if\n",
    "\n",
    "$$\n",
    "x_t = \\theta_{11}x_{t−1} + \\theta_{12}y_{t−1} + w_{x,t}\n",
    "$$\n",
    "$$\n",
    "y_t = \\theta_{21}x_{t−1} + \\theta_{22}y_{t−1} + w_{y,t}\n",
    "$$\n",
    "\n",
    "where $\\{w_{x,t}\\}$ and $\\{w_{y,t}\\}$ are **bivariate white noise** and $\\theta_{ij}$ are model parameters.\n",
    "\n",
    "Equivalently,\n",
    "\n",
    "$$\n",
    "Z_{t} = \\Theta Z_{t-1} + w_t\n",
    "$$\n",
    "\n",
    "where\n",
    "\n",
    "$$\n",
    " Z_t =\n",
    "\\begin{bmatrix}\n",
    "x_t \\\\\n",
    "y_t\n",
    "\\end{bmatrix}\n",
    "$$\n",
    "$$\n",
    "\\Theta =\n",
    "\\begin{bmatrix}\n",
    "\\theta_{11} & \\theta_{12}\\\\\n",
    "\\theta_{12} & \\theta_{22}\n",
    "\\end{bmatrix}\n",
    "$$\n",
    "$$\n",
    "w_t =\n",
    "\\begin{bmatrix}\n",
    "w_{x,t} \\\\\n",
    "w_{y,t}\n",
    "\\end{bmatrix}\n",
    "$$\n",
    "\n",
    "The stability of a VAR(1) model is often assessed by examining the location of the **eigenvalues** in the **complex plane**. If all eigenvalues lie **inside the unit circle**, the system is **stable** over time. If any eigenvalues lie **outside** the unit circle, the system may be **unstable**, and the variables could exhibit explosive behavior."
   ]
  },
  {
   "cell_type": "markdown",
   "id": "1d0bc4d6",
   "metadata": {},
   "source": [
    "The characteristic equation is given by:\n",
    "$$\n",
    "det(\\Theta- \\lambda I) = 0\n",
    ")\n",
    "$$\n",
    "where:\n",
    "\n",
    "$ \\Theta$ is the coefficient matrix, $\\lambda$ represents the eigenvalues, $I$ is the identity matrix,det denotes the determinant.\n",
    " \n",
    "\n",
    "\n",
    "For the VAR(1) model, the determinant is given by\n",
    "\n",
    "$$\n",
    "\\begin{vmatrix}\n",
    "1 - \\theta_{11}x & -\\theta_{12} x\\\\\n",
    "-\\theta_{21}x & 1  - \\theta_{22}x\\\\\n",
    "\\end{vmatrix}\n",
    "$$\n",
    "\n",
    "$$\n",
    "= (1 - \\theta_{11}x)(1 - \\theta_{22}x) - \\theta_{12}\\theta_{21}x^2\n",
    "$$\n"
   ]
  },
  {
   "cell_type": "markdown",
   "id": "56b3ec7a",
   "metadata": {},
   "source": [
    "The **R** functions **polyroot** and **Mod** can be used to test whether a VAR model\n",
    "is **stationary**, where the function polyroot just takes a vector of polynomial\n",
    "coefficients as an input parameter. \n",
    "\n",
    "For example, consider the VAR(1) model with paramter matrix\n",
    "\n",
    "$$\n",
    "\\Theta = \n",
    "\\begin{bmatrix}\n",
    "04. & 0.3\\\\\n",
    "0.2 & 0.1\n",
    "\\end{bmatrix}\n",
    "$$\n",
    "\n",
    "Then the characteristic equation is\n",
    "given by\n",
    "$$\n",
    "\\begin{vmatrix}\n",
    "1 - 0.4x & -0.3x\\\\\n",
    "-0.2x & 1 - 0.1x\n",
    "\\end{vmatrix}\n",
    "$$\n",
    "= $1 - 0.5x -0.02x^2$\n",
    " "
   ]
  },
  {
   "cell_type": "markdown",
   "id": "0145b303",
   "metadata": {},
   "source": [
    "The absolute value of the roots of the equation is given by"
   ]
  },
  {
   "cell_type": "code",
   "execution_count": 1,
   "id": "fb6f9c07",
   "metadata": {},
   "outputs": [
    {
     "data": {
      "text/html": [
       "<style>\n",
       ".list-inline {list-style: none; margin:0; padding: 0}\n",
       ".list-inline>li {display: inline-block}\n",
       ".list-inline>li:not(:last-child)::after {content: \"\\00b7\"; padding: 0 .5ex}\n",
       "</style>\n",
       "<ol class=list-inline><li>1.86140661634507</li><li>26.8614066163451</li></ol>\n"
      ],
      "text/latex": [
       "\\begin{enumerate*}\n",
       "\\item 1.86140661634507\n",
       "\\item 26.8614066163451\n",
       "\\end{enumerate*}\n"
      ],
      "text/markdown": [
       "1. 1.86140661634507\n",
       "2. 26.8614066163451\n",
       "\n",
       "\n"
      ],
      "text/plain": [
       "[1]  1.861407 26.861407"
      ]
     },
     "metadata": {},
     "output_type": "display_data"
    }
   ],
   "source": [
    "Mod(polyroot(c(1, -0.5, -0.02)))"
   ]
  },
  {
   "cell_type": "markdown",
   "id": "aed519f8",
   "metadata": {},
   "source": [
    "If the eigenvalues of the coefficient matrix $\\Theta$ in a VAR(1) model are within the unit circle (i.e., their absolute values are less than 1), it implies that the system is stable. In the context of time series analysis, stability is closely related to stationarity.\n",
    "\n",
    "The parameters of a VAR(p) model can be estimated using the ar function\n",
    "in R, which selects a best-fitting order *p* based on the smallest **AIC**. \n",
    "\n",
    "A VAR(1) process is simulated below and the parameters from the simulated series estimated using ar."
   ]
  },
  {
   "cell_type": "markdown",
   "id": "abb06bcf",
   "metadata": {},
   "source": [
    "# Multivariate Gaussian white noise\n",
    "**Multivariate Gaussian white noise** can be simulated with the **rmvnorm**\n",
    "function in the mvtnorm library. \n",
    "\n",
    "The function may take a **mean** and **covariance** matrix as a parameter input, and the dimensions of these determine the\n",
    "dimension of the output matrix. \n",
    "\n",
    "In the following example, the covariance matrix is 2 × 2, so the output variable *x* is **bivariate** with 1000 simulated white\n",
    "noise values in each of two columns.\n",
    "\n",
    "An arbitrary value of **0.8** is chosen for the correlation to illustrate the use of the function.\n",
    "$$\n",
    "\\begin{bmatrix}\n",
    "1 & 0.8\\\\\n",
    "0.8 & 1\n",
    "\\end{bmatrix}\n",
    "$$\n",
    "\n",
    "The mean of each variable is assumed to be zero by default unless explicitly specified using the mean argument in the rmvnorm function."
   ]
  },
  {
   "cell_type": "markdown",
   "id": "0b6afd9c",
   "metadata": {},
   "source": [
    "# Exercise 1: Estimate the coefficients of a synthetic bivariate TS\n",
    "By using the above $\\Theta$ coefficients, we create the datat for a bivariate TS"
   ]
  },
  {
   "cell_type": "code",
   "execution_count": 2,
   "id": "fc27214f",
   "metadata": {},
   "outputs": [
    {
     "data": {
      "text/html": [
       "<table class=\"dataframe\">\n",
       "<caption>A matrix: 6 × 2 of type dbl</caption>\n",
       "<tbody>\n",
       "\t<tr><td>-0.92887402</td><td>-0.9305078</td></tr>\n",
       "\t<tr><td> 0.49365361</td><td> 0.4713250</td></tr>\n",
       "\t<tr><td> 0.19954835</td><td>-0.1623092</td></tr>\n",
       "\t<tr><td>-0.42768042</td><td>-0.9844444</td></tr>\n",
       "\t<tr><td> 0.78185325</td><td> 0.6321578</td></tr>\n",
       "\t<tr><td>-0.02021027</td><td>-0.9064220</td></tr>\n",
       "</tbody>\n",
       "</table>\n"
      ],
      "text/latex": [
       "A matrix: 6 × 2 of type dbl\n",
       "\\begin{tabular}{ll}\n",
       "\t -0.92887402 & -0.9305078\\\\\n",
       "\t  0.49365361 &  0.4713250\\\\\n",
       "\t  0.19954835 & -0.1623092\\\\\n",
       "\t -0.42768042 & -0.9844444\\\\\n",
       "\t  0.78185325 &  0.6321578\\\\\n",
       "\t -0.02021027 & -0.9064220\\\\\n",
       "\\end{tabular}\n"
      ],
      "text/markdown": [
       "\n",
       "A matrix: 6 × 2 of type dbl\n",
       "\n",
       "| -0.92887402 | -0.9305078 |\n",
       "|  0.49365361 |  0.4713250 |\n",
       "|  0.19954835 | -0.1623092 |\n",
       "| -0.42768042 | -0.9844444 |\n",
       "|  0.78185325 |  0.6321578 |\n",
       "| -0.02021027 | -0.9064220 |\n",
       "\n"
      ],
      "text/plain": [
       "     [,1]        [,2]      \n",
       "[1,] -0.92887402 -0.9305078\n",
       "[2,]  0.49365361  0.4713250\n",
       "[3,]  0.19954835 -0.1623092\n",
       "[4,] -0.42768042 -0.9844444\n",
       "[5,]  0.78185325  0.6321578\n",
       "[6,] -0.02021027 -0.9064220"
      ]
     },
     "metadata": {},
     "output_type": "display_data"
    }
   ],
   "source": [
    "library(mvtnorm)\n",
    "# After running this script, the variable w will contain a matrix with 1000 rows and 2 columns, \n",
    "# where each row represents a pair of random samples from the specified bivariate normal distribution \n",
    "# with the given covariance matrix\n",
    "cov.mat <- matrix(c(1, 0.8, 0.8, 1), nr = 2)\n",
    "w <- rmvnorm(1000, sigma = cov.mat)\n",
    "head(w)"
   ]
  },
  {
   "cell_type": "markdown",
   "id": "def5bec1",
   "metadata": {},
   "source": [
    "Initialize $w_x$ and $w_y$"
   ]
  },
  {
   "cell_type": "code",
   "execution_count": 3,
   "id": "de59ba47",
   "metadata": {},
   "outputs": [],
   "source": [
    "wx <- w[, 1]\n",
    "wy <- w[, 2]"
   ]
  },
  {
   "cell_type": "code",
   "execution_count": 4,
   "id": "284bb43a",
   "metadata": {},
   "outputs": [],
   "source": [
    "x <- y <- rep(0, 1000)\n",
    "x[1] <- wx[1]\n",
    "y[1] <- wy[1]"
   ]
  },
  {
   "cell_type": "markdown",
   "id": "a4da2e19",
   "metadata": {},
   "source": [
    "# Simulate VAR(1)\n",
    "The following code simulate (i.e. does not use any R function) the VAR(1) process."
   ]
  },
  {
   "cell_type": "code",
   "execution_count": 5,
   "id": "71656de7",
   "metadata": {},
   "outputs": [],
   "source": [
    "for (i in 2:1000) {\n",
    "    x[i] <- 0.4 * x[i - 1] + 0.3 * y[i - 1] + wx[i]\n",
    "    y[i] <- 0.2 * x[i - 1] + 0.1 * y[i - 1] + wy[i]\n",
    "}\n"
   ]
  },
  {
   "cell_type": "markdown",
   "id": "64e2271a",
   "metadata": {},
   "source": [
    "# Did we use the correct parameters?\n",
    "We can use the **ar** R language function to estimate all the $\\theta$ coefficients"
   ]
  },
  {
   "cell_type": "code",
   "execution_count": 6,
   "id": "c64f00a1",
   "metadata": {},
   "outputs": [
    {
     "data": {
      "text/html": [
       "<table class=\"dataframe\">\n",
       "<caption>A matrix: 2 × 2 of type dbl</caption>\n",
       "<thead>\n",
       "\t<tr><th></th><th scope=col>x</th><th scope=col>y</th></tr>\n",
       "</thead>\n",
       "<tbody>\n",
       "\t<tr><th scope=row>x</th><td>0.4320277</td><td>0.28476567</td></tr>\n",
       "\t<tr><th scope=row>y</th><td>0.2450640</td><td>0.04555331</td></tr>\n",
       "</tbody>\n",
       "</table>\n"
      ],
      "text/latex": [
       "A matrix: 2 × 2 of type dbl\n",
       "\\begin{tabular}{r|ll}\n",
       "  & x & y\\\\\n",
       "\\hline\n",
       "\tx & 0.4320277 & 0.28476567\\\\\n",
       "\ty & 0.2450640 & 0.04555331\\\\\n",
       "\\end{tabular}\n"
      ],
      "text/markdown": [
       "\n",
       "A matrix: 2 × 2 of type dbl\n",
       "\n",
       "| <!--/--> | x | y |\n",
       "|---|---|---|\n",
       "| x | 0.4320277 | 0.28476567 |\n",
       "| y | 0.2450640 | 0.04555331 |\n",
       "\n"
      ],
      "text/plain": [
       "  x         y         \n",
       "x 0.4320277 0.28476567\n",
       "y 0.2450640 0.04555331"
      ]
     },
     "metadata": {},
     "output_type": "display_data"
    }
   ],
   "source": [
    "xy.ar <- ar(cbind(x, y))\n",
    "xy.ar$ar[, , ]"
   ]
  },
  {
   "cell_type": "markdown",
   "id": "da544071",
   "metadata": {},
   "source": [
    "As expected, the parameter estimates are close to the underlying model values.\n",
    "If the simulation is repeated many times with different realisations of\n",
    "the bivariate white noise, the sampling distribution of the estimators of the\n",
    "parameters in the model can be approximated by the histograms of the estimates\n",
    "together with the correlations between estimates. This is the principle\n",
    "used to construct bootstrap confidence intervals for model parameters when\n",
    "they have been estimated from time series.\n",
    "The bootstrap simulation is set up using point"
   ]
  },
  {
   "cell_type": "markdown",
   "id": "59d4694e",
   "metadata": {},
   "source": [
    "# Exercise 2 Estimate the coefficients of a synthetic bivariate TS, build the VAR(p) model and evaluate its goodness\n",
    "\n",
    "As before, we create a synthetic bivariate TS. This time we shall evaluate the goodness of VAR model deployed."
   ]
  },
  {
   "cell_type": "code",
   "execution_count": 7,
   "id": "d0f22184",
   "metadata": {},
   "outputs": [],
   "source": [
    "set.seed(123) # Reset random number generator for reasons of reproducability\n",
    "\n",
    "# Generate sample\n",
    "t <- 200 # Number of time series observations\n",
    "k <- 2 # Number of endogenous variables\n",
    "p <- 2 # Number of lags\n",
    "\n",
    "# Generate coefficient matrices\n",
    "A.1 <- matrix(c(-.3, .6, -.4, .5), k) # Coefficient matrix of lag 1\n",
    "A.2 <- matrix(c(-.1, -.2, .1, .05), k) # Coefficient matrix of lag 2\n",
    "\n",
    "A <- cbind(A.1, A.2) # Companion form of the coefficient matrices"
   ]
  },
  {
   "cell_type": "code",
   "execution_count": 8,
   "id": "eabd7b72",
   "metadata": {},
   "outputs": [],
   "source": [
    "# Generate series\n",
    "series <- matrix(0, k, t + 2*p) # Raw series with zeros\n",
    "for (i in (p + 1):(t + 2*p)){ # Generate series with e ~ N(0,0.5)\n",
    "  series[, i] <- A.1%*%series[, i-1] + A.2%*%series[, i-2] + rnorm(k, 0, .5)\n",
    "}\n"
   ]
  },
  {
   "cell_type": "code",
   "execution_count": 9,
   "id": "0d5c7e3c",
   "metadata": {},
   "outputs": [
    {
     "data": {
      "image/png": "[encoded data removed]",
      "text/plain": [
       "plot without title"
      ]
     },
     "metadata": {
      "image/png": {
       "height": 420,
       "width": 420
      }
     },
     "output_type": "display_data"
    }
   ],
   "source": [
    "series <- ts(t(series[, -(1:p)])) # Convert to time series format\n",
    "names <- c(\"V1\", \"V2\") # Rename variables\n",
    "\n",
    "plot.ts(series) # Plot the series"
   ]
  },
  {
   "cell_type": "markdown",
   "id": "93904603",
   "metadata": {},
   "source": [
    "In order to estimate the VAR model, you may use the **vars package** by Pfaff (2008). \n",
    "\n",
    "The relevant function is VAR and its use is straightforward. \n",
    "\n",
    "You just have to load the package and specify the **data (y)**, **order (p)** and the **type of the model**. \n",
    "\n",
    "The option type determines whether to include an intercept term, a trend or both in the model. \n",
    "\n",
    "Since the artificial sample does not contain any deterministic term, we neglect it in the estimation by setting type = \"none\"."
   ]
  },
  {
   "cell_type": "code",
   "execution_count": 10,
   "id": "b2c36257",
   "metadata": {},
   "outputs": [
    {
     "name": "stderr",
     "output_type": "stream",
     "text": [
      "Installing package into 'C:/Users/Enric/AppData/Local/R/win-library/4.3'\n",
      "(as 'lib' is unspecified)\n",
      "\n"
     ]
    },
    {
     "name": "stdout",
     "output_type": "stream",
     "text": [
      "package 'vars' successfully unpacked and MD5 sums checked\n",
      "\n",
      "The downloaded binary packages are in\n",
      "\tC:\\Users\\Enric\\AppData\\Local\\Temp\\RtmpGCCT4G\\downloaded_packages\n"
     ]
    },
    {
     "name": "stderr",
     "output_type": "stream",
     "text": [
      "Loading required package: MASS\n",
      "\n",
      "Loading required package: strucchange\n",
      "\n",
      "Loading required package: zoo\n",
      "\n",
      "\n",
      "Attaching package: 'zoo'\n",
      "\n",
      "\n",
      "The following objects are masked from 'package:base':\n",
      "\n",
      "    as.Date, as.Date.numeric\n",
      "\n",
      "\n",
      "Loading required package: sandwich\n",
      "\n",
      "Loading required package: urca\n",
      "\n",
      "Loading required package: lmtest\n",
      "\n"
     ]
    }
   ],
   "source": [
    "install.packages(\"vars\")\n",
    "library(vars) # Load package"
   ]
  },
  {
   "cell_type": "code",
   "execution_count": 11,
   "id": "6c129ca8",
   "metadata": {},
   "outputs": [],
   "source": [
    "var.1 <- VAR(series, 2, type = \"none\") # Estimate the model VAR(2)"
   ]
  },
  {
   "cell_type": "markdown",
   "id": "838046d3",
   "metadata": {},
   "source": [
    "# Model comparison\n",
    "A central issue in VAR analysis is to find the number of lags, which yields the best results. \n",
    "\n",
    "Model comparison is usually based on information criteria like the **AIC**, **BIC** or **HQ**. \n",
    "\n",
    "Usually, the **AIC** is preferred over other criteria, due to its favourable **small sample forecasting features**. \n",
    "\n",
    "The **BIC and HQ**, however, work well in **large samples**.\n",
    "\n",
    "When **type** is set to **NULL**, the VAR function will attempt to choose an **appropriate estimation method** based on the characteristics of the input data. The function will consider factors such as the sample size, whether the data is stationary or not, and other relevant properties.\n",
    "\n",
    "The VAR function of the vars package already allows to calculate standard information criteria to find the best model. In this example we use the AIC:"
   ]
  },
  {
   "cell_type": "code",
   "execution_count": 12,
   "id": "380ae3fc",
   "metadata": {},
   "outputs": [],
   "source": [
    "var.aic <- VAR(series, type = \"none\", lag.max = 5, ic = \"AIC\")"
   ]
  },
  {
   "cell_type": "markdown",
   "id": "9e78f3ae",
   "metadata": {},
   "source": [
    "Note that *instead of specifying the order p*, we now set the **maximum lag length of the model** and the **information criterion used to select the best model**. \n",
    "\n",
    "The function then estimates all five models, compares them according to their AIC values and automatically selects the most favourable. Looking at summary(var.aic) we see that the AIC suggests to use an order of 2 which is the true order.\n",
    "\n",
    "The specification type = \"none\" in the VAR function indicates that **no deterministic variables** are included in the model. \n",
    "\n",
    "This means that the model relies solely on **lagged values of the endogenous variables** for prediction."
   ]
  },
  {
   "cell_type": "code",
   "execution_count": 13,
   "id": "cd69231e",
   "metadata": {},
   "outputs": [
    {
     "data": {
      "text/plain": [
       "\n",
       "VAR Estimation Results:\n",
       "========================= \n",
       "Endogenous variables: Series.1, Series.2 \n",
       "Deterministic variables: none \n",
       "Sample size: 200 \n",
       "Log Likelihood: -266.065 \n",
       "Roots of the characteristic polynomial:\n",
       "0.6611 0.6611 0.4473 0.03778\n",
       "Call:\n",
       "VAR(y = series, type = \"none\", lag.max = 5, ic = \"AIC\")\n",
       "\n",
       "\n",
       "Estimation results for equation Series.1: \n",
       "========================================= \n",
       "Series.1 = Series.1.l1 + Series.2.l1 + Series.1.l2 + Series.2.l2 \n",
       "\n",
       "            Estimate Std. Error t value Pr(>|t|)    \n",
       "Series.1.l1 -0.19750    0.06894  -2.865  0.00463 ** \n",
       "Series.2.l1 -0.32015    0.06601  -4.850 2.51e-06 ***\n",
       "Series.1.l2 -0.23210    0.07586  -3.060  0.00252 ** \n",
       "Series.2.l2  0.04687    0.06478   0.724  0.47018    \n",
       "---\n",
       "Signif. codes:  0 '***' 0.001 '**' 0.01 '*' 0.05 '.' 0.1 ' ' 1\n",
       "\n",
       "\n",
       "Residual standard error: 0.4638 on 196 degrees of freedom\n",
       "Multiple R-Squared: 0.2791,\tAdjusted R-squared: 0.2644 \n",
       "F-statistic: 18.97 on 4 and 196 DF,  p-value: 3.351e-13 \n",
       "\n",
       "\n",
       "Estimation results for equation Series.2: \n",
       "========================================= \n",
       "Series.2 = Series.1.l1 + Series.2.l1 + Series.1.l2 + Series.2.l2 \n",
       "\n",
       "            Estimate Std. Error t value Pr(>|t|)    \n",
       "Series.1.l1  0.67381    0.07314   9.213  < 2e-16 ***\n",
       "Series.2.l1  0.34136    0.07004   4.874 2.25e-06 ***\n",
       "Series.1.l2 -0.18430    0.08048  -2.290   0.0231 *  \n",
       "Series.2.l2  0.06903    0.06873   1.004   0.3164    \n",
       "---\n",
       "Signif. codes:  0 '***' 0.001 '**' 0.01 '*' 0.05 '.' 0.1 ' ' 1\n",
       "\n",
       "\n",
       "Residual standard error: 0.4921 on 196 degrees of freedom\n",
       "Multiple R-Squared: 0.3574,\tAdjusted R-squared: 0.3443 \n",
       "F-statistic: 27.26 on 4 and 196 DF,  p-value: < 2.2e-16 \n",
       "\n",
       "\n",
       "\n",
       "Covariance matrix of residuals:\n",
       "         Series.1 Series.2\n",
       "Series.1  0.21417 -0.03116\n",
       "Series.2 -0.03116  0.24154\n",
       "\n",
       "Correlation matrix of residuals:\n",
       "         Series.1 Series.2\n",
       "Series.1    1.000   -0.137\n",
       "Series.2   -0.137    1.000\n",
       "\n"
      ]
     },
     "metadata": {},
     "output_type": "display_data"
    }
   ],
   "source": [
    "summary(var.aic)"
   ]
  },
  {
   "cell_type": "markdown",
   "id": "593407e1",
   "metadata": {},
   "source": [
    "Looking at the results more closely we can compare the true values - cointained in object A - with the parameter estimates of the model:\n",
    "\n"
   ]
  },
  {
   "cell_type": "code",
   "execution_count": 14,
   "id": "ca7a2c88",
   "metadata": {},
   "outputs": [
    {
     "data": {
      "text/html": [
       "<table class=\"dataframe\">\n",
       "<caption>A matrix: 2 × 4 of type dbl</caption>\n",
       "<tbody>\n",
       "\t<tr><td>-0.3</td><td>-0.4</td><td>-0.1</td><td>0.10</td></tr>\n",
       "\t<tr><td> 0.6</td><td> 0.5</td><td>-0.2</td><td>0.05</td></tr>\n",
       "</tbody>\n",
       "</table>\n"
      ],
      "text/latex": [
       "A matrix: 2 × 4 of type dbl\n",
       "\\begin{tabular}{llll}\n",
       "\t -0.3 & -0.4 & -0.1 & 0.10\\\\\n",
       "\t  0.6 &  0.5 & -0.2 & 0.05\\\\\n",
       "\\end{tabular}\n"
      ],
      "text/markdown": [
       "\n",
       "A matrix: 2 × 4 of type dbl\n",
       "\n",
       "| -0.3 | -0.4 | -0.1 | 0.10 |\n",
       "|  0.6 |  0.5 | -0.2 | 0.05 |\n",
       "\n"
      ],
      "text/plain": [
       "     [,1] [,2] [,3] [,4]\n",
       "[1,] -0.3 -0.4 -0.1 0.10\n",
       "[2,]  0.6  0.5 -0.2 0.05"
      ]
     },
     "metadata": {},
     "output_type": "display_data"
    }
   ],
   "source": [
    "# True values\n",
    "A"
   ]
  },
  {
   "cell_type": "code",
   "execution_count": 15,
   "id": "e49ecf37",
   "metadata": {},
   "outputs": [
    {
     "data": {
      "text/html": [
       "<table class=\"dataframe\">\n",
       "<caption>A matrix: 2 × 4 of type dbl</caption>\n",
       "<thead>\n",
       "\t<tr><th scope=col>Series.1.l1</th><th scope=col>Series.2.l1</th><th scope=col>Series.1.l2</th><th scope=col>Series.2.l2</th></tr>\n",
       "</thead>\n",
       "<tbody>\n",
       "\t<tr><td>-0.20</td><td>-0.32</td><td>-0.23</td><td>0.05</td></tr>\n",
       "\t<tr><td> 0.67</td><td> 0.34</td><td>-0.18</td><td>0.07</td></tr>\n",
       "</tbody>\n",
       "</table>\n"
      ],
      "text/latex": [
       "A matrix: 2 × 4 of type dbl\n",
       "\\begin{tabular}{llll}\n",
       " Series.1.l1 & Series.2.l1 & Series.1.l2 & Series.2.l2\\\\\n",
       "\\hline\n",
       "\t -0.20 & -0.32 & -0.23 & 0.05\\\\\n",
       "\t  0.67 &  0.34 & -0.18 & 0.07\\\\\n",
       "\\end{tabular}\n"
      ],
      "text/markdown": [
       "\n",
       "A matrix: 2 × 4 of type dbl\n",
       "\n",
       "| Series.1.l1 | Series.2.l1 | Series.1.l2 | Series.2.l2 |\n",
       "|---|---|---|---|\n",
       "| -0.20 | -0.32 | -0.23 | 0.05 |\n",
       "|  0.67 |  0.34 | -0.18 | 0.07 |\n",
       "\n"
      ],
      "text/plain": [
       "     Series.1.l1 Series.2.l1 Series.1.l2 Series.2.l2\n",
       "[1,] -0.20       -0.32       -0.23       0.05       \n",
       "[2,]  0.67        0.34       -0.18       0.07       "
      ]
     },
     "metadata": {},
     "output_type": "display_data"
    }
   ],
   "source": [
    "# Extract coefficients, standard errors etc. from the object\n",
    "# produced by the VAR function\n",
    "est_coefs <- coef(var.aic)\n",
    "\n",
    "# Extract only the coefficients for both dependend variables\n",
    "# and combine them to a single matrix\n",
    "est_coefs <- rbind(est_coefs[[1]][, 1], est_coefs[[2]][, 1]) \n",
    "\n",
    "# Print the rounded estimates in the console\n",
    "round(est_coefs, 2)"
   ]
  },
  {
   "cell_type": "code",
   "execution_count": null,
   "id": "6a002b4d",
   "metadata": {},
   "outputs": [],
   "source": []
  }
 ],
 "metadata": {
  "kernelspec": {
   "display_name": "R",
   "language": "R",
   "name": "ir"
  },
  "language_info": {
   "codemirror_mode": "r",
   "file_extension": ".r",
   "mimetype": "text/x-r-source",
   "name": "R",
   "pygments_lexer": "r",
   "version": "4.3.2"
  }
 },
 "nbformat": 4,
 "nbformat_minor": 5
}
