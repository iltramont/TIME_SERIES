{
 "cells": [
  {
   "cell_type": "code",
   "execution_count": 21,
   "id": "initial_id",
   "metadata": {
    "collapsed": true,
    "ExecuteTime": {
     "end_time": "2024-08-28T10:56:50.192979Z",
     "start_time": "2024-08-28T10:56:50.181010Z"
    }
   },
   "outputs": [],
   "source": [
    "import numpy as np\n",
    "import pandas as pd\n",
    "import scipy.stats as stats\n",
    "from scipy.special import boxcox"
   ]
  },
  {
   "cell_type": "code",
   "outputs": [],
   "source": [
    "y = np.array((47, 46, 51, 44, 54, 47, 52, 45, 50, 51))\n",
    "y_hat = np.array((51.1, 52.9, 48.8, 48.1, 49.7, 47.5, 51.2, 53.1, 54.4, 51.2))"
   ],
   "metadata": {
    "collapsed": false,
    "ExecuteTime": {
     "end_time": "2024-08-28T10:10:39.677719Z",
     "start_time": "2024-08-28T10:10:39.664754Z"
    }
   },
   "id": "6396fa0e4f96b2fe",
   "execution_count": 2
  },
  {
   "cell_type": "code",
   "outputs": [
    {
     "name": "stdout",
     "output_type": "stream",
     "text": [
      "ME = 2.1000000000000005\n",
      "MSE = 19.046\n",
      "MAD = 3.56\n",
      "MPE = 4.748242273185954%\n",
      "MAPE = 7.5112722715100695%\n"
     ]
    }
   ],
   "source": [
    "print(f'ME = {np.mean(y_hat - y)}')\n",
    "print(f'MSE = {np.mean((y-y_hat)**2)}')\n",
    "print(f'MAD = {np.mean(np.abs(y-y_hat))}')\n",
    "print(f'MPE = {100 * np.mean((y_hat - y) / y)}%')\n",
    "print(f'MAPE = {100 * np.mean(np.abs(y_hat - y) / y)}%')\n"
   ],
   "metadata": {
    "collapsed": false,
    "ExecuteTime": {
     "end_time": "2024-08-28T10:10:39.693676Z",
     "start_time": "2024-08-28T10:10:39.678716Z"
    }
   },
   "id": "b2c8fb46bfae9855",
   "execution_count": 3
  },
  {
   "cell_type": "code",
   "outputs": [
    {
     "data": {
      "text/plain": "10"
     },
     "execution_count": 4,
     "metadata": {},
     "output_type": "execute_result"
    }
   ],
   "source": [
    "len(y_hat)"
   ],
   "metadata": {
    "collapsed": false,
    "ExecuteTime": {
     "end_time": "2024-08-28T10:10:40.577312Z",
     "start_time": "2024-08-28T10:10:40.546395Z"
    }
   },
   "id": "8d310acb176352a",
   "execution_count": 4
  },
  {
   "cell_type": "code",
   "outputs": [],
   "source": [
    "y = np.array((3.8, 4.4, 7.0, 10.2, 11.9, 11.0, 15.0, 15.8, 17.9, 20.4))"
   ],
   "metadata": {
    "collapsed": false,
    "ExecuteTime": {
     "end_time": "2024-08-28T10:11:40.937612Z",
     "start_time": "2024-08-28T10:11:40.920658Z"
    }
   },
   "id": "f34810640c8c9f3c",
   "execution_count": 5
  },
  {
   "cell_type": "code",
   "outputs": [
    {
     "data": {
      "text/plain": "-0.017217218499680217"
     },
     "execution_count": 9,
     "metadata": {},
     "output_type": "execute_result"
    }
   ],
   "source": [
    "stats.skew(y, bias=False)"
   ],
   "metadata": {
    "collapsed": false,
    "ExecuteTime": {
     "end_time": "2024-08-28T10:14:54.695792Z",
     "start_time": "2024-08-28T10:14:54.681828Z"
    }
   },
   "id": "dcf911dded3c57c0",
   "execution_count": 9
  },
  {
   "cell_type": "code",
   "outputs": [],
   "source": [
    "norm = np.random.normal(size=1000)"
   ],
   "metadata": {
    "collapsed": false,
    "ExecuteTime": {
     "end_time": "2024-08-28T10:17:39.176455Z",
     "start_time": "2024-08-28T10:17:39.155511Z"
    }
   },
   "id": "f830b22f91a0f407",
   "execution_count": 16
  },
  {
   "cell_type": "code",
   "outputs": [
    {
     "data": {
      "text/plain": "-0.02862163886916745"
     },
     "execution_count": 18,
     "metadata": {},
     "output_type": "execute_result"
    }
   ],
   "source": [
    "stats.skew(norm, bias=False)"
   ],
   "metadata": {
    "collapsed": false,
    "ExecuteTime": {
     "end_time": "2024-08-28T10:17:59.586025Z",
     "start_time": "2024-08-28T10:17:59.574058Z"
    }
   },
   "id": "b6fc8b0d8894b2c4",
   "execution_count": 18
  },
  {
   "cell_type": "code",
   "outputs": [],
   "source": [
    "y = np.array([ 5.488, 7.152, 6.028, 5.449, 4.237, 6.459, 4.376, 8.918, 9.637, 3.834 ])"
   ],
   "metadata": {
    "collapsed": false,
    "ExecuteTime": {
     "end_time": "2024-08-28T10:57:46.637499Z",
     "start_time": "2024-08-28T10:57:46.618550Z"
    }
   },
   "id": "35e2b9baaed56709",
   "execution_count": 24
  },
  {
   "cell_type": "code",
   "outputs": [
    {
     "data": {
      "text/plain": "array([2.43975773, 2.99175319, 2.62872374, 2.4256861 , 1.95413519,\n       2.77237294, 2.01201915, 3.49855984, 3.68752195, 1.77957707])"
     },
     "execution_count": 41,
     "metadata": {},
     "output_type": "execute_result"
    }
   ],
   "source": [
    "boxcox(y, 0.4)"
   ],
   "metadata": {
    "collapsed": false,
    "ExecuteTime": {
     "end_time": "2024-08-28T11:00:22.852212Z",
     "start_time": "2024-08-28T11:00:22.838222Z"
    }
   },
   "id": "c771d6a6631df4f7",
   "execution_count": 41
  },
  {
   "cell_type": "code",
   "outputs": [
    {
     "data": {
      "text/plain": "array([2.34264807, 2.67432234, 2.45519857, 2.33430932, 2.05839743,\n       2.54145628, 2.0918891 , 2.98630206, 3.10435178, 1.95806026])"
     },
     "execution_count": 37,
     "metadata": {},
     "output_type": "execute_result"
    }
   ],
   "source": [
    "np.sqrt(y)"
   ],
   "metadata": {
    "collapsed": false,
    "ExecuteTime": {
     "end_time": "2024-08-28T10:59:52.901311Z",
     "start_time": "2024-08-28T10:59:52.886325Z"
    }
   },
   "id": "f088523b477484b0",
   "execution_count": 37
  },
  {
   "cell_type": "code",
   "outputs": [],
   "source": [
    "x = np.array((5, 6, 8, 9, 11, 12, 14, 16, 18, 19, 21, 23, 25, 26, 28))\n",
    "t = np.arange(len(x))"
   ],
   "metadata": {
    "collapsed": false,
    "ExecuteTime": {
     "end_time": "2024-08-28T11:05:20.804870Z",
     "start_time": "2024-08-28T11:05:20.785920Z"
    }
   },
   "id": "73a2a0f6959e741c",
   "execution_count": 43
  },
  {
   "cell_type": "code",
   "outputs": [],
   "source": [
    "beta = np.cov(x, t, ddof=2)[0, 1] / np.var(t, ddof=2)"
   ],
   "metadata": {
    "collapsed": false,
    "ExecuteTime": {
     "end_time": "2024-08-28T11:11:58.909845Z",
     "start_time": "2024-08-28T11:11:58.893860Z"
    }
   },
   "id": "d58933829c8a8cb3",
   "execution_count": 82
  },
  {
   "cell_type": "code",
   "outputs": [
    {
     "data": {
      "text/plain": "1.678571428571429"
     },
     "execution_count": 83,
     "metadata": {},
     "output_type": "execute_result"
    }
   ],
   "source": [
    "beta"
   ],
   "metadata": {
    "collapsed": false,
    "ExecuteTime": {
     "end_time": "2024-08-28T11:11:59.286268Z",
     "start_time": "2024-08-28T11:11:59.275299Z"
    }
   },
   "id": "5f241b959ba84701",
   "execution_count": 83
  },
  {
   "cell_type": "code",
   "outputs": [
    {
     "data": {
      "text/plain": "1.678571428571429"
     },
     "execution_count": 84,
     "metadata": {},
     "output_type": "execute_result"
    }
   ],
   "source": [
    "np.sum((x - np.mean(x)) * (t - np.mean(t))) / np.sum((t - np.mean(t))**2)"
   ],
   "metadata": {
    "collapsed": false,
    "ExecuteTime": {
     "end_time": "2024-08-28T11:12:00.308429Z",
     "start_time": "2024-08-28T11:12:00.290478Z"
    }
   },
   "id": "51df5539e39e98f3",
   "execution_count": 84
  },
  {
   "cell_type": "code",
   "outputs": [],
   "source": [
    "def ar1_process(theta0, theta1, start, n):\n",
    "    result = [start]\n",
    "    for i in range(n - 1):\n",
    "        result.append(theta0 + result[i]*theta1 + np.random.normal())\n",
    "    return pd.Series(result)"
   ],
   "metadata": {
    "collapsed": false,
    "ExecuteTime": {
     "end_time": "2024-08-28T15:26:54.380628Z",
     "start_time": "2024-08-28T15:26:54.372621Z"
    }
   },
   "id": "35ffc448c5d3128d",
   "execution_count": 128
  },
  {
   "cell_type": "code",
   "outputs": [],
   "source": [
    "def ma1_process(mu, theta, n):\n",
    "    error = np.random.normal(0, 1, n + 1)\n",
    "    result = []\n",
    "    for i in range(1, n + 1):\n",
    "        result.append(mu - error[i] - theta * error[i-1])\n",
    "    return pd.Series(result)"
   ],
   "metadata": {
    "collapsed": false,
    "ExecuteTime": {
     "end_time": "2024-08-28T15:26:54.648098Z",
     "start_time": "2024-08-28T15:26:54.631144Z"
    }
   },
   "id": "d120a478a63fc214",
   "execution_count": 129
  },
  {
   "cell_type": "code",
   "outputs": [],
   "source": [
    "mu = 1\n",
    "theta = 0.5\n",
    "n = 10000\n",
    "ts1 = ma1_process(mu, theta, n)"
   ],
   "metadata": {
    "collapsed": false,
    "ExecuteTime": {
     "end_time": "2024-08-28T15:29:21.167934Z",
     "start_time": "2024-08-28T15:29:21.145993Z"
    }
   },
   "id": "5c21a4f17f4bf23e",
   "execution_count": 145
  },
  {
   "cell_type": "code",
   "outputs": [],
   "source": [
    "theta0 = 0\n",
    "theta1 = 0.5\n",
    "start = 0\n",
    "ts2 = ar1_process(theta0, theta1, start, n)"
   ],
   "metadata": {
    "collapsed": false,
    "ExecuteTime": {
     "end_time": "2024-08-28T15:29:21.449140Z",
     "start_time": "2024-08-28T15:29:21.429194Z"
    }
   },
   "id": "e8c4ba6b572291fd",
   "execution_count": 146
  },
  {
   "cell_type": "code",
   "outputs": [],
   "source": [
    "series = pd.DataFrame({'ts1': ts1, 'ts2': ts2})"
   ],
   "metadata": {
    "collapsed": false,
    "ExecuteTime": {
     "end_time": "2024-08-28T15:29:23.005593Z",
     "start_time": "2024-08-28T15:29:22.994622Z"
    }
   },
   "id": "efc9168794ebfc3d",
   "execution_count": 147
  },
  {
   "cell_type": "code",
   "outputs": [
    {
     "data": {
      "text/plain": "1.0002747574673416"
     },
     "execution_count": 148,
     "metadata": {},
     "output_type": "execute_result"
    }
   ],
   "source": [
    "ts1.mean()"
   ],
   "metadata": {
    "collapsed": false,
    "ExecuteTime": {
     "end_time": "2024-08-28T15:29:24.175666Z",
     "start_time": "2024-08-28T15:29:24.156626Z"
    }
   },
   "id": "20e73dddbab441a",
   "execution_count": 148
  },
  {
   "cell_type": "code",
   "outputs": [
    {
     "data": {
      "text/plain": "1.2348224672822372"
     },
     "execution_count": 149,
     "metadata": {},
     "output_type": "execute_result"
    }
   ],
   "source": [
    "ts1.var()"
   ],
   "metadata": {
    "collapsed": false,
    "ExecuteTime": {
     "end_time": "2024-08-28T15:29:29.242458Z",
     "start_time": "2024-08-28T15:29:29.228497Z"
    }
   },
   "id": "628b2034c0121f11",
   "execution_count": 149
  },
  {
   "cell_type": "code",
   "outputs": [
    {
     "data": {
      "text/plain": "1.25"
     },
     "execution_count": 150,
     "metadata": {},
     "output_type": "execute_result"
    }
   ],
   "source": [
    "1 + theta**2"
   ],
   "metadata": {
    "collapsed": false,
    "ExecuteTime": {
     "end_time": "2024-08-28T15:29:31.309176Z",
     "start_time": "2024-08-28T15:29:31.297207Z"
    }
   },
   "id": "638849bb923a208d",
   "execution_count": 150
  },
  {
   "cell_type": "code",
   "outputs": [
    {
     "name": "stdout",
     "output_type": "stream",
     "text": [
      "1457.92\n"
     ]
    }
   ],
   "source": [
    "ts =  [ 1.84, 6.14, 23.46, 30.95, 41.75, 41.33, 30.79, 44.57, 51.11, 48.65, 74.64, 67.92, 90.11, 91.61, 84.09 ]\n",
    "print(2*sum(ts))"
   ],
   "metadata": {
    "collapsed": false,
    "ExecuteTime": {
     "end_time": "2024-08-28T18:27:30.961526Z",
     "start_time": "2024-08-28T18:27:30.947563Z"
    }
   },
   "id": "aa59d0a26f6b5333",
   "execution_count": 152
  },
  {
   "cell_type": "code",
   "outputs": [
    {
     "data": {
      "text/plain": "15"
     },
     "execution_count": 153,
     "metadata": {},
     "output_type": "execute_result"
    }
   ],
   "source": [
    "len(ts)"
   ],
   "metadata": {
    "collapsed": false,
    "ExecuteTime": {
     "end_time": "2024-08-28T18:27:46.363006Z",
     "start_time": "2024-08-28T18:27:46.345033Z"
    }
   },
   "id": "91cde2c3e3a42ce4",
   "execution_count": 153
  },
  {
   "cell_type": "code",
   "outputs": [
    {
     "data": {
      "text/plain": "15070.02"
     },
     "execution_count": 159,
     "metadata": {},
     "output_type": "execute_result"
    }
   ],
   "source": [
    "np.sum(np.array(ts) * np.arange(start=1, stop=16)) * 2"
   ],
   "metadata": {
    "collapsed": false,
    "ExecuteTime": {
     "end_time": "2024-08-28T18:30:19.653588Z",
     "start_time": "2024-08-28T18:30:19.635636Z"
    }
   },
   "id": "34606123471eaed0",
   "execution_count": 159
  },
  {
   "cell_type": "code",
   "outputs": [
    {
     "data": {
      "text/plain": "240"
     },
     "execution_count": 160,
     "metadata": {},
     "output_type": "execute_result"
    }
   ],
   "source": [
    "15*16"
   ],
   "metadata": {
    "collapsed": false,
    "ExecuteTime": {
     "end_time": "2024-08-28T18:30:47.452431Z",
     "start_time": "2024-08-28T18:30:47.434480Z"
    }
   },
   "id": "5efbf115a830ba72",
   "execution_count": 160
  },
  {
   "cell_type": "code",
   "outputs": [],
   "source": [
    "t = np.arange(1, 16)"
   ],
   "metadata": {
    "collapsed": false,
    "ExecuteTime": {
     "end_time": "2024-08-28T18:31:16.787058Z",
     "start_time": "2024-08-28T18:31:16.779079Z"
    }
   },
   "id": "97709783c8325ba7",
   "execution_count": 161
  },
  {
   "cell_type": "code",
   "outputs": [
    {
     "data": {
      "text/plain": "1240"
     },
     "execution_count": 163,
     "metadata": {},
     "output_type": "execute_result"
    }
   ],
   "source": [
    "np.sum(t**2)"
   ],
   "metadata": {
    "collapsed": false,
    "ExecuteTime": {
     "end_time": "2024-08-28T18:31:31.408848Z",
     "start_time": "2024-08-28T18:31:31.397878Z"
    }
   },
   "id": "13229cc652e617f2",
   "execution_count": 163
  },
  {
   "cell_type": "code",
   "outputs": [
    {
     "data": {
      "text/plain": "11663.36"
     },
     "execution_count": 164,
     "metadata": {},
     "output_type": "execute_result"
    }
   ],
   "source": [
    "8*1457.92"
   ],
   "metadata": {
    "collapsed": false,
    "ExecuteTime": {
     "end_time": "2024-08-28T18:33:57.940835Z",
     "start_time": "2024-08-28T18:33:57.930855Z"
    }
   },
   "id": "9dbbb76508ab019b",
   "execution_count": 164
  },
  {
   "cell_type": "code",
   "outputs": [
    {
     "data": {
      "text/plain": "1520"
     },
     "execution_count": 165,
     "metadata": {},
     "output_type": "execute_result"
    }
   ],
   "source": [
    "2480-960"
   ],
   "metadata": {
    "collapsed": false,
    "ExecuteTime": {
     "end_time": "2024-08-28T18:34:47.694127Z",
     "start_time": "2024-08-28T18:34:47.686148Z"
    }
   },
   "id": "3de9def1c36b660f",
   "execution_count": 165
  },
  {
   "cell_type": "code",
   "outputs": [
    {
     "data": {
      "text/plain": "3406.66"
     },
     "execution_count": 166,
     "metadata": {},
     "output_type": "execute_result"
    }
   ],
   "source": [
    "15070.02-11663.36"
   ],
   "metadata": {
    "collapsed": false,
    "ExecuteTime": {
     "end_time": "2024-08-28T18:35:10.599174Z",
     "start_time": "2024-08-28T18:35:10.582220Z"
    }
   },
   "id": "fa2454f024ae91eb",
   "execution_count": 166
  },
  {
   "cell_type": "code",
   "outputs": [
    {
     "data": {
      "text/plain": "2.241223684210526"
     },
     "execution_count": 167,
     "metadata": {},
     "output_type": "execute_result"
    }
   ],
   "source": [
    "3406.66/1520"
   ],
   "metadata": {
    "collapsed": false,
    "ExecuteTime": {
     "end_time": "2024-08-28T18:35:38.217886Z",
     "start_time": "2024-08-28T18:35:38.194919Z"
    }
   },
   "id": "78edc7c4e48c3626",
   "execution_count": 167
  },
  {
   "cell_type": "code",
   "outputs": [],
   "source": [
    "x = np.array((10, 12, 14, 15, 18, 20, 21, 23, 24, 26, 27, 29))"
   ],
   "metadata": {
    "collapsed": false,
    "ExecuteTime": {
     "end_time": "2024-08-28T19:33:06.167528Z",
     "start_time": "2024-08-28T19:33:06.151570Z"
    }
   },
   "id": "826c7d2dfde7b1b5",
   "execution_count": 168
  },
  {
   "cell_type": "code",
   "outputs": [
    {
     "data": {
      "text/plain": "239"
     },
     "execution_count": 169,
     "metadata": {},
     "output_type": "execute_result"
    }
   ],
   "source": [
    "x.sum()"
   ],
   "metadata": {
    "collapsed": false,
    "ExecuteTime": {
     "end_time": "2024-08-28T19:33:15.991619Z",
     "start_time": "2024-08-28T19:33:15.978654Z"
    }
   },
   "id": "f9c3f97643e2c383",
   "execution_count": 169
  },
  {
   "cell_type": "code",
   "outputs": [],
   "source": [
    "t = np.arange(1, len(x) + 1)"
   ],
   "metadata": {
    "collapsed": false,
    "ExecuteTime": {
     "end_time": "2024-08-28T19:33:46.307981Z",
     "start_time": "2024-08-28T19:33:46.299007Z"
    }
   },
   "id": "7e4932899c0d3026",
   "execution_count": 170
  },
  {
   "cell_type": "code",
   "outputs": [
    {
     "data": {
      "text/plain": "1798"
     },
     "execution_count": 172,
     "metadata": {},
     "output_type": "execute_result"
    }
   ],
   "source": [
    "np.sum(x*t)"
   ],
   "metadata": {
    "collapsed": false,
    "ExecuteTime": {
     "end_time": "2024-08-28T19:34:08.929803Z",
     "start_time": "2024-08-28T19:34:08.915840Z"
    }
   },
   "id": "eb5acc9a79daae1a",
   "execution_count": 172
  },
  {
   "cell_type": "code",
   "outputs": [
    {
     "data": {
      "text/plain": "1798"
     },
     "execution_count": 174,
     "metadata": {},
     "output_type": "execute_result"
    }
   ],
   "source": [
    "sum(x*t)"
   ],
   "metadata": {
    "collapsed": false,
    "ExecuteTime": {
     "end_time": "2024-08-28T19:38:33.358361Z",
     "start_time": "2024-08-28T19:38:33.350354Z"
    }
   },
   "id": "b3e34b9b395409e6",
   "execution_count": 174
  },
  {
   "cell_type": "code",
   "outputs": [
    {
     "name": "stdout",
     "output_type": "stream",
     "text": [
      "result = 10\n",
      "10 1\n",
      "result = 34\n",
      "12 2\n",
      "result = 76\n",
      "14 3\n",
      "result = 136\n",
      "15 4\n",
      "result = 226\n",
      "18 5\n",
      "result = 346\n",
      "20 6\n",
      "result = 493\n",
      "21 7\n",
      "result = 677\n",
      "23 8\n",
      "result = 893\n",
      "24 9\n",
      "result = 1153\n",
      "26 10\n",
      "result = 1450\n",
      "27 11\n",
      "result = 1798\n",
      "29 12\n"
     ]
    }
   ],
   "source": [
    "result = 0\n",
    "for a, b in zip(x, t):\n",
    "    result = result + a*b\n",
    "    print(f'result = {result}')    \n",
    "    print(a, b)"
   ],
   "metadata": {
    "collapsed": false,
    "ExecuteTime": {
     "end_time": "2024-08-28T19:42:07.663419Z",
     "start_time": "2024-08-28T19:42:07.647462Z"
    }
   },
   "id": "d6558d58c03ccc86",
   "execution_count": 176
  },
  {
   "cell_type": "code",
   "outputs": [],
   "source": [],
   "metadata": {
    "collapsed": false
   },
   "id": "d0fa49e1aaee826e"
  }
 ],
 "metadata": {
  "kernelspec": {
   "display_name": "Python 3",
   "language": "python",
   "name": "python3"
  },
  "language_info": {
   "codemirror_mode": {
    "name": "ipython",
    "version": 2
   },
   "file_extension": ".py",
   "mimetype": "text/x-python",
   "name": "python",
   "nbconvert_exporter": "python",
   "pygments_lexer": "ipython2",
   "version": "2.7.6"
  }
 },
 "nbformat": 4,
 "nbformat_minor": 5
}
