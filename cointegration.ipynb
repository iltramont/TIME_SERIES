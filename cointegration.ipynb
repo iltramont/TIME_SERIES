{
 "cells": [
  {
   "cell_type": "markdown",
   "id": "6b8cea8c",
   "metadata": {},
   "source": [
    "# Cointegration\n",
    "\n",
    "# Exercise 1\n",
    "In R, two series can be tested for cointegration using the **Phillips-Ouliaris**\n",
    "test implemented in the function **po.test** within the **tseries** library. \n",
    "\n",
    "The\n",
    "function requires the series be given in **matrix form** and produces the results\n",
    "for a test of the **null hypothesis that the two series are not cointegrated**. \n",
    "\n",
    "As an\n",
    "example, we simulate two cointegrated series x and y that share the stochastic\n",
    "trend $\\mu$ and test for cointegration using po.test:\n"
   ]
  },
  {
   "cell_type": "code",
   "execution_count": 1,
   "id": "e4cc732c",
   "metadata": {},
   "outputs": [
    {
     "name": "stderr",
     "output_type": "stream",
     "text": [
      "Registered S3 method overwritten by 'quantmod':\n",
      "  method            from\n",
      "  as.zoo.data.frame zoo \n",
      "\n"
     ]
    }
   ],
   "source": [
    "library(tseries)"
   ]
  },
  {
   "cell_type": "code",
   "execution_count": 2,
   "id": "3e48d669",
   "metadata": {},
   "outputs": [],
   "source": [
    "x <- y <- mu <- rep(0, 1000)\n",
    "for (i in 2:1000) mu[i] <- mu[i - 1] + rnorm(1)\n",
    "x <- mu + rnorm(1000)\n",
    "y <- mu + rnorm(1000)\n"
   ]
  },
  {
   "cell_type": "code",
   "execution_count": 3,
   "id": "ef344fd7",
   "metadata": {},
   "outputs": [
    {
     "data": {
      "text/html": [
       "0.492837549209025"
      ],
      "text/latex": [
       "0.492837549209025"
      ],
      "text/markdown": [
       "0.492837549209025"
      ],
      "text/plain": [
       "[1] 0.4928375"
      ]
     },
     "metadata": {},
     "output_type": "display_data"
    }
   ],
   "source": [
    "adf.test(x)$p.value"
   ]
  },
  {
   "cell_type": "code",
   "execution_count": 4,
   "id": "7fbdacba",
   "metadata": {},
   "outputs": [
    {
     "data": {
      "text/html": [
       "0.534372134175675"
      ],
      "text/latex": [
       "0.534372134175675"
      ],
      "text/markdown": [
       "0.534372134175675"
      ],
      "text/plain": [
       "[1] 0.5343721"
      ]
     },
     "metadata": {},
     "output_type": "display_data"
    }
   ],
   "source": [
    "adf.test(y)$p.value"
   ]
  },
  {
   "cell_type": "markdown",
   "id": "4cd8586f",
   "metadata": {},
   "source": [
    "we cannot reject $H_0$, therefore $x$ is not stationary. The same goes for *y* timeseries."
   ]
  },
  {
   "cell_type": "code",
   "execution_count": 5,
   "id": "8688701b",
   "metadata": {},
   "outputs": [
    {
     "name": "stderr",
     "output_type": "stream",
     "text": [
      "Warning message in po.test(cbind(x, y)):\n",
      "\"p-value smaller than printed p-value\"\n"
     ]
    },
    {
     "data": {
      "text/plain": [
       "\n",
       "\tPhillips-Ouliaris Cointegration Test\n",
       "\n",
       "data:  cbind(x, y)\n",
       "Phillips-Ouliaris demeaned = -986.03, Truncation lag parameter = 9,\n",
       "p-value = 0.01\n"
      ]
     },
     "metadata": {},
     "output_type": "display_data"
    }
   ],
   "source": [
    "po.test(cbind(x, y))"
   ]
  },
  {
   "cell_type": "markdown",
   "id": "df08552a",
   "metadata": {},
   "source": [
    "The po.test provides evidence\n",
    "that the series are cointegrated since the null hypothesis is rejected at the 1% level."
   ]
  },
  {
   "cell_type": "markdown",
   "id": "e4eec816",
   "metadata": {},
   "source": [
    "# Exercise 2"
   ]
  },
  {
   "cell_type": "markdown",
   "id": "e4422aca",
   "metadata": {},
   "source": [
    "# The daily exchange rate series for UK pounds, the Euro, and New Zealand dollars, \n",
    "given for the period January 2004 to December 2007,\n",
    "are all per US dollar is described by the dataset us_rates.dat.\n",
    "\n",
    "Since the United Kingdom is part of the European Economic Community (EEC),\n",
    "any change in the Euro exchange rate is likely to be apparent in the UK\n",
    "pound exchange rate, so there are likely to be fluctuations common to both\n",
    "series; in particular, the two series may share a common stochastic trend.\n"
   ]
  },
  {
   "cell_type": "code",
   "execution_count": 7,
   "id": "9b809df7",
   "metadata": {},
   "outputs": [
    {
     "data": {
      "text/html": [
       "<table class=\"dataframe\">\n",
       "<caption>A data.frame: 3 × 3</caption>\n",
       "<thead>\n",
       "\t<tr><th></th><th scope=col>UK</th><th scope=col>NZ</th><th scope=col>EU</th></tr>\n",
       "\t<tr><th></th><th scope=col>&lt;dbl&gt;</th><th scope=col>&lt;dbl&gt;</th><th scope=col>&lt;dbl&gt;</th></tr>\n",
       "</thead>\n",
       "<tbody>\n",
       "\t<tr><th scope=row>1</th><td>0.55834</td><td>1.5168</td><td>0.79419</td></tr>\n",
       "\t<tr><th scope=row>2</th><td>0.55288</td><td>1.4884</td><td>0.78860</td></tr>\n",
       "\t<tr><th scope=row>3</th><td>0.54803</td><td>1.4885</td><td>0.78284</td></tr>\n",
       "</tbody>\n",
       "</table>\n"
      ],
      "text/latex": [
       "A data.frame: 3 × 3\n",
       "\\begin{tabular}{r|lll}\n",
       "  & UK & NZ & EU\\\\\n",
       "  & <dbl> & <dbl> & <dbl>\\\\\n",
       "\\hline\n",
       "\t1 & 0.55834 & 1.5168 & 0.79419\\\\\n",
       "\t2 & 0.55288 & 1.4884 & 0.78860\\\\\n",
       "\t3 & 0.54803 & 1.4885 & 0.78284\\\\\n",
       "\\end{tabular}\n"
      ],
      "text/markdown": [
       "\n",
       "A data.frame: 3 × 3\n",
       "\n",
       "| <!--/--> | UK &lt;dbl&gt; | NZ &lt;dbl&gt; | EU &lt;dbl&gt; |\n",
       "|---|---|---|---|\n",
       "| 1 | 0.55834 | 1.5168 | 0.79419 |\n",
       "| 2 | 0.55288 | 1.4884 | 0.78860 |\n",
       "| 3 | 0.54803 | 1.4885 | 0.78284 |\n",
       "\n"
      ],
      "text/plain": [
       "  UK      NZ     EU     \n",
       "1 0.55834 1.5168 0.79419\n",
       "2 0.55288 1.4884 0.78860\n",
       "3 0.54803 1.4885 0.78284"
      ]
     },
     "metadata": {},
     "output_type": "display_data"
    }
   ],
   "source": [
    "file<-\"C:/users/Enric/Downloads/us_rates.dat\"\n",
    "\n",
    "xrates <- read.table(file, header = T)\n",
    "xrates[1:3,]"
   ]
  },
  {
   "cell_type": "markdown",
   "id": "03b731eb",
   "metadata": {},
   "source": [
    "The correlogram plots of the differenced UK and EU series indicate that both exchange rates can be well approximated by random\n",
    "walks "
   ]
  },
  {
   "cell_type": "code",
   "execution_count": 8,
   "id": "c3fd69d8",
   "metadata": {},
   "outputs": [
    {
     "data": {
      "image/png": "[encoded data removed]",
      "text/plain": [
       "Plot with title \"Series  diff(xrates$UK)\""
      ]
     },
     "metadata": {
      "image/png": {
       "height": 420,
       "width": 420
      }
     },
     "output_type": "display_data"
    },
    {
     "data": {
      "image/png": "[encoded data removed]",
      "text/plain": [
       "Plot with title \"Series  diff(xrates$EU)\""
      ]
     },
     "metadata": {
      "image/png": {
       "height": 420,
       "width": 420
      }
     },
     "output_type": "display_data"
    }
   ],
   "source": [
    "acf( diff(xrates$UK) )\n",
    "acf( diff(xrates$EU) )"
   ]
  },
  {
   "cell_type": "markdown",
   "id": "f5ccf049",
   "metadata": {},
   "source": [
    "whilst the scatter plot of the rates shows a strong linear\n",
    "relationship"
   ]
  },
  {
   "cell_type": "code",
   "execution_count": 9,
   "id": "eb4cb63c",
   "metadata": {},
   "outputs": [
    {
     "data": {
      "text/html": [
       "0.94621205968142"
      ],
      "text/latex": [
       "0.94621205968142"
      ],
      "text/markdown": [
       "0.94621205968142"
      ],
      "text/plain": [
       "[1] 0.9462121"
      ]
     },
     "metadata": {},
     "output_type": "display_data"
    },
    {
     "data": {
      "image/png": "[encoded data removed]",
      "text/plain": [
       "plot without title"
      ]
     },
     "metadata": {
      "image/png": {
       "height": 420,
       "width": 420
      }
     },
     "output_type": "display_data"
    }
   ],
   "source": [
    "plot(xrates$UK, xrates$EU, pch = 4)\n",
    "cor(xrates$UK, xrates$EU)"
   ]
  },
  {
   "cell_type": "markdown",
   "id": "1ae03d5a",
   "metadata": {},
   "source": [
    "## Phillips-Ouliaris cointegration test\n",
    "\n",
    "**The Phillips-Ouliaris test shows there is evidence that the series are\n",
    "cointegrated, which justifies the use of a regression model.**\n",
    "\n",
    "An **ARIMA model is then fitted to the residuals of the regression model**. \n",
    "\n",
    "The ar function is used to determine the best order of an AR process. We can investigate the adequacy of our cointegrated model by using R to fit a more general ARIMA process to the residuals.\n",
    "\n",
    "The best-fitting ARIMA model has d = 0, which is consistent with the residuals being a realisation of a stationary process and hence the series being cointegrated.\n",
    "\n"
   ]
  },
  {
   "cell_type": "code",
   "execution_count": 10,
   "id": "72eddf36",
   "metadata": {},
   "outputs": [
    {
     "data": {
      "text/plain": [
       "\n",
       "\tPhillips-Ouliaris Cointegration Test\n",
       "\n",
       "data:  cbind(xrates$UK, xrates$EU)\n",
       "Phillips-Ouliaris demeaned = -21.662, Truncation lag parameter = 10,\n",
       "p-value = 0.04118\n"
      ]
     },
     "metadata": {},
     "output_type": "display_data"
    }
   ],
   "source": [
    "po.test(cbind(xrates$UK, xrates$EU))"
   ]
  },
  {
   "cell_type": "code",
   "execution_count": 11,
   "id": "e0fa9cc1",
   "metadata": {},
   "outputs": [
    {
     "data": {
      "text/html": [
       "3"
      ],
      "text/latex": [
       "3"
      ],
      "text/markdown": [
       "3"
      ],
      "text/plain": [
       "[1] 3"
      ]
     },
     "metadata": {},
     "output_type": "display_data"
    }
   ],
   "source": [
    "ukeu.lm <- lm(xrates$UK ~ xrates$EU)\n",
    "\n",
    "ukeu.res <- resid(ukeu.lm)\n",
    "\n"
   ]
  },
  {
   "cell_type": "markdown",
   "id": "796a95df",
   "metadata": {},
   "source": [
    "# Order of AR model of the residuals via ar function"
   ]
  },
  {
   "cell_type": "code",
   "execution_count": 12,
   "id": "722abcbc",
   "metadata": {},
   "outputs": [
    {
     "data": {
      "text/html": [
       "3"
      ],
      "text/latex": [
       "3"
      ],
      "text/markdown": [
       "3"
      ],
      "text/plain": [
       "[1] 3"
      ]
     },
     "metadata": {},
     "output_type": "display_data"
    }
   ],
   "source": [
    "ukeu.res.ar <- ar(ukeu.res)\n",
    "ukeu.res.ar$order"
   ]
  },
  {
   "cell_type": "markdown",
   "id": "b5268456",
   "metadata": {},
   "source": [
    "# Improve the result, if possible, with AIC"
   ]
  },
  {
   "cell_type": "code",
   "execution_count": 13,
   "id": "b3181da9",
   "metadata": {},
   "outputs": [
    {
     "data": {
      "text/html": [
       "-9886.25976774003"
      ],
      "text/latex": [
       "-9886.25976774003"
      ],
      "text/markdown": [
       "-9886.25976774003"
      ],
      "text/plain": [
       "[1] -9886.26"
      ]
     },
     "metadata": {},
     "output_type": "display_data"
    }
   ],
   "source": [
    "AIC(arima(ukeu.res, order = c(3, 0, 0)))"
   ]
  },
  {
   "cell_type": "code",
   "execution_count": 14,
   "id": "f95a7f1c",
   "metadata": {},
   "outputs": [
    {
     "data": {
      "text/html": [
       "-9886.15739249784"
      ],
      "text/latex": [
       "-9886.15739249784"
      ],
      "text/markdown": [
       "-9886.15739249784"
      ],
      "text/plain": [
       "[1] -9886.157"
      ]
     },
     "metadata": {},
     "output_type": "display_data"
    }
   ],
   "source": [
    "AIC(arima(ukeu.res, order = c(2, 0, 0)))"
   ]
  },
  {
   "cell_type": "code",
   "execution_count": 15,
   "id": "66410665",
   "metadata": {},
   "outputs": [
    {
     "data": {
      "text/html": [
       "-9875.72309033367"
      ],
      "text/latex": [
       "-9875.72309033367"
      ],
      "text/markdown": [
       "-9875.72309033367"
      ],
      "text/plain": [
       "[1] -9875.723"
      ]
     },
     "metadata": {},
     "output_type": "display_data"
    }
   ],
   "source": [
    "AIC(arima(ukeu.res, order = c(1, 1, 0)))"
   ]
  },
  {
   "cell_type": "markdown",
   "id": "2e190125",
   "metadata": {},
   "source": [
    "Comparing the AICs for the AR(2) and AR(3) models, it is clear there is\n",
    "little difference and that the AR(2) model would be satisfactory. \n",
    "\n",
    "The example\n",
    "above also shows that the AR models provide a better fit to the residual\n",
    "series than the ARIMA(1, 1, 0) model, so the residual series may be treated\n",
    "as stationary. \n",
    "\n",
    "This supports the result of the Phillips-Ouliaris test since a\n",
    "linear combination of the two exchange rates, obtained from the regression\n",
    "model, has produced a residual series that appears to be a realisation of a\n",
    "stationary process.\n",
    "\n"
   ]
  },
  {
   "cell_type": "code",
   "execution_count": null,
   "id": "f4dce766",
   "metadata": {},
   "outputs": [],
   "source": []
  }
 ],
 "metadata": {
  "kernelspec": {
   "display_name": "R",
   "language": "R",
   "name": "ir"
  },
  "language_info": {
   "codemirror_mode": "r",
   "file_extension": ".r",
   "mimetype": "text/x-r-source",
   "name": "R",
   "pygments_lexer": "r",
   "version": "4.3.2"
  }
 },
 "nbformat": 4,
 "nbformat_minor": 5
}
